{
 "cells": [
  {
   "cell_type": "code",
   "execution_count": 1,
   "id": "0baa6d6d",
   "metadata": {},
   "outputs": [],
   "source": [
    "# 라이브러리 정의\n",
    "from nltk.tokenize import sent_tokenize\n",
    "from nltk.tokenize import word_tokenize\n",
    "from nltk.corpus import stopwords"
   ]
  },
  {
   "cell_type": "code",
   "execution_count": 2,
   "id": "ec845eb3",
   "metadata": {},
   "outputs": [],
   "source": [
    "# 데이터 정의\n",
    "raw_text = \"\"\"A barber is a person. a barber is good person. \n",
    "a barber is huge person. he Knew A Secret! The Secret He Kept \n",
    "is huge secret. Huge secret. His barber kept his word. \n",
    "a barber kept his word. His barber kept his secret. \n",
    "But keeping and keeping such a huge secret to himself was \n",
    "driving the barber crazy. the barber went up a huge mountain.\"\"\""
   ]
  },
  {
   "cell_type": "code",
   "execution_count": 3,
   "id": "c4ca3c6a",
   "metadata": {},
   "outputs": [
    {
     "name": "stdout",
     "output_type": "stream",
     "text": [
      "['A barber is a person.', 'a barber is good person.', 'a barber is huge person.', 'he Knew A Secret!', 'The Secret He Kept \\nis huge secret.', 'Huge secret.', 'His barber kept his word.', 'a barber kept his word.', 'His barber kept his secret.', 'But keeping and keeping such a huge secret to himself was \\ndriving the barber crazy.', 'the barber went up a huge mountain.']\n"
     ]
    }
   ],
   "source": [
    "# 문장 토큰화 처리\n",
    "# 문장 단위로 분리하기\n",
    "# 점(.) 마침표를 기준으로 문장 분리\n",
    "sentences = sent_tokenize(raw_text)\n",
    "print(sentences)"
   ]
  },
  {
   "cell_type": "code",
   "execution_count": 4,
   "id": "27923f99",
   "metadata": {},
   "outputs": [
    {
     "name": "stdout",
     "output_type": "stream",
     "text": [
      "{'yours', 'each', \"hasn't\", 'doesn', 'me', \"don't\", 'hers', 'them', 'as', 'here', 'has', 'themselves', 'shouldn', 'over', 'for', 'isn', 'not', 're', 'their', 'again', \"isn't\", 'in', 'itself', \"she's\", \"you'd\", 'is', 'too', \"shouldn't\", 'than', 'couldn', 'through', 'no', 'by', 'am', 'mustn', 'ma', 'down', 'aren', 'same', 'herself', \"won't\", 'we', 'have', \"mightn't\", 'doing', 'an', 'himself', 'under', \"aren't\", 'they', \"mustn't\", 'do', \"should've\", 'ourselves', 'was', 'because', 'before', 'that', 'from', 'she', 'when', 'don', 'm', \"hadn't\", \"needn't\", 'other', 'the', 'below', 'should', 'ain', 'any', 'on', 'about', 'now', 'at', 'what', 'ours', 'nor', \"that'll\", \"you're\", 'but', 'his', \"shan't\", 'are', 'once', 'why', 'been', 'these', 'or', 'all', 'did', \"weren't\", 'where', \"you've\", 't', 'above', 'having', 'both', 'after', 'can', 'most', 'yourself', 'own', 'which', 'until', 'further', 'myself', 'haven', 'mightn', 'more', 'its', 'hasn', 'such', 'theirs', 'off', 'so', \"wouldn't\", 'during', 'my', 'needn', 'wouldn', 'of', 'very', 'whom', 'be', 'won', 'then', 'll', 'you', 'y', \"didn't\", \"wasn't\", 'our', 'this', 'some', 'him', 've', 'shan', 'while', 's', 'to', 'just', 'does', 'weren', 'had', 'between', 'those', 'it', 'who', 'out', 'only', 'were', 'there', 'will', 'her', \"you'll\", 'and', 'yourselves', 'into', 'didn', 'up', \"doesn't\", 'being', 'hadn', \"it's\", 'wasn', 'o', 'd', 'he', 'against', \"couldn't\", 'i', 'with', 'few', 'how', 'if', 'your', 'a', \"haven't\"}\n"
     ]
    }
   ],
   "source": [
    "### 불용어 처리를 위한 영어 불용어 리스트 가지고 오기\n",
    "stop_words = set(stopwords.words(\"english\"))\n",
    "print(stop_words)"
   ]
  },
  {
   "cell_type": "code",
   "execution_count": 16,
   "id": "7deada7b",
   "metadata": {
    "scrolled": true
   },
   "outputs": [
    {
     "name": "stdout",
     "output_type": "stream",
     "text": [
      "A barber is a person.\n",
      "단어 토큰화 처리 결과 : ['A', 'barber', 'is', 'a', 'person', '.']\n",
      "각 문장별 처리 결과 : [['barber', 'person']]\n",
      "단어 빈도 수 : {'barber': 1, 'person': 1}\n",
      "a barber is good person.\n",
      "단어 토큰화 처리 결과 : ['a', 'barber', 'is', 'good', 'person', '.']\n",
      "각 문장별 처리 결과 : [['barber', 'person'], ['barber', 'good', 'person']]\n",
      "단어 빈도 수 : {'barber': 2, 'person': 2, 'good': 1}\n",
      "a barber is huge person.\n",
      "단어 토큰화 처리 결과 : ['a', 'barber', 'is', 'huge', 'person', '.']\n",
      "각 문장별 처리 결과 : [['barber', 'person'], ['barber', 'good', 'person'], ['barber', 'huge', 'person']]\n",
      "단어 빈도 수 : {'barber': 3, 'person': 3, 'good': 1, 'huge': 1}\n",
      "he Knew A Secret!\n",
      "단어 토큰화 처리 결과 : ['he', 'Knew', 'A', 'Secret', '!']\n",
      "각 문장별 처리 결과 : [['barber', 'person'], ['barber', 'good', 'person'], ['barber', 'huge', 'person'], ['knew', 'secret']]\n",
      "단어 빈도 수 : {'barber': 3, 'person': 3, 'good': 1, 'huge': 1, 'knew': 1, 'secret': 1}\n",
      "The Secret He Kept \n",
      "is huge secret.\n",
      "단어 토큰화 처리 결과 : ['The', 'Secret', 'He', 'Kept', 'is', 'huge', 'secret', '.']\n",
      "각 문장별 처리 결과 : [['barber', 'person'], ['barber', 'good', 'person'], ['barber', 'huge', 'person'], ['knew', 'secret'], ['secret', 'kept', 'huge', 'secret']]\n",
      "단어 빈도 수 : {'barber': 3, 'person': 3, 'good': 1, 'huge': 2, 'knew': 1, 'secret': 3, 'kept': 1}\n",
      "Huge secret.\n",
      "단어 토큰화 처리 결과 : ['Huge', 'secret', '.']\n",
      "각 문장별 처리 결과 : [['barber', 'person'], ['barber', 'good', 'person'], ['barber', 'huge', 'person'], ['knew', 'secret'], ['secret', 'kept', 'huge', 'secret'], ['huge', 'secret']]\n",
      "단어 빈도 수 : {'barber': 3, 'person': 3, 'good': 1, 'huge': 3, 'knew': 1, 'secret': 4, 'kept': 1}\n",
      "His barber kept his word.\n",
      "단어 토큰화 처리 결과 : ['His', 'barber', 'kept', 'his', 'word', '.']\n",
      "각 문장별 처리 결과 : [['barber', 'person'], ['barber', 'good', 'person'], ['barber', 'huge', 'person'], ['knew', 'secret'], ['secret', 'kept', 'huge', 'secret'], ['huge', 'secret'], ['barber', 'kept', 'word']]\n",
      "단어 빈도 수 : {'barber': 4, 'person': 3, 'good': 1, 'huge': 3, 'knew': 1, 'secret': 4, 'kept': 2, 'word': 1}\n",
      "a barber kept his word.\n",
      "단어 토큰화 처리 결과 : ['a', 'barber', 'kept', 'his', 'word', '.']\n",
      "각 문장별 처리 결과 : [['barber', 'person'], ['barber', 'good', 'person'], ['barber', 'huge', 'person'], ['knew', 'secret'], ['secret', 'kept', 'huge', 'secret'], ['huge', 'secret'], ['barber', 'kept', 'word'], ['barber', 'kept', 'word']]\n",
      "단어 빈도 수 : {'barber': 5, 'person': 3, 'good': 1, 'huge': 3, 'knew': 1, 'secret': 4, 'kept': 3, 'word': 2}\n",
      "His barber kept his secret.\n",
      "단어 토큰화 처리 결과 : ['His', 'barber', 'kept', 'his', 'secret', '.']\n",
      "각 문장별 처리 결과 : [['barber', 'person'], ['barber', 'good', 'person'], ['barber', 'huge', 'person'], ['knew', 'secret'], ['secret', 'kept', 'huge', 'secret'], ['huge', 'secret'], ['barber', 'kept', 'word'], ['barber', 'kept', 'word'], ['barber', 'kept', 'secret']]\n",
      "단어 빈도 수 : {'barber': 6, 'person': 3, 'good': 1, 'huge': 3, 'knew': 1, 'secret': 5, 'kept': 4, 'word': 2}\n",
      "But keeping and keeping such a huge secret to himself was \n",
      "driving the barber crazy.\n",
      "단어 토큰화 처리 결과 : ['But', 'keeping', 'and', 'keeping', 'such', 'a', 'huge', 'secret', 'to', 'himself', 'was', 'driving', 'the', 'barber', 'crazy', '.']\n",
      "각 문장별 처리 결과 : [['barber', 'person'], ['barber', 'good', 'person'], ['barber', 'huge', 'person'], ['knew', 'secret'], ['secret', 'kept', 'huge', 'secret'], ['huge', 'secret'], ['barber', 'kept', 'word'], ['barber', 'kept', 'word'], ['barber', 'kept', 'secret'], ['keeping', 'keeping', 'huge', 'secret', 'driving', 'barber', 'crazy']]\n",
      "단어 빈도 수 : {'barber': 7, 'person': 3, 'good': 1, 'huge': 4, 'knew': 1, 'secret': 6, 'kept': 4, 'word': 2, 'keeping': 2, 'driving': 1, 'crazy': 1}\n",
      "the barber went up a huge mountain.\n",
      "단어 토큰화 처리 결과 : ['the', 'barber', 'went', 'up', 'a', 'huge', 'mountain', '.']\n",
      "각 문장별 처리 결과 : [['barber', 'person'], ['barber', 'good', 'person'], ['barber', 'huge', 'person'], ['knew', 'secret'], ['secret', 'kept', 'huge', 'secret'], ['huge', 'secret'], ['barber', 'kept', 'word'], ['barber', 'kept', 'word'], ['barber', 'kept', 'secret'], ['keeping', 'keeping', 'huge', 'secret', 'driving', 'barber', 'crazy'], ['barber', 'went', 'huge', 'mountain']]\n",
      "단어 빈도 수 : {'barber': 8, 'person': 3, 'good': 1, 'huge': 5, 'knew': 1, 'secret': 6, 'kept': 4, 'word': 2, 'keeping': 2, 'driving': 1, 'crazy': 1, 'went': 1, 'mountain': 1}\n"
     ]
    }
   ],
   "source": [
    "### 단어 토큰화(분리) 하기\n",
    "# - 단어 토큰화를 진행하면서 불용어 처리까지 함께 진행\n",
    "# - 단어 빈도수까지 함께 진행\n",
    "\n",
    "### 단어 빈도수 저장 변수 정의\n",
    "vocab = {}\n",
    "\n",
    "### 문장별 단어 토큰화 결과 저장 변수\n",
    "preprocessed_sentences = []\n",
    "\n",
    "### 문장 토큰화 내용을 반복하면서 처리\n",
    "# - 단어 토큰화, 정제 및 정규화, 단어빈도수 처리를 함께 처리\n",
    "for sentence in sentences :\n",
    "    print(sentence)\n",
    "    \n",
    "    ### 단어 토큰화 처리하기\n",
    "    tokenized_sentence = word_tokenize(sentence)\n",
    "    print(\"단어 토큰화 처리 결과 :\", tokenized_sentence)\n",
    "    \n",
    "    ### 각 문장별로 처리된 단어들의 결과를 담을 변수 정의\n",
    "    result = []\n",
    "    \n",
    "    ### 단어 토큰(분리)한 리스트 반복해서 전처리 수행하기\n",
    "    for word in tokenized_sentence :\n",
    "        #print(word)\n",
    "        ### 모든 단어를 소문자로 변환하기\n",
    "        word = word.lower()\n",
    "        \n",
    "        ### 불용어 처리하기\n",
    "        if word not in stop_words :\n",
    "            ### 단어 길이가 2이하인 경우에는 제거하기\n",
    "            if len(word) > 2 :\n",
    "                ### 위 조건에 모두 만족하면 result 변수에 추가하기\n",
    "                result.append(word)\n",
    "                \n",
    "                ### 단어빈도 수 계산하기\n",
    "                # 해당 단어가 vocab 딕셔너리에 없다면\n",
    "                # 0값으로 셋팅하기 (key값을 생성시키기 위한 초기작업)\n",
    "                if word not in vocab :\n",
    "                    vocab[word] = 0\n",
    "                ### 1 증가시키기\n",
    "                vocab[word] += 1\n",
    "    ### 각 문장에 대한 전처리된 결과를 저장하기\n",
    "    preprocessed_sentences.append(result)\n",
    "    print(\"각 문장별 처리 결과 :\", preprocessed_sentences)\n",
    "    print(\"단어 빈도 수 :\", vocab)"
   ]
  },
  {
   "cell_type": "code",
   "execution_count": 17,
   "id": "2193f2bd",
   "metadata": {},
   "outputs": [
    {
     "name": "stdout",
     "output_type": "stream",
     "text": [
      "각 문장별 처리 결과 : [['barber', 'person'], ['barber', 'good', 'person'], ['barber', 'huge', 'person'], ['knew', 'secret'], ['secret', 'kept', 'huge', 'secret'], ['huge', 'secret'], ['barber', 'kept', 'word'], ['barber', 'kept', 'word'], ['barber', 'kept', 'secret'], ['keeping', 'keeping', 'huge', 'secret', 'driving', 'barber', 'crazy'], ['barber', 'went', 'huge', 'mountain']]\n",
      "단어 빈도 수 : {'barber': 8, 'person': 3, 'good': 1, 'huge': 5, 'knew': 1, 'secret': 6, 'kept': 4, 'word': 2, 'keeping': 2, 'driving': 1, 'crazy': 1, 'went': 1, 'mountain': 1}\n"
     ]
    }
   ],
   "source": [
    "print(\"각 문장별 처리 결과 :\", preprocessed_sentences)\n",
    "print(\"단어 빈도 수 :\", vocab)"
   ]
  },
  {
   "cell_type": "code",
   "execution_count": 18,
   "id": "8767b448",
   "metadata": {},
   "outputs": [
    {
     "data": {
      "text/plain": [
       "dict_items([('barber', 8), ('person', 3), ('good', 1), ('huge', 5), ('knew', 1), ('secret', 6), ('kept', 4), ('word', 2), ('keeping', 2), ('driving', 1), ('crazy', 1), ('went', 1), ('mountain', 1)])"
      ]
     },
     "execution_count": 18,
     "metadata": {},
     "output_type": "execute_result"
    }
   ],
   "source": [
    "vocab.items()"
   ]
  },
  {
   "cell_type": "code",
   "execution_count": 19,
   "id": "474bae7b",
   "metadata": {},
   "outputs": [
    {
     "name": "stdout",
     "output_type": "stream",
     "text": [
      "[('barber', 8), ('secret', 6), ('huge', 5), ('kept', 4), ('person', 3), ('word', 2), ('keeping', 2), ('good', 1), ('knew', 1), ('driving', 1), ('crazy', 1), ('went', 1), ('mountain', 1)]\n"
     ]
    }
   ],
   "source": [
    "# 빈도수가 높은 순서대로 정렬\n",
    "vocab_sorted = sorted(vocab.items(),\n",
    "                     key=lambda x:x[1],\n",
    "                     reverse=True)\n",
    "print(vocab_sorted)"
   ]
  },
  {
   "cell_type": "code",
   "execution_count": 36,
   "id": "68d9c331",
   "metadata": {},
   "outputs": [
    {
     "name": "stdout",
     "output_type": "stream",
     "text": [
      "{'barber': 1, 'secret': 2, 'huge': 3, 'kept': 4, 'person': 5, 'word': 6, 'keeping': 7}\n"
     ]
    }
   ],
   "source": [
    "# 정수 인코딩 하기\n",
    "# 빈도가 높은 순서대로 1부터 부여\n",
    "# 정수인코딩된 최종 결과값을 담을 딕셔너리 변수 정의\n",
    "# 빈도가 1인것은 제외\n",
    "word_to_index = {}\n",
    "i = 0\n",
    "for (word, fre) in vocab_sorted:\n",
    "    # 빈도수가 1보다 큰 것에 대해서만 정수인코딩\n",
    "    if fre > 1:\n",
    "        i += 1\n",
    "        word_to_index[word] = i\n",
    "print(word_to_index)"
   ]
  },
  {
   "cell_type": "code",
   "execution_count": 41,
   "id": "4564a8a3",
   "metadata": {},
   "outputs": [
    {
     "name": "stdout",
     "output_type": "stream",
     "text": [
      "{'barber': 1, 'secret': 2, 'huge': 3, 'kept': 4, 'person': 5}\n"
     ]
    }
   ],
   "source": [
    "# 빈도수가 가장 높은 상위 5개만 추출\n",
    "temp = {}\n",
    "for (word, idx) in word_to_index.items():\n",
    "    if idx == 6:\n",
    "        break\n",
    "    temp[word] = idx\n",
    "word_to_index = temp\n",
    "print(word_to_index)"
   ]
  },
  {
   "cell_type": "code",
   "execution_count": 42,
   "id": "e8f21915",
   "metadata": {},
   "outputs": [
    {
     "name": "stdout",
     "output_type": "stream",
     "text": [
      "[['barber', 'person'], ['barber', 'good', 'person'], ['barber', 'huge', 'person'], ['knew', 'secret'], ['secret', 'kept', 'huge', 'secret'], ['huge', 'secret'], ['barber', 'kept', 'word'], ['barber', 'kept', 'word'], ['barber', 'kept', 'secret'], ['keeping', 'keeping', 'huge', 'secret', 'driving', 'barber', 'crazy'], ['barber', 'went', 'huge', 'mountain']]\n"
     ]
    }
   ],
   "source": [
    "# 단어 토큰화까지 되어있는 원본 확인\n",
    "print(preprocessed_sentences)"
   ]
  },
  {
   "cell_type": "code",
   "execution_count": 43,
   "id": "67c1941f",
   "metadata": {},
   "outputs": [
    {
     "name": "stdout",
     "output_type": "stream",
     "text": [
      "{'barber': 1, 'secret': 2, 'huge': 3, 'kept': 4, 'person': 5, '00V': 6}\n"
     ]
    }
   ],
   "source": [
    "# 단어 토큰화된 모든 단어들을 정수인코딩된 번호로 변환\n",
    "# 정수인코딩 데이터는 상위 5개만 있기 때문에 원본에 없는 단어들에게 번호를 부여하기 위해 임의 key와 value를 추가\n",
    "# 단어가 없는 것 : 00V(Out-Of-Vocabulary)\n",
    "word_to_index[\"00V\"] = len(word_to_index) + 1\n",
    "print(word_to_index)"
   ]
  },
  {
   "cell_type": "code",
   "execution_count": 81,
   "id": "a8021fc2",
   "metadata": {
    "scrolled": true
   },
   "outputs": [
    {
     "name": "stdout",
     "output_type": "stream",
     "text": [
      "['barber', 'person']\n",
      "[1, 5]\n",
      "['barber', 'good', 'person']\n",
      "[1, 6, 5]\n",
      "['barber', 'huge', 'person']\n",
      "[1, 3, 5]\n",
      "['knew', 'secret']\n",
      "[6, 2]\n",
      "['secret', 'kept', 'huge', 'secret']\n",
      "[2, 4, 3, 2]\n",
      "['huge', 'secret']\n",
      "[3, 2]\n",
      "['barber', 'kept', 'word']\n",
      "[1, 4, 6]\n",
      "['barber', 'kept', 'word']\n",
      "[1, 4, 6]\n",
      "['barber', 'kept', 'secret']\n",
      "[1, 4, 2]\n",
      "['keeping', 'keeping', 'huge', 'secret', 'driving', 'barber', 'crazy']\n",
      "[6, 6, 3, 2, 6, 1, 6]\n",
      "['barber', 'went', 'huge', 'mountain']\n",
      "[1, 6, 3, 6]\n"
     ]
    }
   ],
   "source": [
    "# 모든 단어들을 정수인코딩 번호로 변환\n",
    "encoded_sentences = []\n",
    "for sentence in preprocessed_sentences:\n",
    "    print(sentence)\n",
    "    \n",
    "    temp = []\n",
    "    for word in sentence:\n",
    "        try:\n",
    "            # print(word_to_index[word])\n",
    "            temp.append(word_to_index[word])\n",
    "        except:\n",
    "            # print(word_to_index[\"00V\"])\n",
    "            temp.append(word_to_index[\"00V\"])\n",
    "    print(temp)\n",
    "    encoded_sentences.append(temp)"
   ]
  },
  {
   "cell_type": "code",
   "execution_count": 82,
   "id": "f1b7ee57",
   "metadata": {},
   "outputs": [
    {
     "data": {
      "text/plain": [
       "[[1, 5],\n",
       " [1, 6, 5],\n",
       " [1, 3, 5],\n",
       " [6, 2],\n",
       " [2, 4, 3, 2],\n",
       " [3, 2],\n",
       " [1, 4, 6],\n",
       " [1, 4, 6],\n",
       " [1, 4, 2],\n",
       " [6, 6, 3, 2, 6, 1, 6],\n",
       " [1, 6, 3, 6]]"
      ]
     },
     "execution_count": 82,
     "metadata": {},
     "output_type": "execute_result"
    }
   ],
   "source": [
    "encoded_sentences"
   ]
  },
  {
   "cell_type": "code",
   "execution_count": 83,
   "id": "bb513ffd",
   "metadata": {},
   "outputs": [],
   "source": [
    "# 라이브러리\n",
    "from collections import Counter"
   ]
  },
  {
   "cell_type": "code",
   "execution_count": 84,
   "id": "9baa74ab",
   "metadata": {},
   "outputs": [
    {
     "name": "stdout",
     "output_type": "stream",
     "text": [
      "[['barber', 'person'], ['barber', 'good', 'person'], ['barber', 'huge', 'person'], ['knew', 'secret'], ['secret', 'kept', 'huge', 'secret'], ['huge', 'secret'], ['barber', 'kept', 'word'], ['barber', 'kept', 'word'], ['barber', 'kept', 'secret'], ['keeping', 'keeping', 'huge', 'secret', 'driving', 'barber', 'crazy'], ['barber', 'went', 'huge', 'mountain']]\n"
     ]
    }
   ],
   "source": [
    "# 원본 데이터 확인\n",
    "print(preprocessed_sentences)"
   ]
  },
  {
   "cell_type": "code",
   "execution_count": 88,
   "id": "bd89863f",
   "metadata": {},
   "outputs": [
    {
     "name": "stdout",
     "output_type": "stream",
     "text": [
      "['barber', 'person', 'barber', 'good', 'person', 'barber', 'huge', 'person', 'knew', 'secret', 'secret', 'kept', 'huge', 'secret', 'huge', 'secret', 'barber', 'kept', 'word', 'barber', 'kept', 'word', 'barber', 'kept', 'secret', 'keeping', 'keeping', 'huge', 'secret', 'driving', 'barber', 'crazy', 'barber', 'went', 'huge', 'mountain']\n"
     ]
    }
   ],
   "source": [
    "# Counter 객체를 사용하기 위해서는 하나의 리스트에 모든단어를 담아야한다\n",
    "all_word_list = []\n",
    "for i,v in enumerate(preprocessed_sentences):\n",
    "    for j in v:\n",
    "        all_word_list.append(j)\n",
    "print(all_word_list)"
   ]
  },
  {
   "cell_type": "code",
   "execution_count": 89,
   "id": "9642131d",
   "metadata": {
    "scrolled": true
   },
   "outputs": [
    {
     "data": {
      "text/plain": [
       "['barber',\n",
       " 'person',\n",
       " 'barber',\n",
       " 'good',\n",
       " 'person',\n",
       " 'barber',\n",
       " 'huge',\n",
       " 'person',\n",
       " 'knew',\n",
       " 'secret',\n",
       " 'secret',\n",
       " 'kept',\n",
       " 'huge',\n",
       " 'secret',\n",
       " 'huge',\n",
       " 'secret',\n",
       " 'barber',\n",
       " 'kept',\n",
       " 'word',\n",
       " 'barber',\n",
       " 'kept',\n",
       " 'word',\n",
       " 'barber',\n",
       " 'kept',\n",
       " 'secret',\n",
       " 'keeping',\n",
       " 'keeping',\n",
       " 'huge',\n",
       " 'secret',\n",
       " 'driving',\n",
       " 'barber',\n",
       " 'crazy',\n",
       " 'barber',\n",
       " 'went',\n",
       " 'huge',\n",
       " 'mountain']"
      ]
     },
     "execution_count": 89,
     "metadata": {},
     "output_type": "execute_result"
    }
   ],
   "source": [
    "all_word_list = sum(preprocessed_sentences, [])\n",
    "all_word_list"
   ]
  },
  {
   "cell_type": "code",
   "execution_count": 90,
   "id": "3763e01f",
   "metadata": {},
   "outputs": [
    {
     "name": "stdout",
     "output_type": "stream",
     "text": [
      "Counter({'barber': 8, 'secret': 6, 'huge': 5, 'kept': 4, 'person': 3, 'word': 2, 'keeping': 2, 'good': 1, 'knew': 1, 'driving': 1, 'crazy': 1, 'went': 1, 'mountain': 1})\n"
     ]
    }
   ],
   "source": [
    "# 단어빈도수 count\n",
    "vocab = Counter(all_word_list)\n",
    "print(vocab)"
   ]
  },
  {
   "cell_type": "code",
   "execution_count": 91,
   "id": "36e9c4e9",
   "metadata": {},
   "outputs": [
    {
     "name": "stdout",
     "output_type": "stream",
     "text": [
      "[('barber', 8), ('secret', 6), ('huge', 5), ('kept', 4), ('person', 3)]\n"
     ]
    }
   ],
   "source": [
    "# 단어빈도가 높은 상위 5개 추출\n",
    "vocab = vocab.most_common(5)\n",
    "print(vocab)"
   ]
  },
  {
   "cell_type": "code",
   "execution_count": 92,
   "id": "87d91ab9",
   "metadata": {},
   "outputs": [
    {
     "name": "stdout",
     "output_type": "stream",
     "text": [
      "{'barber': 1, 'secret': 2, 'huge': 3, 'kept': 4, 'person': 5}\n"
     ]
    }
   ],
   "source": [
    "# 정수 인코딩 하기\n",
    "word_to_index = {}\n",
    "i = 0\n",
    "for (word, fre) in vocab:\n",
    "    i += 1\n",
    "    word_to_index[word] = i\n",
    "print(word_to_index)"
   ]
  },
  {
   "cell_type": "code",
   "execution_count": 93,
   "id": "e6122dd2",
   "metadata": {},
   "outputs": [
    {
     "name": "stdout",
     "output_type": "stream",
     "text": [
      "[['barber', 'person'], ['barber', 'good', 'person'], ['barber', 'huge', 'person'], ['knew', 'secret'], ['secret', 'kept', 'huge', 'secret'], ['huge', 'secret'], ['barber', 'kept', 'word'], ['barber', 'kept', 'word'], ['barber', 'kept', 'secret'], ['keeping', 'keeping', 'huge', 'secret', 'driving', 'barber', 'crazy'], ['barber', 'went', 'huge', 'mountain']]\n"
     ]
    }
   ],
   "source": [
    "# FreqDist : nltk에서 제공해주는 빈도수 계산 함수\n",
    "# Counter와 유사\n",
    "\n",
    "# 라이브러리 정의\n",
    "from nltk import FreqDist\n",
    "import numpy as np\n",
    "\n",
    "# 원본 데이터 확인\n",
    "print(preprocessed_sentences)"
   ]
  },
  {
   "cell_type": "code",
   "execution_count": 94,
   "id": "5816af4b",
   "metadata": {},
   "outputs": [
    {
     "name": "stdout",
     "output_type": "stream",
     "text": [
      "<FreqDist with 13 samples and 36 outcomes>\n"
     ]
    }
   ],
   "source": [
    "# np.hstack() : 1차원 배열로 변환시키는 함수\n",
    "# FreqDist : 단어 빈도계산 처리\n",
    "vocab = FreqDist(np.hstack(preprocessed_sentences))\n",
    "print(vocab)"
   ]
  },
  {
   "cell_type": "code",
   "execution_count": 95,
   "id": "f55b5538",
   "metadata": {},
   "outputs": [
    {
     "data": {
      "text/plain": [
       "<bound method Counter.elements of FreqDist({'barber': 8, 'secret': 6, 'huge': 5, 'kept': 4, 'person': 3, 'word': 2, 'keeping': 2, 'good': 1, 'knew': 1, 'driving': 1, ...})>"
      ]
     },
     "execution_count": 95,
     "metadata": {},
     "output_type": "execute_result"
    }
   ],
   "source": [
    "# 단어 빈도수 조회\n",
    "vocab.elements"
   ]
  },
  {
   "cell_type": "code",
   "execution_count": 96,
   "id": "34aa3fa4",
   "metadata": {},
   "outputs": [
    {
     "name": "stdout",
     "output_type": "stream",
     "text": [
      "[('barber', 8), ('secret', 6), ('huge', 5), ('kept', 4), ('person', 3)]\n"
     ]
    }
   ],
   "source": [
    "# 빈도수가 높은 상위 5개 추출\n",
    "vocab = vocab.most_common(5)\n",
    "print(vocab)"
   ]
  },
  {
   "cell_type": "code",
   "execution_count": 97,
   "id": "d447df9f",
   "metadata": {},
   "outputs": [
    {
     "name": "stdout",
     "output_type": "stream",
     "text": [
      "{'barber': 1, 'secret': 2, 'huge': 3, 'kept': 4, 'person': 5}\n"
     ]
    }
   ],
   "source": [
    "# 정수 인코딩 하기\n",
    "word_to_index = {}\n",
    "i = 0\n",
    "for (word, fre) in vocab:\n",
    "    i += 1\n",
    "    word_to_index[word] = i\n",
    "print(word_to_index)"
   ]
  },
  {
   "cell_type": "code",
   "execution_count": 98,
   "id": "f24fbc4f",
   "metadata": {},
   "outputs": [],
   "source": [
    "# 케라스의 전처리 라이브러리 사용\n",
    "# 라이브러리 정의\n",
    "from tensorflow.keras.preprocessing.text import Tokenizer"
   ]
  },
  {
   "cell_type": "code",
   "execution_count": 99,
   "id": "1433982f",
   "metadata": {},
   "outputs": [
    {
     "name": "stdout",
     "output_type": "stream",
     "text": [
      "[['barber', 'person'], ['barber', 'good', 'person'], ['barber', 'huge', 'person'], ['knew', 'secret'], ['secret', 'kept', 'huge', 'secret'], ['huge', 'secret'], ['barber', 'kept', 'word'], ['barber', 'kept', 'word'], ['barber', 'kept', 'secret'], ['keeping', 'keeping', 'huge', 'secret', 'driving', 'barber', 'crazy'], ['barber', 'went', 'huge', 'mountain']]\n"
     ]
    }
   ],
   "source": [
    "# 원본 데이터 확인\n",
    "print(preprocessed_sentences)"
   ]
  },
  {
   "cell_type": "code",
   "execution_count": 100,
   "id": "94799e46",
   "metadata": {},
   "outputs": [],
   "source": [
    "# 토큰화 객체 생성\n",
    "tokenizer = Tokenizer()\n",
    "\n",
    "# fit_on_texts() : 단어 빈도수 계산 및 내림차순 정렬\n",
    "# 정수인코딩까지 모두 수행\n",
    "tokenizer.fit_on_texts(preprocessed_sentences)"
   ]
  },
  {
   "cell_type": "code",
   "execution_count": 101,
   "id": "c80c2234",
   "metadata": {},
   "outputs": [
    {
     "name": "stdout",
     "output_type": "stream",
     "text": [
      "OrderedDict([('barber', 8), ('person', 3), ('good', 1), ('huge', 5), ('knew', 1), ('secret', 6), ('kept', 4), ('word', 2), ('keeping', 2), ('driving', 1), ('crazy', 1), ('went', 1), ('mountain', 1)])\n"
     ]
    }
   ],
   "source": [
    "# 단어빈도수 조회\n",
    "print(tokenizer.word_counts)"
   ]
  },
  {
   "cell_type": "code",
   "execution_count": 102,
   "id": "d3f7b09f",
   "metadata": {},
   "outputs": [
    {
     "name": "stdout",
     "output_type": "stream",
     "text": [
      "{'barber': 1, 'secret': 2, 'huge': 3, 'kept': 4, 'person': 5, 'word': 6, 'keeping': 7, 'good': 8, 'knew': 9, 'driving': 10, 'crazy': 11, 'went': 12, 'mountain': 13}\n"
     ]
    }
   ],
   "source": [
    "# 정수인코딩 데이터 조회\n",
    "print(tokenizer.word_index)"
   ]
  },
  {
   "cell_type": "code",
   "execution_count": 103,
   "id": "8f574568",
   "metadata": {},
   "outputs": [
    {
     "name": "stdout",
     "output_type": "stream",
     "text": [
      "[[1, 5], [1, 8, 5], [1, 3, 5], [9, 2], [2, 4, 3, 2], [3, 2], [1, 4, 6], [1, 4, 6], [1, 4, 2], [7, 7, 3, 2, 10, 1, 11], [1, 12, 3, 13]]\n"
     ]
    }
   ],
   "source": [
    "# 원본데이터를 정수로 변환\n",
    "print(tokenizer.texts_to_sequences(preprocessed_sentences))"
   ]
  },
  {
   "cell_type": "code",
   "execution_count": null,
   "id": "ae4b2078",
   "metadata": {},
   "outputs": [],
   "source": [
    "# 뽑을 데이터 개수\n",
    "tokenizer = Tokenizer(num_words=6)"
   ]
  },
  {
   "cell_type": "code",
   "execution_count": null,
   "id": "91ebe28a",
   "metadata": {},
   "outputs": [],
   "source": []
  },
  {
   "cell_type": "code",
   "execution_count": null,
   "id": "2922160f",
   "metadata": {},
   "outputs": [],
   "source": []
  },
  {
   "cell_type": "code",
   "execution_count": null,
   "id": "a97c27e1",
   "metadata": {},
   "outputs": [],
   "source": []
  },
  {
   "cell_type": "code",
   "execution_count": null,
   "id": "02296280",
   "metadata": {},
   "outputs": [],
   "source": []
  },
  {
   "cell_type": "code",
   "execution_count": null,
   "id": "75ea9d12",
   "metadata": {},
   "outputs": [],
   "source": []
  },
  {
   "cell_type": "code",
   "execution_count": null,
   "id": "38f5e0fc",
   "metadata": {},
   "outputs": [],
   "source": []
  },
  {
   "cell_type": "code",
   "execution_count": null,
   "id": "908b77b2",
   "metadata": {},
   "outputs": [],
   "source": []
  },
  {
   "cell_type": "code",
   "execution_count": null,
   "id": "04fddee1",
   "metadata": {},
   "outputs": [],
   "source": []
  },
  {
   "cell_type": "code",
   "execution_count": null,
   "id": "07e9f124",
   "metadata": {},
   "outputs": [],
   "source": []
  },
  {
   "cell_type": "code",
   "execution_count": null,
   "id": "98f0c982",
   "metadata": {},
   "outputs": [],
   "source": []
  },
  {
   "cell_type": "code",
   "execution_count": null,
   "id": "1180a2ad",
   "metadata": {},
   "outputs": [],
   "source": []
  },
  {
   "cell_type": "code",
   "execution_count": null,
   "id": "876703c0",
   "metadata": {},
   "outputs": [],
   "source": []
  },
  {
   "cell_type": "code",
   "execution_count": null,
   "id": "99999089",
   "metadata": {},
   "outputs": [],
   "source": []
  },
  {
   "cell_type": "code",
   "execution_count": null,
   "id": "353b35e2",
   "metadata": {},
   "outputs": [],
   "source": []
  },
  {
   "cell_type": "code",
   "execution_count": null,
   "id": "97b8296f",
   "metadata": {},
   "outputs": [],
   "source": []
  },
  {
   "cell_type": "code",
   "execution_count": null,
   "id": "58b8284e",
   "metadata": {},
   "outputs": [],
   "source": []
  },
  {
   "cell_type": "code",
   "execution_count": null,
   "id": "97561896",
   "metadata": {},
   "outputs": [],
   "source": []
  }
 ],
 "metadata": {
  "kernelspec": {
   "display_name": "pknu_nltk_kernel",
   "language": "python",
   "name": "pknu_nltk"
  },
  "language_info": {
   "codemirror_mode": {
    "name": "ipython",
    "version": 3
   },
   "file_extension": ".py",
   "mimetype": "text/x-python",
   "name": "python",
   "nbconvert_exporter": "python",
   "pygments_lexer": "ipython3",
   "version": "3.9.16"
  }
 },
 "nbformat": 4,
 "nbformat_minor": 5
}
