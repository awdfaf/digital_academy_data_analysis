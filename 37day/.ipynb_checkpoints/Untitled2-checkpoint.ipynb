{
 "cells": [
  {
   "cell_type": "code",
   "execution_count": 1,
   "id": "37fdfd16",
   "metadata": {},
   "outputs": [],
   "source": [
    "# 라이브러리 정의\n",
    "# 형태소분석기 사용\n",
    "from konlpy.tag import Okt"
   ]
  },
  {
   "cell_type": "code",
   "execution_count": 2,
   "id": "82a62f40",
   "metadata": {},
   "outputs": [],
   "source": [
    "# 객체 생성\n",
    "okt = Okt()"
   ]
  },
  {
   "cell_type": "code",
   "execution_count": 3,
   "id": "e186c91f",
   "metadata": {},
   "outputs": [],
   "source": [
    "# 데이터 정의\n",
    "text = \"나는 자연어 처리를 배운다\""
   ]
  },
  {
   "cell_type": "code",
   "execution_count": 4,
   "id": "1459296b",
   "metadata": {},
   "outputs": [
    {
     "name": "stdout",
     "output_type": "stream",
     "text": [
      "['나', '는', '자연어', '처리', '를', '배운다']\n"
     ]
    }
   ],
   "source": [
    "# 단어 토큰화하기\n",
    "# 형태소분석\n",
    "tokens = okt.morphs(text)\n",
    "print(tokens)"
   ]
  },
  {
   "cell_type": "code",
   "execution_count": 13,
   "id": "d2aaaa98",
   "metadata": {},
   "outputs": [
    {
     "name": "stdout",
     "output_type": "stream",
     "text": [
      "{'나': 0, '는': 1, '자연어': 2, '처리': 3, '를': 4, '배운다': 5}\n"
     ]
    }
   ],
   "source": [
    "# 정수 인코딩된 단어집합 생성\n",
    "word_to_index = {}\n",
    "for i,word in enumerate(tokens):\n",
    "        word_to_index[word] = i\n",
    "print(word_to_index)"
   ]
  },
  {
   "cell_type": "code",
   "execution_count": 18,
   "id": "5043fa88",
   "metadata": {},
   "outputs": [],
   "source": [
    "word_to_index = {word : index for index, word in enumerate(tokens)}"
   ]
  },
  {
   "cell_type": "code",
   "execution_count": 6,
   "id": "48f4acd2",
   "metadata": {},
   "outputs": [
    {
     "name": "stdout",
     "output_type": "stream",
     "text": [
      "[0, 0, 0, 0, 0, 0]\n"
     ]
    }
   ],
   "source": [
    "# 원-핫 인코딩하기\n",
    "# 원-핫 인코딩할 단어 정의\n",
    "word = \"자연어\"\n",
    "\n",
    "# 단어집합의 리스트 사이즈만큼 0으로 채운 빈 리스트 생성\n",
    "one_hot_vector = [0]*(len(word_to_index))\n",
    "print(one_hot_vector)"
   ]
  },
  {
   "cell_type": "code",
   "execution_count": 7,
   "id": "8191d10d",
   "metadata": {},
   "outputs": [
    {
     "name": "stdout",
     "output_type": "stream",
     "text": [
      "2\n"
     ]
    }
   ],
   "source": [
    "# 원-핫 인코딩할 단어값(word)을 key로해 정수값 value 조회\n",
    "index = word_to_index[word]\n",
    "print(index)"
   ]
  },
  {
   "cell_type": "code",
   "execution_count": 9,
   "id": "5cbfdb47",
   "metadata": {},
   "outputs": [
    {
     "name": "stdout",
     "output_type": "stream",
     "text": [
      "[0, 0, 1, 0, 0, 0]\n"
     ]
    }
   ],
   "source": [
    "### 빈 리스트의 index 위치의 값을 1로 수정하기\n",
    "one_hot_vector[index] = 1\n",
    "print(one_hot_vector)"
   ]
  },
  {
   "cell_type": "code",
   "execution_count": 25,
   "id": "cad573d7",
   "metadata": {},
   "outputs": [
    {
     "data": {
      "text/plain": [
       "[[1, 0, 0, 0, 0, 0],\n",
       " [0, 1, 0, 0, 0, 0],\n",
       " [0, 0, 1, 0, 0, 0],\n",
       " [0, 0, 0, 1, 0, 0],\n",
       " [0, 0, 0, 0, 1, 0],\n",
       " [0, 0, 0, 0, 0, 1]]"
      ]
     },
     "execution_count": 25,
     "metadata": {},
     "output_type": "execute_result"
    }
   ],
   "source": [
    "# 함수만들기\n",
    "# 함수이름 : one_hot_encoding\n",
    "# 6개 단어 수행\n",
    "# 최종 원-핫 인코딩 결과값 변수 : one_hot_data\n",
    "def one_hot_encoding(word_to_index):\n",
    "    one_hot_data = []\n",
    "    word_to_index_list = list(word_to_index.keys())\n",
    "    for word in word_to_index_list:\n",
    "        one_hot_vector = [0]*(len(word_to_index_list))\n",
    "        index = word_to_index[word]\n",
    "        one_hot_vector[index] = 1\n",
    "        one_hot_data.append(one_hot_vector)\n",
    "    return one_hot_data\n",
    "one_hot_encoding(word_to_index)"
   ]
  },
  {
   "cell_type": "code",
   "execution_count": 26,
   "id": "ab9bc0a4",
   "metadata": {},
   "outputs": [],
   "source": [
    "# keras의 원-핫 인코딩 라이브러리\n",
    "# to_categorical()\n",
    "# 라이브러리 정의\n",
    "from tensorflow.keras.preprocessing.text import Tokenizer\n",
    "from tensorflow.keras.utils import to_categorical"
   ]
  },
  {
   "cell_type": "code",
   "execution_count": 39,
   "id": "110f66d6",
   "metadata": {},
   "outputs": [],
   "source": [
    "# 데이터 정의\n",
    "text = \"나랑 점심 먹으러 갈래 점심 메뉴는 햄버거 갈래 갈래 햄버거 최고야\""
   ]
  },
  {
   "cell_type": "code",
   "execution_count": 43,
   "id": "4bef638b",
   "metadata": {},
   "outputs": [
    {
     "name": "stdout",
     "output_type": "stream",
     "text": [
      "{'갈래': 1, '점심': 2, '햄버거': 3, '나랑': 4, '먹으러': 5, '메뉴는': 6, '최고야': 7}\n",
      "[4, 2, 5, 1, 2, 6, 3, 1, 1, 3, 7]\n"
     ]
    }
   ],
   "source": [
    "# 정수인코딩(1부터 시작)\n",
    "\n",
    "# 토큰화 객체 생성\n",
    "tokenizer = Tokenizer()\n",
    "\n",
    "# fit_on_texts() : 단어 빈도수 계산 및 내림차순 정렬\n",
    "# 정수인코딩까지 모두 수행\n",
    "tokenizer.fit_on_texts([text])\n",
    "\n",
    "# 정수인코딩 데이터 조회\n",
    "print(tokenizer.word_index)\n",
    "\n",
    "# 원본 데이터를 정수값으로 변환\n",
    "encoded = tokenizer.texts_to_sequences([text])[0]\n",
    "print(encoded)"
   ]
  },
  {
   "cell_type": "code",
   "execution_count": 44,
   "id": "cde12a68",
   "metadata": {},
   "outputs": [
    {
     "name": "stdout",
     "output_type": "stream",
     "text": [
      "[[0. 0. 0. 0. 1. 0. 0. 0.]\n",
      " [0. 0. 1. 0. 0. 0. 0. 0.]\n",
      " [0. 0. 0. 0. 0. 1. 0. 0.]\n",
      " [0. 1. 0. 0. 0. 0. 0. 0.]\n",
      " [0. 0. 1. 0. 0. 0. 0. 0.]\n",
      " [0. 0. 0. 0. 0. 0. 1. 0.]\n",
      " [0. 0. 0. 1. 0. 0. 0. 0.]\n",
      " [0. 1. 0. 0. 0. 0. 0. 0.]\n",
      " [0. 1. 0. 0. 0. 0. 0. 0.]\n",
      " [0. 0. 0. 1. 0. 0. 0. 0.]\n",
      " [0. 0. 0. 0. 0. 0. 0. 1.]]\n"
     ]
    }
   ],
   "source": [
    "# 원-핫 인코딩\n",
    "one_hot = to_categorical(encoded)\n",
    "print(one_hot)"
   ]
  },
  {
   "cell_type": "code",
   "execution_count": null,
   "id": "d6612763",
   "metadata": {},
   "outputs": [],
   "source": []
  },
  {
   "cell_type": "code",
   "execution_count": null,
   "id": "0105e851",
   "metadata": {},
   "outputs": [],
   "source": []
  },
  {
   "cell_type": "code",
   "execution_count": null,
   "id": "73bd4c2f",
   "metadata": {},
   "outputs": [],
   "source": []
  },
  {
   "cell_type": "code",
   "execution_count": null,
   "id": "c49775d1",
   "metadata": {},
   "outputs": [],
   "source": []
  },
  {
   "cell_type": "code",
   "execution_count": null,
   "id": "a6847c60",
   "metadata": {},
   "outputs": [],
   "source": []
  },
  {
   "cell_type": "code",
   "execution_count": null,
   "id": "c37208d5",
   "metadata": {},
   "outputs": [],
   "source": []
  },
  {
   "cell_type": "code",
   "execution_count": null,
   "id": "e1d669dd",
   "metadata": {},
   "outputs": [],
   "source": []
  },
  {
   "cell_type": "code",
   "execution_count": null,
   "id": "06c5d44c",
   "metadata": {},
   "outputs": [],
   "source": []
  },
  {
   "cell_type": "code",
   "execution_count": null,
   "id": "be0ac011",
   "metadata": {},
   "outputs": [],
   "source": []
  },
  {
   "cell_type": "code",
   "execution_count": null,
   "id": "15ff9ab4",
   "metadata": {},
   "outputs": [],
   "source": []
  },
  {
   "cell_type": "code",
   "execution_count": null,
   "id": "7f281fbc",
   "metadata": {},
   "outputs": [],
   "source": []
  },
  {
   "cell_type": "code",
   "execution_count": null,
   "id": "9131b883",
   "metadata": {},
   "outputs": [],
   "source": []
  },
  {
   "cell_type": "code",
   "execution_count": null,
   "id": "05e59747",
   "metadata": {},
   "outputs": [],
   "source": []
  },
  {
   "cell_type": "code",
   "execution_count": null,
   "id": "21b5f18c",
   "metadata": {},
   "outputs": [],
   "source": []
  },
  {
   "cell_type": "code",
   "execution_count": null,
   "id": "33ffc02f",
   "metadata": {},
   "outputs": [],
   "source": []
  },
  {
   "cell_type": "code",
   "execution_count": null,
   "id": "97f3bed7",
   "metadata": {},
   "outputs": [],
   "source": []
  },
  {
   "cell_type": "code",
   "execution_count": null,
   "id": "19af4bd9",
   "metadata": {},
   "outputs": [],
   "source": []
  },
  {
   "cell_type": "code",
   "execution_count": null,
   "id": "ea8d2650",
   "metadata": {},
   "outputs": [],
   "source": []
  },
  {
   "cell_type": "code",
   "execution_count": null,
   "id": "15b01a16",
   "metadata": {},
   "outputs": [],
   "source": []
  }
 ],
 "metadata": {
  "kernelspec": {
   "display_name": "pknu_nltk_kernel",
   "language": "python",
   "name": "pknu_nltk"
  },
  "language_info": {
   "codemirror_mode": {
    "name": "ipython",
    "version": 3
   },
   "file_extension": ".py",
   "mimetype": "text/x-python",
   "name": "python",
   "nbconvert_exporter": "python",
   "pygments_lexer": "ipython3",
   "version": "3.9.16"
  }
 },
 "nbformat": 4,
 "nbformat_minor": 5
}
