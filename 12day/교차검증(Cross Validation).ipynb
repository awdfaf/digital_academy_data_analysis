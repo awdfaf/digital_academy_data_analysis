{
 "cells": [
  {
   "cell_type": "code",
   "execution_count": 66,
   "id": "038e3b64",
   "metadata": {},
   "outputs": [],
   "source": [
    "import pandas as pd\n",
    "import matplotlib as mpl\n",
    "import matplotlib.pylab as plt\n",
    "import seaborn as sns\n",
    "import numpy as np\n",
    "from sklearn.model_selection import train_test_split\n",
    "from sklearn.preprocessing import StandardScaler\n",
    "from sklearn.linear_model import SGDClassifier\n",
    "from sklearn.linear_model import LogisticRegression\n",
    "from sklearn.tree import DecisionTreeClassifier\n",
    "from sklearn.model_selection import cross_validate\n",
    "from sklearn.model_selection import StratifiedGroupKFold\n",
    "from sklearn.model_selection import GridSearchCV"
   ]
  },
  {
   "cell_type": "code",
   "execution_count": 32,
   "id": "e22b7454",
   "metadata": {},
   "outputs": [
    {
     "name": "stdout",
     "output_type": "stream",
     "text": [
      "(5197, 3) (5197,)\n",
      "(1300, 3) (1300,)\n"
     ]
    }
   ],
   "source": [
    "# 데이터 불러오기\n",
    "wine = pd.read_csv(\"./data/08_wine.csv\")\n",
    "\n",
    "# 훈련데이터(input, target) 생성\n",
    "wine_input = wine[[\"alcohol\",\"sugar\",\"pH\"]].to_numpy() # 2차원\n",
    "wine_target = wine[\"class\"].to_numpy() # 1차원\n",
    "\n",
    "# 훈련데이터와 테스트데이터로 분리\n",
    "train_input, test_input, train_target, test_target = train_test_split(wine_input,wine_target,\n",
    "                                                                      test_size=0.2,random_state=42)\n",
    "print(train_input.shape,train_target.shape)\n",
    "print(test_input.shape,test_target.shape)"
   ]
  },
  {
   "cell_type": "code",
   "execution_count": 33,
   "id": "2a101097",
   "metadata": {},
   "outputs": [
    {
     "name": "stdout",
     "output_type": "stream",
     "text": [
      "(4157, 3) (4157,)\n",
      "(1040, 3) (1040,)\n"
     ]
    }
   ],
   "source": [
    "# 일반적인 데이터 분류 기준\n",
    "# 훈련 : 검증 : 테스트 = 6 : 2 : 2\n",
    "# 훈련데이터를 sub와 val로 나눔\n",
    "sub_input, val_input, sub_target, val_target = train_test_split(train_input,train_target,\n",
    "                                                                      test_size=0.2,random_state=42)\n",
    "print(sub_input.shape,sub_target.shape)\n",
    "print(val_input.shape,val_target.shape)"
   ]
  },
  {
   "cell_type": "code",
   "execution_count": 34,
   "id": "93695bd9",
   "metadata": {},
   "outputs": [
    {
     "name": "stdout",
     "output_type": "stream",
     "text": [
      "0.9971133028626413\n",
      "0.864423076923077\n"
     ]
    }
   ],
   "source": [
    "# DT 훈련\n",
    "# 모델생성\n",
    "dt = DecisionTreeClassifier(random_state=42)\n",
    "# 훈련\n",
    "dt.fit(sub_input,sub_target)\n",
    "# 검증\n",
    "print(dt.score(sub_input,sub_target))\n",
    "print(dt.score(val_input,val_target))"
   ]
  },
  {
   "cell_type": "code",
   "execution_count": 35,
   "id": "fc56a2d3",
   "metadata": {},
   "outputs": [
    {
     "name": "stdout",
     "output_type": "stream",
     "text": [
      "0.8569230769230769\n"
     ]
    }
   ],
   "source": [
    "# 테스트데이터의 정확도\n",
    "print(dt.score(test_input,test_target))"
   ]
  },
  {
   "cell_type": "code",
   "execution_count": 58,
   "id": "fbe250b7",
   "metadata": {},
   "outputs": [
    {
     "name": "stdout",
     "output_type": "stream",
     "text": [
      "{'fit_time': array([0.00699902, 0.00507069, 0.00403214, 0.00402594, 0.0049088 ]), 'score_time': array([0.00100064, 0.0009644 , 0.00100255, 0.        , 0.        ]), 'test_score': array([0.86923077, 0.84615385, 0.87680462, 0.84889317, 0.83541867])}\n"
     ]
    }
   ],
   "source": [
    "# 위 과정을 한번에 묶어놓은 교차검증 알고리즘\n",
    "# 교차검증\n",
    "\"\"\"\n",
    "- 내부적으로 훈련/검증 데이터로 구분하여 사용하는 알고리즘\n",
    "- 내주적으로 구분에 사용하는 데이터는 위에서 구분한 train 데이터 사용\n",
    "- 데이터 준비는 기존과 동일하게 훈련 및 테스트 데이터만 있으면 됨\n",
    "\"\"\"\n",
    "# train_input을 다섯등분 -> 마지막을 타겟 -> 나머지 4개로 훈련시킴 -> 타겟을 옮기고, 나머지 4개로 훈련 -> \n",
    "# 총 5번 훈련 -> 폴드 방식\n",
    "# 교차검증 주요 키워드 : 폴드\n",
    "\"\"\"\n",
    "- 훈련데이터(train_input)를 폴드의 개수만큼 나누어서 교차하면서 훈련\n",
    "- 각 폴더 단위별 훈련한 검증 결과를 평균한 값이 최종 검증 결과가 됨\n",
    "\"\"\"\n",
    "\n",
    "# 교차검증 수행\n",
    "scores = cross_validate(dt, train_input, train_target)\n",
    "print(scores)"
   ]
  },
  {
   "cell_type": "code",
   "execution_count": 59,
   "id": "425a0a6f",
   "metadata": {},
   "outputs": [
    {
     "data": {
      "text/plain": [
       "0.855300214703487"
      ]
     },
     "execution_count": 59,
     "metadata": {},
     "output_type": "execute_result"
    }
   ],
   "source": [
    "# 폴드 값 5개 평균내기\n",
    "np.mean(scores[\"test_score\"])"
   ]
  },
  {
   "cell_type": "code",
   "execution_count": 62,
   "id": "a7c3c4ca",
   "metadata": {},
   "outputs": [
    {
     "name": "stdout",
     "output_type": "stream",
     "text": [
      "0.855300214703487\n"
     ]
    }
   ],
   "source": [
    "### 폴드 분할 컨트롤 하기\n",
    "\n",
    "\"\"\"\n",
    "- cv에 StratifiedFold()\n",
    "- 클래스에 아무값도 넣지 않으면 기본 폴드는 5를 사용함\n",
    "\n",
    "\n",
    "\"\"\"\n",
    "\n",
    "from sklearn.model_selection import StratifiedKFold\n",
    "scores = cross_validate(dt, train_input, train_target, cv=StratifiedKFold())\n",
    "\n",
    "print(np.mean(scores[\"test_score\"]))"
   ]
  },
  {
   "cell_type": "code",
   "execution_count": 65,
   "id": "b8123fdd",
   "metadata": {},
   "outputs": [
    {
     "name": "stdout",
     "output_type": "stream",
     "text": [
      "0.8574181117533719\n"
     ]
    }
   ],
   "source": [
    "# n_splits : 훈련데이터를 몇 개 폴드로 나눌것인가\n",
    "# shuffle : 훈련데이터 섞기(기본값 : False)\n",
    "splitter = StratifiedKFold(n_splits=10,\n",
    "                           shuffle=True,\n",
    "                           random_state=42)\n",
    "\n",
    "scores = cross_validate(dt, train_input, train_target, cv=splitter)\n",
    "\n",
    "print(np.mean(scores[\"test_score\"]))"
   ]
  },
  {
   "cell_type": "code",
   "execution_count": 67,
   "id": "4c71c787",
   "metadata": {},
   "outputs": [
    {
     "name": "stdout",
     "output_type": "stream",
     "text": [
      "DecisionTreeClassifier(max_depth=8, random_state=42)\n"
     ]
    }
   ],
   "source": [
    "# 하이퍼파라미터 튜닝(AutoML)\n",
    "\"\"\"\n",
    "- 교차검증, 하이퍼파라미터 찾기, 모델훈련을 한번에 자동으로 수행하는 개념\n",
    "- 사용패키지 : sklearn.model_selection\n",
    "- 사용클래스 : GridSearchCV\n",
    "\"\"\"\n",
    "# 트리의 깊이(max_depth)값 찾기\n",
    "# max_dedth의 값을 찾기 위한 범위 지정\n",
    "params = {\"max_depth\" : range(5,20,1)}\n",
    "# 하이퍼파라미터 그리드 서치 객체 생성\n",
    "# n_jobs : 사용할 CPU코어 개수 지정(-1은 모든 코어 사용)\n",
    "gs = GridSearchCV(DecisionTreeClassifier(random_state=42),\n",
    "                  params,n_jobs=-1)\n",
    "# 스스로 하이퍼파라미터 찾기\n",
    "gs.fit(train_input,train_target)\n",
    "# 자동으로 찾은 하이퍼파라미터 값 출력\n",
    "print(gs.best_estimator_)"
   ]
  },
  {
   "cell_type": "code",
   "execution_count": 69,
   "id": "4634f979",
   "metadata": {},
   "outputs": [
    {
     "name": "stdout",
     "output_type": "stream",
     "text": [
      "0.9003271117952665\n",
      "0.8584615384615385\n"
     ]
    }
   ],
   "source": [
    "# 검증\n",
    "dt = gs.best_estimator_\n",
    "print(dt.score(train_input,train_target))\n",
    "print(dt.score(test_input,test_target))"
   ]
  },
  {
   "cell_type": "code",
   "execution_count": null,
   "id": "dd1fa268",
   "metadata": {},
   "outputs": [],
   "source": []
  },
  {
   "cell_type": "code",
   "execution_count": null,
   "id": "919eb316",
   "metadata": {},
   "outputs": [],
   "source": []
  },
  {
   "cell_type": "code",
   "execution_count": null,
   "id": "b01b02a8",
   "metadata": {},
   "outputs": [],
   "source": []
  },
  {
   "cell_type": "code",
   "execution_count": null,
   "id": "d65785c7",
   "metadata": {},
   "outputs": [],
   "source": []
  },
  {
   "cell_type": "code",
   "execution_count": null,
   "id": "66c8513f",
   "metadata": {},
   "outputs": [],
   "source": []
  },
  {
   "cell_type": "code",
   "execution_count": null,
   "id": "7e05d5ae",
   "metadata": {},
   "outputs": [],
   "source": []
  },
  {
   "cell_type": "code",
   "execution_count": null,
   "id": "869cbad0",
   "metadata": {},
   "outputs": [],
   "source": []
  },
  {
   "cell_type": "code",
   "execution_count": null,
   "id": "c8c67c37",
   "metadata": {},
   "outputs": [],
   "source": []
  },
  {
   "cell_type": "code",
   "execution_count": null,
   "id": "8b6f4b32",
   "metadata": {},
   "outputs": [],
   "source": []
  },
  {
   "cell_type": "code",
   "execution_count": null,
   "id": "9cbc9e4a",
   "metadata": {},
   "outputs": [],
   "source": []
  },
  {
   "cell_type": "code",
   "execution_count": null,
   "id": "de1683b1",
   "metadata": {},
   "outputs": [],
   "source": []
  },
  {
   "cell_type": "code",
   "execution_count": null,
   "id": "e2200b6a",
   "metadata": {},
   "outputs": [],
   "source": []
  },
  {
   "cell_type": "code",
   "execution_count": null,
   "id": "566c2703",
   "metadata": {},
   "outputs": [],
   "source": []
  }
 ],
 "metadata": {
  "kernelspec": {
   "display_name": "pknu_base_kernel",
   "language": "python",
   "name": "pknu_base"
  },
  "language_info": {
   "codemirror_mode": {
    "name": "ipython",
    "version": 3
   },
   "file_extension": ".py",
   "mimetype": "text/x-python",
   "name": "python",
   "nbconvert_exporter": "python",
   "pygments_lexer": "ipython3",
   "version": "3.9.15"
  }
 },
 "nbformat": 4,
 "nbformat_minor": 5
}
