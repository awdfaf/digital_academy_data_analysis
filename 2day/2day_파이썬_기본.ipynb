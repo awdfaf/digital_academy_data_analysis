{
 "cells": [
  {
   "cell_type": "markdown",
   "id": "965addc4",
   "metadata": {},
   "source": [
    "# esc 파랑색 만들고 m누르면 In이 없어진다.\n",
    "## 1 파랑 상태에서 b누르면 쉘 추가, x누르면 삭제\n",
    "### 2 단축키 꼭 활용해야한다 !\n",
    "#### 3 파랑상태에서 enter누르면 초록이돼서 코드작성가능\n",
    "##### ctrl + enter 하면 실행이다  / 쉬프트 엔터, 알트 엔터"
   ]
  },
  {
   "cell_type": "code",
   "execution_count": 10,
   "id": "a83da08a",
   "metadata": {},
   "outputs": [
    {
     "name": "stdout",
     "output_type": "stream",
     "text": [
      "남\n"
     ]
    }
   ],
   "source": [
    "jumin = 1\n",
    "if jumin % 2 == 1 :\n",
    "    print(\"남\")\n",
    "else:\n",
    "    print(\"여\")"
   ]
  },
  {
   "cell_type": "code",
   "execution_count": 16,
   "id": "d69b7a6b",
   "metadata": {},
   "outputs": [
    {
     "name": "stdout",
     "output_type": "stream",
     "text": [
      "남\n"
     ]
    }
   ],
   "source": [
    "jumin = \"1836310\"\n",
    "first_num = jumin[0]\n",
    "if int(first_num) % 2 == 1 :\n",
    "    print(\"남\")\n",
    "else:\n",
    "    print(\"여\")"
   ]
  },
  {
   "cell_type": "code",
   "execution_count": 27,
   "id": "9276ebec",
   "metadata": {},
   "outputs": [
    {
     "data": {
      "text/plain": [
       "'2023-1-3'"
      ]
     },
     "execution_count": 27,
     "metadata": {},
     "output_type": "execute_result"
    }
   ],
   "source": [
    "# 문자열함수 포맷팅\n",
    "name = \"홍길동\"\n",
    "age = 20\n",
    "\"나의 이름은 {}이고, 나이는 {}입니다.\".format(name,age)\n",
    "\"나의 이름은 {0}이고, 나이는 {1}입니다.\".format(name,age)\n",
    " \n",
    "y = 2023\n",
    "m = 1\n",
    "d = 3\n",
    "\"{}-{}-{}\".format(y,m,d)"
   ]
  },
  {
   "cell_type": "code",
   "execution_count": 26,
   "id": "3964d587",
   "metadata": {},
   "outputs": [
    {
     "name": "stdout",
     "output_type": "stream",
     "text": [
      "나의 이름은 홍길동이고, 나이는 20입니다.\n"
     ]
    }
   ],
   "source": [
    "print(\"나의 이름은 %s이고, 나이는 %d입니다.\" % (name,age))"
   ]
  },
  {
   "cell_type": "code",
   "execution_count": 30,
   "id": "fef690ae",
   "metadata": {},
   "outputs": [
    {
     "name": "stdout",
     "output_type": "stream",
     "text": [
      "1 2 3 4 5 6 7 8 9 10 11 12 13 14 15 16 17 18 19 20 21 22 23 24 25 26 27 28 29 30 31 32 33 34 35 36 37 38 39 40 41 42 43 44 45 46 47 48 49 50 51 52 53 54 55 56 57 58 59 60 61 62 63 64 65 66 67 68 69 70 71 72 73 74 75 76 77 78 79 80 81 82 83 84 85 86 87 88 89 90 91 92 93 94 95 96 97 98 99 100 "
     ]
    }
   ],
   "source": [
    "### 숫자의 범위 함수\n",
    "# range(a,b,c)\n",
    "# (시작값, 끝값-1, 증가값)\n",
    "\n",
    "# 반복문 for, while\n",
    "for i in range(1,101):\n",
    "    print(i, end=' ')\n",
    "    #print(\"{}번째 출력\".format(i))"
   ]
  },
  {
   "cell_type": "code",
   "execution_count": 32,
   "id": "6dac217b",
   "metadata": {},
   "outputs": [
    {
     "name": "stdout",
     "output_type": "stream",
     "text": [
      "1 2 3 4 5 6 7 8 9 10 11 12 13 14 15 16 17 18 19 20 21 22 23 24 25 26 27 28 29 30 31 32 33 34 35 36 37 38 39 40 41 42 43 44 45 46 47 48 49 50 51 52 53 54 55 56 57 58 59 60 61 62 63 64 65 66 67 68 69 70 71 72 73 74 75 76 77 78 79 80 81 82 83 84 85 86 87 88 89 90 91 92 93 94 95 96 97 98 99 100 0 1 2 3 4 5 6 7 8 9 10 11 12 13 14 15 16 17 18 19 20 21 22 23 24 25 26 27 28 29 30 31 32 33 34 35 36 37 38 39 40 41 42 43 44 45 46 47 48 49 50 51 52 53 54 55 56 57 58 59 60 61 62 63 64 65 66 67 68 69 70 71 72 73 74 75 76 77 78 79 80 81 82 83 84 85 86 87 88 89 90 91 92 93 94 95 96 97 98 99 100 "
     ]
    }
   ],
   "source": [
    "i = 1\n",
    "while i <= 100:\n",
    "    print(i, end=' ')\n",
    "    i+=1\n",
    "    \n",
    "#무한 루프\n",
    "i = 0\n",
    "while(True):\n",
    "    print(i, end=' ')\n",
    "    i += 1\n",
    "    if i >= 101:\n",
    "        break\n",
    "        \n",
    "# 반복건너뛰기 : continue\n",
    "# 반복종료하기 : break"
   ]
  },
  {
   "cell_type": "code",
   "execution_count": 33,
   "id": "fffa08c4",
   "metadata": {},
   "outputs": [
    {
     "name": "stdout",
     "output_type": "stream",
     "text": [
      "2550\n"
     ]
    }
   ],
   "source": [
    "#0~100 범위에서 짝수의 총합\n",
    "sum = 0\n",
    "for i in range(0,101):\n",
    "    if i % 2 == 0:\n",
    "        sum = sum + i\n",
    "print(sum)"
   ]
  },
  {
   "cell_type": "code",
   "execution_count": 37,
   "id": "ea99e49c",
   "metadata": {},
   "outputs": [
    {
     "ename": "IndentationError",
     "evalue": "expected an indented block (2138689750.py, line 3)",
     "output_type": "error",
     "traceback": [
      "\u001b[1;36m  File \u001b[1;32m\"C:\\Users\\Administrator\\AppData\\Local\\Temp\\ipykernel_7096\\2138689750.py\"\u001b[1;36m, line \u001b[1;32m3\u001b[0m\n\u001b[1;33m    #print(\"{} / {}\".format(i,j))\u001b[0m\n\u001b[1;37m                                 ^\u001b[0m\n\u001b[1;31mIndentationError\u001b[0m\u001b[1;31m:\u001b[0m expected an indented block\n"
     ]
    }
   ],
   "source": [
    "for i in range(11):\n",
    "    for j in range(3):\n",
    "        print(\"{} / {}\".format(i,j))"
   ]
  },
  {
   "cell_type": "code",
   "execution_count": 39,
   "id": "afeb7727",
   "metadata": {},
   "outputs": [
    {
     "data": {
      "text/plain": [
       "'0001'"
      ]
     },
     "execution_count": 39,
     "metadata": {},
     "output_type": "execute_result"
    }
   ],
   "source": [
    "# 빈공간에 0값 넣기\n",
    "\"1\".zfill(4)"
   ]
  },
  {
   "cell_type": "code",
   "execution_count": 45,
   "id": "e97eea44",
   "metadata": {},
   "outputs": [
    {
     "name": "stdout",
     "output_type": "stream",
     "text": [
      "2023-01-03\n"
     ]
    }
   ],
   "source": [
    "y = 2023\n",
    "m= 1\n",
    "d = 3\n",
    "print(\"{}-{}-{}\".format(y,str(m).zfill(2),str(d).zfill(2)))"
   ]
  },
  {
   "cell_type": "code",
   "execution_count": 50,
   "id": "c50b2de5",
   "metadata": {},
   "outputs": [
    {
     "name": "stdout",
     "output_type": "stream",
     "text": [
      "2010-02\n",
      "2010-04\n",
      "2010-06\n",
      "2010-08\n",
      "2010-10\n",
      "2010-12\n",
      "2012-02\n",
      "2012-04\n",
      "2012-06\n",
      "2012-08\n",
      "2012-10\n",
      "2012-12\n",
      "2014-02\n",
      "2014-04\n",
      "2014-06\n",
      "2014-08\n",
      "2014-10\n",
      "2014-12\n",
      "2016-02\n",
      "2016-04\n",
      "2016-06\n",
      "2016-08\n",
      "2016-10\n",
      "2016-12\n",
      "2018-02\n",
      "2018-04\n",
      "2018-06\n",
      "2018-08\n",
      "2018-10\n",
      "2018-12\n",
      "2020-02\n",
      "2020-04\n",
      "2020-06\n",
      "2020-08\n",
      "2020-10\n",
      "2020-12\n",
      "2022-02\n",
      "2022-04\n",
      "2022-06\n",
      "2022-08\n",
      "2022-10\n",
      "2022-12\n"
     ]
    }
   ],
   "source": [
    "# 2010년 1월 부터 2022년 12월 까지의 년월(0000-00)을 출력\n",
    "y = 2010\n",
    "m = 1\n",
    "# while(y<2023):\n",
    "#     print(\"{}-{}\".format(y,str(m).zfill(2)))\n",
    "#     m += 1\n",
    "#     if(m == 13):\n",
    "#         y += 1\n",
    "#         m = 1\n",
    "# +짝수 년,월 출력\n",
    "for y in range(2010,2023):\n",
    "    for m in range(1,13):\n",
    "        if (y % 2 == 0 and m % 2 == 0):\n",
    "            print(\"{}-{}\".format(y,str(m).zfill(2)))"
   ]
  },
  {
   "cell_type": "code",
   "execution_count": 54,
   "id": "20f2975b",
   "metadata": {},
   "outputs": [
    {
     "name": "stdout",
     "output_type": "stream",
     "text": [
      "안\n",
      "녕\n",
      "하\n",
      "세\n",
      "요\n",
      ".\n",
      " \n",
      "파\n",
      "이\n",
      "썬\n",
      " \n",
      "입\n",
      "니\n",
      "다\n",
      ".\n"
     ]
    }
   ],
   "source": [
    "msg = \"안녕하세요. 파이썬 입니다.\"\n",
    "# for문으로 msg 문자열의 하나 하나 값을 출력하시오\n",
    "for i in range(len(msg)):\n",
    "    print(msg[i])"
   ]
  },
  {
   "cell_type": "code",
   "execution_count": 55,
   "id": "d7a02f28",
   "metadata": {},
   "outputs": [
    {
     "name": "stdout",
     "output_type": "stream",
     "text": [
      "안녕하세요. 파이썬 입니다. 안녕하세요.파이썬입니다.\n"
     ]
    }
   ],
   "source": [
    "# 문자값 변환\n",
    "msg_new = msg.replace(\" \",\"\")\n",
    "print(msg,msg_new)"
   ]
  },
  {
   "cell_type": "code",
   "execution_count": 57,
   "id": "8ed7aa9a",
   "metadata": {},
   "outputs": [
    {
     "name": "stdout",
     "output_type": "stream",
     "text": [
      "[11, 22, 33, 44, 55, 66, 'a', 'b', 'c', 1.2, 1.3] 33\n"
     ]
    }
   ],
   "source": [
    "# 리스트 변수 생성\n",
    "# 여래개 값 저장, 여러 종류 데이터 저장\n",
    "li = [11,22,33,44,55,66,\"a\",\"b\",\"c\",1.2,1.3]\n",
    "print(li, li[2])"
   ]
  },
  {
   "cell_type": "code",
   "execution_count": 59,
   "id": "56bdd42d",
   "metadata": {},
   "outputs": [
    {
     "name": "stdout",
     "output_type": "stream",
     "text": [
      "[11, 22, 33, 44, 55, 66, 'a', 'b', 'c', 1.2, 1.3, 'hi', 'hi']\n",
      "11\n",
      "22\n",
      "33\n",
      "44\n",
      "55\n",
      "66\n",
      "a\n",
      "b\n",
      "c\n",
      "1.2\n",
      "1.3\n",
      "hi\n",
      "hi\n"
     ]
    }
   ],
   "source": [
    "# 리스트에 값 추가 append()\n",
    "li.append(\"hi\")\n",
    "print(li)\n",
    "for i in range(len(li)):\n",
    "    print(li[i])"
   ]
  },
  {
   "cell_type": "code",
   "execution_count": 60,
   "id": "45a69a68",
   "metadata": {},
   "outputs": [
    {
     "name": "stdout",
     "output_type": "stream",
     "text": [
      "11\n",
      "22\n",
      "33\n",
      "44\n",
      "55\n",
      "66\n",
      "a\n",
      "b\n",
      "c\n",
      "1.2\n",
      "1.3\n",
      "hi\n",
      "hi\n",
      "11\n",
      "22\n",
      "33\n",
      "44\n",
      "55\n",
      "66\n",
      "a\n",
      "b\n",
      "c\n",
      "1.2\n",
      "1.3\n",
      "hi\n",
      "hi\n"
     ]
    }
   ],
   "source": [
    "# for문 사용 1번째 : 리스트 숫자값(인덱스) 이용\n",
    "for i in range(len(li)):\n",
    "    print(li[i])\n",
    "\n",
    "# for문 사용 2번째 : 리스트 내 값 이용\n",
    "for val in li:\n",
    "    print(val)\n"
   ]
  },
  {
   "cell_type": "code",
   "execution_count": 66,
   "id": "102d9f60",
   "metadata": {},
   "outputs": [
    {
     "name": "stdout",
     "output_type": "stream",
     "text": [
      "[10, 30, 50, 60, 70, 80, 90, 100]\n"
     ]
    }
   ],
   "source": [
    "a = [10,23,30,45,50,60,70,80,90,100]\n",
    "temp = []\n",
    "# a의 값 중 짝수 값을 temp에 넣기\n",
    "\n",
    "for i in range(len(a)):\n",
    "    if a[i] % 2 == 0:\n",
    "        temp.append(a[i])\n",
    "for i in a:\n",
    "    if i % 2 == 0:\n",
    "        temp.append(i)\n",
    "\n",
    "print(temp)"
   ]
  },
  {
   "cell_type": "code",
   "execution_count": 67,
   "id": "f7523e6a",
   "metadata": {},
   "outputs": [
    {
     "name": "stdout",
     "output_type": "stream",
     "text": [
      "[10, 23, 30, 45, 50, 60, 70, 80, 90, 100] [10, 30, 50, 60, 70, 80, 90, 100]\n"
     ]
    }
   ],
   "source": [
    "print(a,temp)"
   ]
  },
  {
   "cell_type": "code",
   "execution_count": 69,
   "id": "0e9163ff",
   "metadata": {},
   "outputs": [
    {
     "name": "stdout",
     "output_type": "stream",
     "text": [
      "[10, 23, 30, 45, 50, 60, 70, 80, 90, 100, 10, 30, 50, 60, 70, 80, 90, 100]\n",
      "[10, 23, 30, 45, 50, 60, 70, 80, 90, 100, 10, 23, 30, 45, 50, 60, 70, 80, 90, 100]\n"
     ]
    }
   ],
   "source": [
    "# 리스트 연산\n",
    "print(a+temp)\n",
    "print(a*2)"
   ]
  },
  {
   "cell_type": "code",
   "execution_count": 74,
   "id": "5ebbbaff",
   "metadata": {},
   "outputs": [
    {
     "name": "stdout",
     "output_type": "stream",
     "text": [
      "['홍길동', 24, ['부산', '부산진구', '대연동', 124, ['010-1234-4567']]]\n",
      "홍길동\n",
      "24\n",
      "['부산', '부산진구', '대연동', 124, ['010-1234-4567']]\n"
     ]
    }
   ],
   "source": [
    "a = [[1,2,3,4,5],\n",
    "     ['a','b','c','d','e'],\n",
    "     [\"홍\",\"김\",\"이\",\"최\",\"박\"]]\n",
    "print(a)\n",
    "temp = []\n",
    "# 위 a 안 모든 값을 추출해서 temp에 넣기\n",
    "\n",
    "for val in a:\n",
    "    print(val)"
   ]
  },
  {
   "cell_type": "code",
   "execution_count": 78,
   "id": "392f6abf",
   "metadata": {},
   "outputs": [
    {
     "name": "stdout",
     "output_type": "stream",
     "text": [
      "{'이름': '홍길동', '나이': 26, '주소': '부산 부산진구 대연동 765', 1: 'ㅁㅈㅇ'} 홍길동 26 ㅁㅈㅇ\n"
     ]
    }
   ],
   "source": [
    "# {키:값,키:값,....} 키를 이용해 값 추출, 순서 없음\n",
    "person = {\"이름\" : \"홍길동\",\n",
    "          \"나이\" : 26,\n",
    "          \"주소\" : \"부산 부산진구 대연동 765\",\n",
    "          1 : \"ㅁㅈㅇ\"}\n",
    "print(person,person[\"이름\"],person[\"나이\"],person[1])"
   ]
  },
  {
   "cell_type": "code",
   "execution_count": 82,
   "id": "0880f08b",
   "metadata": {},
   "outputs": [
    {
     "name": "stdout",
     "output_type": "stream",
     "text": [
      "dict_keys(['이름', '나이', '주소', 1])\n",
      "dict_values(['홍길동', 26, '부산 부산진구 대연동 765', 'ㅁㅈㅇ'])\n",
      "dict_items([('이름', '홍길동'), ('나이', 26), ('주소', '부산 부산진구 대연동 765'), (1, 'ㅁㅈㅇ')])\n"
     ]
    }
   ],
   "source": [
    "# 키 값 추출\n",
    "print(person.keys())\n",
    "# value 추출\n",
    "print(person.values())\n",
    "# 둘다 갖고 오기\n",
    "print(person.items())"
   ]
  },
  {
   "cell_type": "code",
   "execution_count": 85,
   "id": "79911468",
   "metadata": {},
   "outputs": [
    {
     "name": "stdout",
     "output_type": "stream",
     "text": [
      "['홍길동', 26, '부산 부산진구 대연동 765', 'ㅁㅈㅇ']\n"
     ]
    }
   ],
   "source": [
    "# persom에 있는 value 값을 모두 추출해 temp에 넣은 후 출력\n",
    "\n",
    "temp =[]\n",
    "# for val in person.values():\n",
    "#     temp.append(val)\n",
    "\n",
    "for val in person.keys():\n",
    "    temp.append(person[val])\n",
    "    \n",
    "print(temp)"
   ]
  },
  {
   "cell_type": "code",
   "execution_count": 86,
   "id": "f5f9f7a1",
   "metadata": {},
   "outputs": [
    {
     "name": "stdout",
     "output_type": "stream",
     "text": [
      "{1: ['a', 'b', 'c', 'd', 'e', 'f'], 2: [1, 2, 3, 4, 5, 6]}\n"
     ]
    }
   ],
   "source": [
    "one = ['a','b','c','d','e','f']\n",
    "two = [1,2,3,4,5,6]\n",
    "dict = {1 : one, 2 : two}\n",
    "print(dict)"
   ]
  },
  {
   "cell_type": "code",
   "execution_count": 93,
   "id": "269010c8",
   "metadata": {},
   "outputs": [
    {
     "name": "stdout",
     "output_type": "stream",
     "text": [
      "['a', 'b', 'c', 'd', 'e', 'f', 1, 2, 3, 4, 5, 6]\n"
     ]
    }
   ],
   "source": [
    "temp = []\n",
    "\n",
    "# for val in dict.values():\n",
    "#     for i in range(len(val)):\n",
    "#         temp.append(val[i])\n",
    "# print(temp)\n",
    "\n",
    "for key in dict.keys():\n",
    "    for i in range(len(dict[key])):\n",
    "        temp.append(dict[key][i])\n",
    "    \n",
    "    \n",
    "print(temp)"
   ]
  },
  {
   "cell_type": "code",
   "execution_count": 94,
   "id": "2d0d2e99",
   "metadata": {},
   "outputs": [
    {
     "name": "stdout",
     "output_type": "stream",
     "text": [
      "['z', 'b', 'c', 'd', 'e', 'f', 1, 2, 3, 4, 5, 6]\n"
     ]
    }
   ],
   "source": [
    "temp[0] = \"z\" #리스트\n",
    "print(temp)"
   ]
  },
  {
   "cell_type": "code",
   "execution_count": 95,
   "id": "414c35f2",
   "metadata": {},
   "outputs": [
    {
     "data": {
      "text/plain": [
       "{1: ['a', 'b', 'c', 'd', 'e', 'f'], 2: [1, 2, 3, 4, 5, 6]}"
      ]
     },
     "execution_count": 95,
     "metadata": {},
     "output_type": "execute_result"
    }
   ],
   "source": [
    "dict"
   ]
  },
  {
   "cell_type": "code",
   "execution_count": 97,
   "id": "fc32946c",
   "metadata": {},
   "outputs": [
    {
     "data": {
      "text/plain": [
       "{1: ['a', 'b', 'c', 'd', 'e', 'f'],\n",
       " 2: [1, 2, 3, 4, 5, 6],\n",
       " 3: [22, 33, 44, 55, 66, 77],\n",
       " 4: ['awdfaf']}"
      ]
     },
     "execution_count": 97,
     "metadata": {},
     "output_type": "execute_result"
    }
   ],
   "source": [
    "# 딕셔너리에 값넣기\n",
    "dict[3] = [22,33,44,55,66,77]\n",
    "dict[4] = [\"awdfaf\"]\n",
    "dict"
   ]
  },
  {
   "cell_type": "code",
   "execution_count": 98,
   "id": "01893b7e",
   "metadata": {},
   "outputs": [
    {
     "data": {
      "text/plain": [
       "{1: ['a', 'b', 'c', 'd', 'e', 'f'],\n",
       " 2: [1, 2, 3, 4, 5, 6],\n",
       " 3: [22, 33, 44, 55, 66, 77],\n",
       " 4: 'Cristal'}"
      ]
     },
     "execution_count": 98,
     "metadata": {},
     "output_type": "execute_result"
    }
   ],
   "source": [
    "# 값 수정하기\n",
    "dict[4] = \"Cristal\"\n",
    "dict"
   ]
  },
  {
   "cell_type": "code",
   "execution_count": 99,
   "id": "0396f722",
   "metadata": {},
   "outputs": [
    {
     "name": "stdout",
     "output_type": "stream",
     "text": [
      "3\n"
     ]
    }
   ],
   "source": [
    "# 자주 반복해서 사용되는 프로그램을 하나의 이름으로 정의해 놓은 후 호출해서 사용, 함수 선언\n",
    "# 매개변수 : 호출하는 쪽에서 넘겨주는 값을 받을 변수\n",
    "def getAdd(a,b):\n",
    "    return print(a+b)\n",
    "# 함수 호출\n",
    "getAdd(1,2)\n",
    "    "
   ]
  },
  {
   "cell_type": "code",
   "execution_count": 101,
   "id": "382fcfb2",
   "metadata": {},
   "outputs": [
    {
     "name": "stdout",
     "output_type": "stream",
     "text": [
      "3\n",
      "-1\n",
      "2\n",
      "0.5\n"
     ]
    }
   ],
   "source": [
    "def getMath(a,b,c):\n",
    "    res = 0\n",
    "    if c == \"+\":\n",
    "        res = (a+b)\n",
    "    elif c == \"-\":\n",
    "        res = a-b\n",
    "    elif c == \"*\":\n",
    "        res = a*b\n",
    "    elif c == \"/\":\n",
    "        res = a/b\n",
    "    return print(res)\n",
    "li = [\"+\",\"-\",\"*\",\"/\"]\n",
    "for i in range(len(li)):\n",
    "    getMath(1,2,li[i])"
   ]
  },
  {
   "cell_type": "code",
   "execution_count": 112,
   "id": "747388f3",
   "metadata": {},
   "outputs": [
    {
     "name": "stdout",
     "output_type": "stream",
     "text": [
      "1 2 3 4 5 6 7 8 9 \n",
      "2 4 6 8 10 12 14 16 18 \n",
      "3 6 9 12 15 18 21 24 27 \n",
      "4 8 12 16 20 24 28 32 36 \n",
      "5 10 15 20 25 30 35 40 45 \n",
      "6 12 18 24 30 36 42 48 54 \n",
      "7 14 21 28 35 42 49 56 63 \n",
      "8 16 24 32 40 48 56 64 72 \n",
      "9 18 27 36 45 54 63 72 81 \n"
     ]
    }
   ],
   "source": [
    "def gugu(dan):\n",
    "    if dan == 0:\n",
    "        for i in range(1,10):\n",
    "            for j in range(1,10):\n",
    "                print(i*j,end=\" \")\n",
    "            print(\"\")\n",
    "            \n",
    "    else:\n",
    "        for i in range(1,10):\n",
    "            print(dan * i)\n",
    "        \n",
    "gugu(0)"
   ]
  },
  {
   "cell_type": "code",
   "execution_count": 1,
   "id": "df65e360",
   "metadata": {},
   "outputs": [],
   "source": [
    "class MathClass:\n",
    "    def getHap(self, num1, num2):\n",
    "        s = num1 + num2\n",
    "        return s\n",
    "        \n",
    "    def getMinus(self, num1, num2):\n",
    "        s = num1 - num2\n",
    "        return s\n",
    "    \n",
    "    def getGop(self, num1, num2):\n",
    "        s = num1 * num2\n",
    "        return s\n",
    "    \n",
    "    def getNa(self, num1, num2):\n",
    "        s = num1 / num2\n",
    "        return s\n",
    "    \n",
    "    def getNam(self, num1, num2):\n",
    "        s = num1 % num2\n",
    "        return s"
   ]
  },
  {
   "cell_type": "code",
   "execution_count": 2,
   "id": "a2483991",
   "metadata": {},
   "outputs": [
    {
     "name": "stdout",
     "output_type": "stream",
     "text": [
      "<__main__.MathClass object at 0x0000028AE676E580>\n"
     ]
    }
   ],
   "source": [
    "# 클래스 선언\n",
    "mm = MathClass()\n",
    "print(mm)"
   ]
  },
  {
   "cell_type": "code",
   "execution_count": 3,
   "id": "467e801f",
   "metadata": {},
   "outputs": [
    {
     "data": {
      "text/plain": [
       "13"
      ]
     },
     "execution_count": 3,
     "metadata": {},
     "output_type": "execute_result"
    }
   ],
   "source": [
    "# (.) : 접근지정자\n",
    "mm.getHap(10,3)"
   ]
  },
  {
   "cell_type": "code",
   "execution_count": 7,
   "id": "c8e4a761",
   "metadata": {},
   "outputs": [],
   "source": [
    "# 라이브러리 읽어 들이기 (모듈) / 모듈 : .py로 만들어진 파일을 의미\n",
    "import cs_module as cs_m\n",
    "\n",
    "# 모듈 내 사용할 클래스 생성\n",
    "util = cs_module.User_Util(10,5)"
   ]
  },
  {
   "cell_type": "code",
   "execution_count": 11,
   "id": "88bc18fe",
   "metadata": {},
   "outputs": [
    {
     "data": {
      "text/plain": [
       "15"
      ]
     },
     "execution_count": 11,
     "metadata": {},
     "output_type": "execute_result"
    }
   ],
   "source": [
    "util.getPlus()"
   ]
  },
  {
   "cell_type": "code",
   "execution_count": 12,
   "id": "de8960e4",
   "metadata": {},
   "outputs": [
    {
     "data": {
      "text/plain": [
       "150"
      ]
     },
     "execution_count": 12,
     "metadata": {},
     "output_type": "execute_result"
    }
   ],
   "source": [
    "util.a = 100\n",
    "util.b = 50\n",
    "util.getPlus()"
   ]
  },
  {
   "cell_type": "code",
   "execution_count": 15,
   "id": "1736bf0b",
   "metadata": {},
   "outputs": [],
   "source": [
    "# 패키지 : 모듈들을 폴더 단위로 관리\n",
    "from utils import fn_module as fn\n",
    "\n",
    "pra = fn.User_Util(1,1)"
   ]
  },
  {
   "cell_type": "code",
   "execution_count": 16,
   "id": "584c9d13",
   "metadata": {},
   "outputs": [
    {
     "data": {
      "text/plain": [
       "2"
      ]
     },
     "execution_count": 16,
     "metadata": {},
     "output_type": "execute_result"
    }
   ],
   "source": [
    "pra.getPlus()"
   ]
  },
  {
   "cell_type": "code",
   "execution_count": null,
   "id": "54f93037",
   "metadata": {},
   "outputs": [],
   "source": []
  },
  {
   "cell_type": "code",
   "execution_count": null,
   "id": "80759bd5",
   "metadata": {},
   "outputs": [],
   "source": []
  },
  {
   "cell_type": "code",
   "execution_count": null,
   "id": "2251addb",
   "metadata": {},
   "outputs": [],
   "source": []
  },
  {
   "cell_type": "code",
   "execution_count": null,
   "id": "29941473",
   "metadata": {},
   "outputs": [],
   "source": []
  },
  {
   "cell_type": "code",
   "execution_count": null,
   "id": "94db6299",
   "metadata": {},
   "outputs": [],
   "source": []
  },
  {
   "cell_type": "code",
   "execution_count": null,
   "id": "ef1cab51",
   "metadata": {},
   "outputs": [],
   "source": []
  },
  {
   "cell_type": "code",
   "execution_count": null,
   "id": "2b9d12b8",
   "metadata": {},
   "outputs": [],
   "source": []
  },
  {
   "cell_type": "code",
   "execution_count": null,
   "id": "0ee9afef",
   "metadata": {},
   "outputs": [],
   "source": []
  },
  {
   "cell_type": "code",
   "execution_count": null,
   "id": "d2cf85d8",
   "metadata": {},
   "outputs": [],
   "source": []
  },
  {
   "cell_type": "code",
   "execution_count": null,
   "id": "bdc03976",
   "metadata": {},
   "outputs": [],
   "source": []
  },
  {
   "cell_type": "code",
   "execution_count": null,
   "id": "4fccb98a",
   "metadata": {},
   "outputs": [],
   "source": []
  },
  {
   "cell_type": "code",
   "execution_count": null,
   "id": "c4ddeee5",
   "metadata": {},
   "outputs": [],
   "source": []
  },
  {
   "cell_type": "code",
   "execution_count": null,
   "id": "526fa5a6",
   "metadata": {},
   "outputs": [],
   "source": []
  },
  {
   "cell_type": "code",
   "execution_count": null,
   "id": "6baaec55",
   "metadata": {},
   "outputs": [],
   "source": []
  },
  {
   "cell_type": "code",
   "execution_count": null,
   "id": "3e5f9c87",
   "metadata": {},
   "outputs": [],
   "source": []
  },
  {
   "cell_type": "code",
   "execution_count": null,
   "id": "3560f743",
   "metadata": {},
   "outputs": [],
   "source": []
  },
  {
   "cell_type": "code",
   "execution_count": null,
   "id": "674345f7",
   "metadata": {},
   "outputs": [],
   "source": []
  },
  {
   "cell_type": "code",
   "execution_count": null,
   "id": "0db37862",
   "metadata": {},
   "outputs": [],
   "source": []
  },
  {
   "cell_type": "code",
   "execution_count": null,
   "id": "5ffafb0f",
   "metadata": {},
   "outputs": [],
   "source": []
  },
  {
   "cell_type": "code",
   "execution_count": null,
   "id": "81282c96",
   "metadata": {},
   "outputs": [],
   "source": []
  },
  {
   "cell_type": "code",
   "execution_count": null,
   "id": "91fbe36b",
   "metadata": {},
   "outputs": [],
   "source": []
  },
  {
   "cell_type": "code",
   "execution_count": null,
   "id": "ab06be8a",
   "metadata": {},
   "outputs": [],
   "source": []
  }
 ],
 "metadata": {
  "kernelspec": {
   "display_name": "Python 3 (ipykernel)",
   "language": "python",
   "name": "python3"
  },
  "language_info": {
   "codemirror_mode": {
    "name": "ipython",
    "version": 3
   },
   "file_extension": ".py",
   "mimetype": "text/x-python",
   "name": "python",
   "nbconvert_exporter": "python",
   "pygments_lexer": "ipython3",
   "version": "3.9.13"
  }
 },
 "nbformat": 4,
 "nbformat_minor": 5
}
