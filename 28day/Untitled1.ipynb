{
 "cells": [
  {
   "cell_type": "code",
   "execution_count": 1,
   "id": "3a2e9089",
   "metadata": {},
   "outputs": [],
   "source": [
    "# RNN 사용 패키지\n",
    "from tensorflow.keras.datasets import imdb"
   ]
  },
  {
   "cell_type": "code",
   "execution_count": 10,
   "id": "1d0b55a0",
   "metadata": {},
   "outputs": [],
   "source": [
    "# IMDB 데이터 읽어 들이기\n",
    "# num_words : 말뭉치 500개를 기준으로 함\n",
    "# 전체 데이터셋에서 가장 자주 등장하는 말뭉치 단어 상위 500개를 사용\n",
    "# 말뭉치 500개를 기준으로 각 데이터 샘플 내 단어와 매칭하여 훈련/테스트 데이터를 반환해줌\n",
    "# 말뭉치 500개는 훈련시에도 사용됨\n",
    "(train_input, train_target), (test_input, test_target) = imdb.load_data(num_words=500)"
   ]
  },
  {
   "cell_type": "code",
   "execution_count": 11,
   "id": "93127f3a",
   "metadata": {},
   "outputs": [
    {
     "name": "stdout",
     "output_type": "stream",
     "text": [
      "(25000,) (25000,)\n",
      "(25000,) (25000,)\n"
     ]
    }
   ],
   "source": [
    "# train 및 test 데이터셋에는 각 25,000개씩 문장들이 들어있음\n",
    "# 문장은 감상평을 입력한 내용에 대한 데이터\n",
    "print(train_input.shape, train_target.shape)\n",
    "print(test_input.shape, test_target.shape)"
   ]
  },
  {
   "cell_type": "code",
   "execution_count": 4,
   "id": "a65f7151",
   "metadata": {},
   "outputs": [
    {
     "data": {
      "text/plain": [
       "array([list([1, 14, 22, 16, 43, 2, 2, 2, 2, 65, 458, 2, 66, 2, 4, 173, 36, 256, 5, 25, 100, 43, 2, 112, 50, 2, 2, 9, 35, 480, 284, 5, 150, 4, 172, 112, 167, 2, 336, 385, 39, 4, 172, 2, 2, 17, 2, 38, 13, 447, 4, 192, 50, 16, 6, 147, 2, 19, 14, 22, 4, 2, 2, 469, 4, 22, 71, 87, 12, 16, 43, 2, 38, 76, 15, 13, 2, 4, 22, 17, 2, 17, 12, 16, 2, 18, 2, 5, 62, 386, 12, 8, 316, 8, 106, 5, 4, 2, 2, 16, 480, 66, 2, 33, 4, 130, 12, 16, 38, 2, 5, 25, 124, 51, 36, 135, 48, 25, 2, 33, 6, 22, 12, 215, 28, 77, 52, 5, 14, 407, 16, 82, 2, 8, 4, 107, 117, 2, 15, 256, 4, 2, 7, 2, 5, 2, 36, 71, 43, 2, 476, 26, 400, 317, 46, 7, 4, 2, 2, 13, 104, 88, 4, 381, 15, 297, 98, 32, 2, 56, 26, 141, 6, 194, 2, 18, 4, 226, 22, 21, 134, 476, 26, 480, 5, 144, 30, 2, 18, 51, 36, 28, 224, 92, 25, 104, 4, 226, 65, 16, 38, 2, 88, 12, 16, 283, 5, 16, 2, 113, 103, 32, 15, 16, 2, 19, 178, 32]),\n",
       "       list([1, 194, 2, 194, 2, 78, 228, 5, 6, 2, 2, 2, 134, 26, 4, 2, 8, 118, 2, 14, 394, 20, 13, 119, 2, 189, 102, 5, 207, 110, 2, 21, 14, 69, 188, 8, 30, 23, 7, 4, 249, 126, 93, 4, 114, 9, 2, 2, 5, 2, 4, 116, 9, 35, 2, 4, 229, 9, 340, 2, 4, 118, 9, 4, 130, 2, 19, 4, 2, 5, 89, 29, 2, 46, 37, 4, 455, 9, 45, 43, 38, 2, 2, 398, 4, 2, 26, 2, 5, 163, 11, 2, 2, 4, 2, 9, 194, 2, 7, 2, 2, 349, 2, 148, 2, 2, 2, 15, 123, 125, 68, 2, 2, 15, 349, 165, 2, 98, 5, 4, 228, 9, 43, 2, 2, 15, 299, 120, 5, 120, 174, 11, 220, 175, 136, 50, 9, 2, 228, 2, 5, 2, 2, 245, 2, 5, 4, 2, 131, 152, 491, 18, 2, 32, 2, 2, 14, 9, 6, 371, 78, 22, 2, 64, 2, 9, 8, 168, 145, 23, 4, 2, 15, 16, 4, 2, 5, 28, 6, 52, 154, 462, 33, 89, 78, 285, 16, 145, 95]),\n",
       "       list([1, 14, 47, 8, 30, 31, 7, 4, 249, 108, 7, 4, 2, 54, 61, 369, 13, 71, 149, 14, 22, 112, 4, 2, 311, 12, 16, 2, 33, 75, 43, 2, 296, 4, 86, 320, 35, 2, 19, 263, 2, 2, 4, 2, 33, 89, 78, 12, 66, 16, 4, 360, 7, 4, 58, 316, 334, 11, 4, 2, 43, 2, 2, 8, 257, 85, 2, 42, 2, 2, 83, 68, 2, 15, 36, 165, 2, 278, 36, 69, 2, 2, 8, 106, 14, 2, 2, 18, 6, 22, 12, 215, 28, 2, 40, 6, 87, 326, 23, 2, 21, 23, 22, 12, 272, 40, 57, 31, 11, 4, 22, 47, 6, 2, 51, 9, 170, 23, 2, 116, 2, 2, 13, 191, 79, 2, 89, 2, 14, 9, 8, 106, 2, 2, 35, 2, 6, 227, 7, 129, 113]),\n",
       "       ...,\n",
       "       list([1, 11, 6, 230, 245, 2, 9, 6, 2, 446, 2, 45, 2, 84, 2, 2, 21, 4, 2, 84, 2, 325, 2, 134, 2, 2, 84, 5, 36, 28, 57, 2, 21, 8, 140, 8, 2, 5, 2, 84, 56, 18, 2, 14, 9, 31, 7, 4, 2, 2, 2, 2, 2, 18, 6, 20, 207, 110, 2, 12, 8, 2, 2, 8, 97, 6, 20, 53, 2, 74, 4, 460, 364, 2, 29, 270, 11, 2, 108, 45, 40, 29, 2, 395, 11, 6, 2, 2, 7, 2, 89, 364, 70, 29, 140, 4, 64, 2, 11, 4, 2, 26, 178, 4, 2, 443, 2, 5, 27, 2, 117, 2, 2, 165, 47, 84, 37, 131, 2, 14, 2, 10, 10, 61, 2, 2, 10, 10, 288, 2, 2, 34, 2, 2, 4, 65, 496, 4, 231, 7, 2, 5, 6, 320, 234, 2, 234, 2, 2, 7, 496, 4, 139, 2, 2, 2, 2, 5, 2, 18, 4, 2, 2, 250, 11, 2, 2, 4, 2, 2, 2, 2, 372, 2, 2, 2, 2, 7, 4, 59, 2, 4, 2, 2]),\n",
       "       list([1, 2, 2, 69, 72, 2, 13, 2, 2, 8, 12, 2, 23, 5, 16, 484, 2, 54, 349, 11, 2, 2, 45, 58, 2, 13, 197, 12, 16, 43, 23, 2, 5, 62, 30, 145, 402, 11, 2, 51, 2, 32, 61, 369, 71, 66, 2, 12, 2, 75, 100, 2, 8, 4, 105, 37, 69, 147, 2, 75, 2, 44, 257, 390, 5, 69, 263, 2, 105, 50, 286, 2, 23, 4, 123, 13, 161, 40, 5, 421, 4, 116, 16, 2, 13, 2, 40, 319, 2, 112, 2, 11, 2, 121, 25, 70, 2, 4, 2, 2, 13, 18, 31, 62, 40, 8, 2, 4, 2, 7, 14, 123, 5, 2, 25, 8, 2, 12, 145, 5, 202, 12, 160, 2, 202, 12, 6, 52, 58, 2, 92, 401, 2, 12, 39, 14, 251, 8, 15, 251, 5, 2, 12, 38, 84, 80, 124, 12, 9, 23]),\n",
       "       list([1, 17, 6, 194, 337, 7, 4, 204, 22, 45, 254, 8, 106, 14, 123, 4, 2, 270, 2, 5, 2, 2, 2, 2, 101, 405, 39, 14, 2, 4, 2, 9, 115, 50, 305, 12, 47, 4, 168, 5, 235, 7, 38, 111, 2, 102, 7, 4, 2, 2, 9, 24, 6, 78, 2, 17, 2, 2, 21, 27, 2, 2, 5, 2, 2, 92, 2, 4, 2, 7, 4, 204, 42, 97, 90, 35, 221, 109, 29, 127, 27, 118, 8, 97, 12, 157, 21, 2, 2, 9, 6, 66, 78, 2, 4, 2, 2, 5, 2, 272, 191, 2, 6, 2, 8, 2, 2, 2, 2, 5, 383, 2, 2, 2, 2, 497, 2, 8, 2, 2, 2, 21, 60, 27, 239, 9, 43, 2, 209, 405, 10, 10, 12, 2, 40, 4, 248, 20, 12, 16, 5, 174, 2, 72, 7, 51, 6, 2, 22, 4, 204, 131, 9])],\n",
       "      dtype=object)"
      ]
     },
     "execution_count": 4,
     "metadata": {},
     "output_type": "execute_result"
    }
   ],
   "source": [
    "train_input"
   ]
  },
  {
   "cell_type": "code",
   "execution_count": 5,
   "id": "28ad0769",
   "metadata": {},
   "outputs": [
    {
     "data": {
      "text/plain": [
       "[1,\n",
       " 14,\n",
       " 22,\n",
       " 16,\n",
       " 43,\n",
       " 2,\n",
       " 2,\n",
       " 2,\n",
       " 2,\n",
       " 65,\n",
       " 458,\n",
       " 2,\n",
       " 66,\n",
       " 2,\n",
       " 4,\n",
       " 173,\n",
       " 36,\n",
       " 256,\n",
       " 5,\n",
       " 25,\n",
       " 100,\n",
       " 43,\n",
       " 2,\n",
       " 112,\n",
       " 50,\n",
       " 2,\n",
       " 2,\n",
       " 9,\n",
       " 35,\n",
       " 480,\n",
       " 284,\n",
       " 5,\n",
       " 150,\n",
       " 4,\n",
       " 172,\n",
       " 112,\n",
       " 167,\n",
       " 2,\n",
       " 336,\n",
       " 385,\n",
       " 39,\n",
       " 4,\n",
       " 172,\n",
       " 2,\n",
       " 2,\n",
       " 17,\n",
       " 2,\n",
       " 38,\n",
       " 13,\n",
       " 447,\n",
       " 4,\n",
       " 192,\n",
       " 50,\n",
       " 16,\n",
       " 6,\n",
       " 147,\n",
       " 2,\n",
       " 19,\n",
       " 14,\n",
       " 22,\n",
       " 4,\n",
       " 2,\n",
       " 2,\n",
       " 469,\n",
       " 4,\n",
       " 22,\n",
       " 71,\n",
       " 87,\n",
       " 12,\n",
       " 16,\n",
       " 43,\n",
       " 2,\n",
       " 38,\n",
       " 76,\n",
       " 15,\n",
       " 13,\n",
       " 2,\n",
       " 4,\n",
       " 22,\n",
       " 17,\n",
       " 2,\n",
       " 17,\n",
       " 12,\n",
       " 16,\n",
       " 2,\n",
       " 18,\n",
       " 2,\n",
       " 5,\n",
       " 62,\n",
       " 386,\n",
       " 12,\n",
       " 8,\n",
       " 316,\n",
       " 8,\n",
       " 106,\n",
       " 5,\n",
       " 4,\n",
       " 2,\n",
       " 2,\n",
       " 16,\n",
       " 480,\n",
       " 66,\n",
       " 2,\n",
       " 33,\n",
       " 4,\n",
       " 130,\n",
       " 12,\n",
       " 16,\n",
       " 38,\n",
       " 2,\n",
       " 5,\n",
       " 25,\n",
       " 124,\n",
       " 51,\n",
       " 36,\n",
       " 135,\n",
       " 48,\n",
       " 25,\n",
       " 2,\n",
       " 33,\n",
       " 6,\n",
       " 22,\n",
       " 12,\n",
       " 215,\n",
       " 28,\n",
       " 77,\n",
       " 52,\n",
       " 5,\n",
       " 14,\n",
       " 407,\n",
       " 16,\n",
       " 82,\n",
       " 2,\n",
       " 8,\n",
       " 4,\n",
       " 107,\n",
       " 117,\n",
       " 2,\n",
       " 15,\n",
       " 256,\n",
       " 4,\n",
       " 2,\n",
       " 7,\n",
       " 2,\n",
       " 5,\n",
       " 2,\n",
       " 36,\n",
       " 71,\n",
       " 43,\n",
       " 2,\n",
       " 476,\n",
       " 26,\n",
       " 400,\n",
       " 317,\n",
       " 46,\n",
       " 7,\n",
       " 4,\n",
       " 2,\n",
       " 2,\n",
       " 13,\n",
       " 104,\n",
       " 88,\n",
       " 4,\n",
       " 381,\n",
       " 15,\n",
       " 297,\n",
       " 98,\n",
       " 32,\n",
       " 2,\n",
       " 56,\n",
       " 26,\n",
       " 141,\n",
       " 6,\n",
       " 194,\n",
       " 2,\n",
       " 18,\n",
       " 4,\n",
       " 226,\n",
       " 22,\n",
       " 21,\n",
       " 134,\n",
       " 476,\n",
       " 26,\n",
       " 480,\n",
       " 5,\n",
       " 144,\n",
       " 30,\n",
       " 2,\n",
       " 18,\n",
       " 51,\n",
       " 36,\n",
       " 28,\n",
       " 224,\n",
       " 92,\n",
       " 25,\n",
       " 104,\n",
       " 4,\n",
       " 226,\n",
       " 65,\n",
       " 16,\n",
       " 38,\n",
       " 2,\n",
       " 88,\n",
       " 12,\n",
       " 16,\n",
       " 283,\n",
       " 5,\n",
       " 16,\n",
       " 2,\n",
       " 113,\n",
       " 103,\n",
       " 32,\n",
       " 15,\n",
       " 16,\n",
       " 2,\n",
       " 19,\n",
       " 178,\n",
       " 32]"
      ]
     },
     "execution_count": 5,
     "metadata": {},
     "output_type": "execute_result"
    }
   ],
   "source": [
    "train_input[0]"
   ]
  },
  {
   "cell_type": "code",
   "execution_count": 12,
   "id": "52dab044",
   "metadata": {},
   "outputs": [
    {
     "name": "stdout",
     "output_type": "stream",
     "text": [
      "길이=  218\n",
      "길이=  189\n"
     ]
    }
   ],
   "source": [
    "# 데이터들의 길이가 같은지 다른지 확인\n",
    "# 0,1번째 데이터 확인\n",
    "print(\"길이= \", len(train_input[0]))\n",
    "print(\"길이= \", len(train_input[1]))"
   ]
  },
  {
   "cell_type": "code",
   "execution_count": 13,
   "id": "fc08fdae",
   "metadata": {},
   "outputs": [
    {
     "name": "stdout",
     "output_type": "stream",
     "text": [
      "(20000,) (20000,)\n",
      "(5000,) (5000,)\n"
     ]
    }
   ],
   "source": [
    "from sklearn.model_selection import train_test_split\n",
    "train_input, val_input, train_target, val_target = train_test_split(train_input, train_target, test_size=0.2, random_state=42)\n",
    "\n",
    "print(train_input.shape,train_target.shape)\n",
    "print(val_input.shape,val_target.shape)"
   ]
  },
  {
   "cell_type": "code",
   "execution_count": 14,
   "id": "e9ef0f6b",
   "metadata": {},
   "outputs": [
    {
     "data": {
      "text/plain": [
       "(20000,)"
      ]
     },
     "execution_count": 14,
     "metadata": {},
     "output_type": "execute_result"
    }
   ],
   "source": [
    "# 정규화\n",
    "# 데이터(문장=샘플)의 개수를 통일시키기\n",
    "# 평군, 중간값, 최소, 최대 길이 확인해 정규화 가능\n",
    "# 평균과 중간값을 이용\n",
    "import numpy as np\n",
    "\n",
    "# train_input 데이터의 각 데이터의 길이를 넘파이 배열로 추출하기\n",
    "lengths = np.array([len(x) for x in train_input])\n",
    "lengths.shape"
   ]
  },
  {
   "cell_type": "code",
   "execution_count": 15,
   "id": "bf973f46",
   "metadata": {},
   "outputs": [
    {
     "data": {
      "text/plain": [
       "array([259, 520, 290, ..., 300,  70,  77])"
      ]
     },
     "execution_count": 15,
     "metadata": {},
     "output_type": "execute_result"
    }
   ],
   "source": [
    "lengths"
   ]
  },
  {
   "cell_type": "code",
   "execution_count": 17,
   "id": "b644c4e5",
   "metadata": {},
   "outputs": [
    {
     "name": "stdout",
     "output_type": "stream",
     "text": [
      "평균 :  239.00925 중앙값 :  178.0\n"
     ]
    }
   ],
   "source": [
    "# 추출한 길이 데이터를 이용해서 평균과 중앙값 확인\n",
    "print(\"평균 : \", np.mean(lengths), \"중앙값 : \",np.median(lengths))\n",
    "# 해석\n",
    "# 중앙값이 평균값보다 작다는 것은 왼쪽으로 편중되어있다는 의미"
   ]
  },
  {
   "cell_type": "code",
   "execution_count": 18,
   "id": "eb3a9843",
   "metadata": {},
   "outputs": [
    {
     "data": {
      "image/png": "[encoded data removed]",
      "text/plain": [
       "<Figure size 640x480 with 1 Axes>"
      ]
     },
     "metadata": {},
     "output_type": "display_data"
    }
   ],
   "source": [
    "# 그래프로 시각화 해보기\n",
    "import matplotlib.pyplot as plt\n",
    "from matplotlib import font_manager, rc\n",
    "# 한글처리\n",
    "plt.rc(\"font\", family=\"Malgun Gothic\")\n",
    "plt.hist(lengths)\n",
    "plt.xlabel(\"길이\")\n",
    "plt.ylabel(\"빈도\")\n",
    "plt.show()"
   ]
  },
  {
   "cell_type": "code",
   "execution_count": 20,
   "id": "7cd8e6db",
   "metadata": {},
   "outputs": [
    {
     "name": "stdout",
     "output_type": "stream",
     "text": [
      "(20000,) (20000, 100)\n"
     ]
    }
   ],
   "source": [
    "# 각 데이터 문장은 100개의 단어로 통일시키기(정규화)\n",
    "from tensorflow.keras.preprocessing.sequence import pad_sequences\n",
    "# pad_sequences : 각 데이터의 단어 개수가 maxlen의 값보다 큰 경우 잘라내기\n",
    "# 특정 데이터의 단어 개수가 maxlen보다 작다면 단어가 있는 부분은 추출, 작은 공간은 0으로 100을 맞춰 채움\n",
    "train_seq = pad_sequences(train_input, maxlen=100)\n",
    "print(train_input.shape,train_seq.shape)"
   ]
  },
  {
   "cell_type": "code",
   "execution_count": 22,
   "id": "15e237e2",
   "metadata": {},
   "outputs": [
    {
     "data": {
      "text/plain": [
       "array([[ 10,   4,  20, ...,  10, 470, 158],\n",
       "       [206,   2,  26, ...,   6,   2,   2],\n",
       "       [  2,   7,   2, ...,   2,   2,  12],\n",
       "       ...,\n",
       "       [  2,  37, 299, ...,   7,  14,   2],\n",
       "       [  0,   0,   0, ...,  25, 170,   2],\n",
       "       [  0,   0,   0, ...,  25, 194,   2]])"
      ]
     },
     "execution_count": 22,
     "metadata": {},
     "output_type": "execute_result"
    }
   ],
   "source": [
    "train_seq"
   ]
  },
  {
   "cell_type": "code",
   "execution_count": 23,
   "id": "79913413",
   "metadata": {},
   "outputs": [
    {
     "name": "stdout",
     "output_type": "stream",
     "text": [
      "(5000,) (5000, 100)\n"
     ]
    }
   ],
   "source": [
    "#  검증데이터도 정규화\n",
    "val_seq = pad_sequences(val_input, maxlen=100)\n",
    "print(val_input.shape,val_seq.shape)"
   ]
  },
  {
   "cell_type": "code",
   "execution_count": 24,
   "id": "74ff226f",
   "metadata": {},
   "outputs": [],
   "source": [
    "# 뒷쪽 단어 자르기\n",
    "# truncating : 자르는 위치 지정\n",
    "# pre : 앞쪽 자르기(기본값)\n",
    "# post : 뒷쪽 자르기\n",
    "# 단어의 길이가 maxlen보다 작은 경우 해당없음\n",
    "# padding: 0으로 채우는 위치 지정\n",
    "# pre : 앞쪽 채우기(기본값), post : 뒷쪽 채우기\n",
    "train_seq = pad_sequences(train_input,maxlen=100,truncating=\"post\")\n",
    "# 보틍은 앞쪽을 자른다"
   ]
  },
  {
   "cell_type": "code",
   "execution_count": 25,
   "id": "7fb9f5c9",
   "metadata": {},
   "outputs": [],
   "source": [
    "from tensorflow import keras\n",
    "# 모델 생성\n",
    "model = keras.Sequential()"
   ]
  },
  {
   "cell_type": "code",
   "execution_count": 26,
   "id": "055876e0",
   "metadata": {},
   "outputs": [],
   "source": [
    "# 은닉층 추가 \n",
    "# RNN 계층 추가하기\n",
    "# 100 : 데이터 각각의 컴럼(단어) 개수\n",
    "# 500 : 500개의 말뭉치와 비교한 원-핫 인코딩 데이터가 들어감\n",
    "model.add(keras.layers.SimpleRNN(8, input_shape=(100,500)))\n",
    "\n",
    "# 출력층 추가\n",
    "model.add(keras.layers.Dense(1, activation=\"sigmoid\"))"
   ]
  },
  {
   "cell_type": "code",
   "execution_count": 27,
   "id": "c12d7c16",
   "metadata": {},
   "outputs": [
    {
     "data": {
      "text/plain": [
       "(20000, 100)"
      ]
     },
     "execution_count": 27,
     "metadata": {},
     "output_type": "execute_result"
    }
   ],
   "source": [
    "train_seq.shape"
   ]
  },
  {
   "cell_type": "code",
   "execution_count": 28,
   "id": "cfd0c1ff",
   "metadata": {},
   "outputs": [
    {
     "data": {
      "text/plain": [
       "(20000, 100, 500)"
      ]
     },
     "execution_count": 28,
     "metadata": {},
     "output_type": "execute_result"
    }
   ],
   "source": [
    "# 가장 많이 사용되는 단어들을 말뭉치에서 확인하기 위해 원-핫 인코딩하기\n",
    "# 각 데이터(문장) 내에서 가장 많이 사용된 단어를 1로 처리\n",
    "# 나머지는 모두 0으로 처리\n",
    "train_oh = keras.utils.to_categorical(train_seq)\n",
    "train_oh.shape"
   ]
  },
  {
   "cell_type": "code",
   "execution_count": 29,
   "id": "655f7a75",
   "metadata": {},
   "outputs": [
    {
     "data": {
      "text/plain": [
       "array([[[0., 1., 0., ..., 0., 0., 0.],\n",
       "        [0., 0., 0., ..., 0., 0., 0.],\n",
       "        [0., 0., 0., ..., 0., 0., 0.],\n",
       "        ...,\n",
       "        [0., 0., 1., ..., 0., 0., 0.],\n",
       "        [0., 0., 0., ..., 0., 0., 0.],\n",
       "        [0., 0., 0., ..., 0., 0., 0.]],\n",
       "\n",
       "       [[0., 1., 0., ..., 0., 0., 0.],\n",
       "        [0., 0., 0., ..., 0., 0., 0.],\n",
       "        [0., 0., 0., ..., 0., 0., 0.],\n",
       "        ...,\n",
       "        [0., 0., 0., ..., 0., 0., 0.],\n",
       "        [0., 0., 0., ..., 0., 0., 0.],\n",
       "        [0., 0., 0., ..., 0., 0., 0.]],\n",
       "\n",
       "       [[0., 1., 0., ..., 0., 0., 0.],\n",
       "        [0., 0., 1., ..., 0., 0., 0.],\n",
       "        [0., 0., 0., ..., 0., 0., 0.],\n",
       "        ...,\n",
       "        [0., 0., 1., ..., 0., 0., 0.],\n",
       "        [0., 0., 1., ..., 0., 0., 0.],\n",
       "        [0., 0., 0., ..., 0., 0., 0.]],\n",
       "\n",
       "       ...,\n",
       "\n",
       "       [[0., 1., 0., ..., 0., 0., 0.],\n",
       "        [0., 0., 1., ..., 0., 0., 0.],\n",
       "        [0., 0., 0., ..., 0., 0., 0.],\n",
       "        ...,\n",
       "        [0., 0., 0., ..., 0., 0., 0.],\n",
       "        [0., 0., 0., ..., 0., 0., 0.],\n",
       "        [0., 0., 0., ..., 0., 0., 0.]],\n",
       "\n",
       "       [[1., 0., 0., ..., 0., 0., 0.],\n",
       "        [1., 0., 0., ..., 0., 0., 0.],\n",
       "        [1., 0., 0., ..., 0., 0., 0.],\n",
       "        ...,\n",
       "        [0., 0., 0., ..., 0., 0., 0.],\n",
       "        [0., 0., 0., ..., 0., 0., 0.],\n",
       "        [0., 0., 1., ..., 0., 0., 0.]],\n",
       "\n",
       "       [[1., 0., 0., ..., 0., 0., 0.],\n",
       "        [1., 0., 0., ..., 0., 0., 0.],\n",
       "        [1., 0., 0., ..., 0., 0., 0.],\n",
       "        ...,\n",
       "        [0., 0., 0., ..., 0., 0., 0.],\n",
       "        [0., 0., 0., ..., 0., 0., 0.],\n",
       "        [0., 0., 1., ..., 0., 0., 0.]]], dtype=float32)"
      ]
     },
     "execution_count": 29,
     "metadata": {},
     "output_type": "execute_result"
    }
   ],
   "source": [
    "train_oh"
   ]
  },
  {
   "cell_type": "code",
   "execution_count": 30,
   "id": "a3b0433f",
   "metadata": {},
   "outputs": [
    {
     "data": {
      "text/plain": [
       "(5000, 100, 500)"
      ]
     },
     "execution_count": 30,
     "metadata": {},
     "output_type": "execute_result"
    }
   ],
   "source": [
    "# 검증 데이터도 원-핫 인코딩 처리\n",
    "val_oh = keras.utils.to_categorical(val_seq)\n",
    "val_oh.shape"
   ]
  },
  {
   "cell_type": "code",
   "execution_count": 31,
   "id": "ee282a33",
   "metadata": {},
   "outputs": [
    {
     "name": "stdout",
     "output_type": "stream",
     "text": [
      "Model: \"sequential\"\n",
      "_________________________________________________________________\n",
      " Layer (type)                Output Shape              Param #   \n",
      "=================================================================\n",
      " simple_rnn (SimpleRNN)      (None, 8)                 4072      \n",
      "                                                                 \n",
      " dense (Dense)               (None, 1)                 9         \n",
      "                                                                 \n",
      "=================================================================\n",
      "Total params: 4,081\n",
      "Trainable params: 4,081\n",
      "Non-trainable params: 0\n",
      "_________________________________________________________________\n"
     ]
    }
   ],
   "source": [
    "model.summary()\n",
    "# param 값 계산\n",
    "# 4072 = 500 (원핫) * 8(뉴런 출력개수) + 8(은닉상태크기) * 8(뉴런출력개수) + 8(절편개수)\n",
    "# 9 = 8(뉴런입력개수) + 1(뉴런출력개수)"
   ]
  },
  {
   "cell_type": "code",
   "execution_count": 32,
   "id": "324901cf",
   "metadata": {},
   "outputs": [],
   "source": [
    "# 모델 생성하기 : 컴파일\n",
    "# 최적화 알고리즘(옵티마이저) 정의\n",
    "# 순환신경망에서는 일반적으로 RMSprop을 주로 사용\n",
    "# learning_rate : 보폭\n",
    "rmsprop = keras.optimizers.RMSprop(learning_rate=0.0001)\n",
    "model.compile(optimizer=rmsprop,\n",
    "             loss=\"binary_crossentropy\",\n",
    "             metrics=[\"accuracy\"])"
   ]
  },
  {
   "cell_type": "code",
   "execution_count": 33,
   "id": "fe461a63",
   "metadata": {},
   "outputs": [],
   "source": [
    "# 콜백 함수\n",
    "checkpoint_cb = keras.callbacks.ModelCheckpoint(\"./model/best_simplernn_model.h5\")\n",
    "early_stopping_cb = keras.callbacks.EarlyStopping(patience=3,restore_best_weights=True)"
   ]
  },
  {
   "cell_type": "code",
   "execution_count": 34,
   "id": "b642452e",
   "metadata": {},
   "outputs": [
    {
     "name": "stdout",
     "output_type": "stream",
     "text": [
      "Epoch 1/100\n",
      "313/313 [==============================] - 5s 14ms/step - loss: 0.7015 - accuracy: 0.5033 - val_loss: 0.7033 - val_accuracy: 0.4950\n",
      "Epoch 2/100\n",
      "313/313 [==============================] - 4s 13ms/step - loss: 0.6979 - accuracy: 0.5064 - val_loss: 0.7009 - val_accuracy: 0.4928\n",
      "Epoch 3/100\n",
      "313/313 [==============================] - 4s 13ms/step - loss: 0.6957 - accuracy: 0.5109 - val_loss: 0.6994 - val_accuracy: 0.4904\n",
      "Epoch 4/100\n",
      "313/313 [==============================] - 4s 13ms/step - loss: 0.6940 - accuracy: 0.5156 - val_loss: 0.6983 - val_accuracy: 0.4960\n",
      "Epoch 5/100\n",
      "313/313 [==============================] - 4s 13ms/step - loss: 0.6927 - accuracy: 0.5203 - val_loss: 0.6974 - val_accuracy: 0.4936\n",
      "Epoch 6/100\n",
      "313/313 [==============================] - 4s 13ms/step - loss: 0.6915 - accuracy: 0.5243 - val_loss: 0.6969 - val_accuracy: 0.4970\n",
      "Epoch 7/100\n",
      "313/313 [==============================] - 4s 13ms/step - loss: 0.6905 - accuracy: 0.5283 - val_loss: 0.6963 - val_accuracy: 0.4992\n",
      "Epoch 8/100\n",
      "313/313 [==============================] - 4s 13ms/step - loss: 0.6894 - accuracy: 0.5354 - val_loss: 0.6958 - val_accuracy: 0.5002\n",
      "Epoch 9/100\n",
      "313/313 [==============================] - 4s 13ms/step - loss: 0.6884 - accuracy: 0.5393 - val_loss: 0.6955 - val_accuracy: 0.5004\n",
      "Epoch 10/100\n",
      "313/313 [==============================] - 4s 13ms/step - loss: 0.6874 - accuracy: 0.5433 - val_loss: 0.6951 - val_accuracy: 0.5064\n",
      "Epoch 11/100\n",
      "313/313 [==============================] - 4s 13ms/step - loss: 0.6863 - accuracy: 0.5491 - val_loss: 0.6949 - val_accuracy: 0.5054\n",
      "Epoch 12/100\n",
      "313/313 [==============================] - 4s 13ms/step - loss: 0.6852 - accuracy: 0.5523 - val_loss: 0.6945 - val_accuracy: 0.5102\n",
      "Epoch 13/100\n",
      "313/313 [==============================] - 4s 13ms/step - loss: 0.6840 - accuracy: 0.5559 - val_loss: 0.6942 - val_accuracy: 0.5140\n",
      "Epoch 14/100\n",
      "313/313 [==============================] - 4s 13ms/step - loss: 0.6828 - accuracy: 0.5590 - val_loss: 0.6939 - val_accuracy: 0.5166\n",
      "Epoch 15/100\n",
      "313/313 [==============================] - 4s 13ms/step - loss: 0.6816 - accuracy: 0.5635 - val_loss: 0.6938 - val_accuracy: 0.5182\n",
      "Epoch 16/100\n",
      "313/313 [==============================] - 4s 13ms/step - loss: 0.6803 - accuracy: 0.5679 - val_loss: 0.6934 - val_accuracy: 0.5250\n",
      "Epoch 17/100\n",
      "313/313 [==============================] - 4s 13ms/step - loss: 0.6789 - accuracy: 0.5717 - val_loss: 0.6929 - val_accuracy: 0.5260\n",
      "Epoch 18/100\n",
      "313/313 [==============================] - 4s 13ms/step - loss: 0.6774 - accuracy: 0.5753 - val_loss: 0.6927 - val_accuracy: 0.5276\n",
      "Epoch 19/100\n",
      "313/313 [==============================] - 4s 13ms/step - loss: 0.6758 - accuracy: 0.5793 - val_loss: 0.6921 - val_accuracy: 0.5304\n",
      "Epoch 20/100\n",
      "313/313 [==============================] - 4s 13ms/step - loss: 0.6742 - accuracy: 0.5836 - val_loss: 0.6918 - val_accuracy: 0.5330\n",
      "Epoch 21/100\n",
      "313/313 [==============================] - 4s 13ms/step - loss: 0.6724 - accuracy: 0.5886 - val_loss: 0.6908 - val_accuracy: 0.5348\n",
      "Epoch 22/100\n",
      "313/313 [==============================] - 4s 13ms/step - loss: 0.6705 - accuracy: 0.5942 - val_loss: 0.6901 - val_accuracy: 0.5356\n",
      "Epoch 23/100\n",
      "313/313 [==============================] - 4s 13ms/step - loss: 0.6685 - accuracy: 0.5964 - val_loss: 0.6893 - val_accuracy: 0.5400\n",
      "Epoch 24/100\n",
      "313/313 [==============================] - 4s 13ms/step - loss: 0.6663 - accuracy: 0.6032 - val_loss: 0.6876 - val_accuracy: 0.5414\n",
      "Epoch 25/100\n",
      "313/313 [==============================] - 4s 13ms/step - loss: 0.6636 - accuracy: 0.6082 - val_loss: 0.6852 - val_accuracy: 0.5518\n",
      "Epoch 26/100\n",
      "313/313 [==============================] - 4s 13ms/step - loss: 0.6601 - accuracy: 0.6167 - val_loss: 0.6810 - val_accuracy: 0.5614\n",
      "Epoch 27/100\n",
      "313/313 [==============================] - 4s 13ms/step - loss: 0.6531 - accuracy: 0.6274 - val_loss: 0.6676 - val_accuracy: 0.5944\n",
      "Epoch 28/100\n",
      "313/313 [==============================] - 4s 13ms/step - loss: 0.6205 - accuracy: 0.6605 - val_loss: 0.6107 - val_accuracy: 0.6796\n",
      "Epoch 29/100\n",
      "313/313 [==============================] - 4s 13ms/step - loss: 0.5897 - accuracy: 0.6948 - val_loss: 0.5929 - val_accuracy: 0.6978\n",
      "Epoch 30/100\n",
      "313/313 [==============================] - 4s 13ms/step - loss: 0.5718 - accuracy: 0.7128 - val_loss: 0.5747 - val_accuracy: 0.7178\n",
      "Epoch 31/100\n",
      "313/313 [==============================] - 4s 13ms/step - loss: 0.5568 - accuracy: 0.7268 - val_loss: 0.5665 - val_accuracy: 0.7252\n",
      "Epoch 32/100\n",
      "313/313 [==============================] - 4s 13ms/step - loss: 0.5452 - accuracy: 0.7368 - val_loss: 0.5550 - val_accuracy: 0.7338\n",
      "Epoch 33/100\n",
      "313/313 [==============================] - 4s 13ms/step - loss: 0.5345 - accuracy: 0.7438 - val_loss: 0.5464 - val_accuracy: 0.7394\n",
      "Epoch 34/100\n",
      "313/313 [==============================] - 4s 13ms/step - loss: 0.5251 - accuracy: 0.7517 - val_loss: 0.5381 - val_accuracy: 0.7418\n",
      "Epoch 35/100\n",
      "313/313 [==============================] - 4s 13ms/step - loss: 0.5170 - accuracy: 0.7571 - val_loss: 0.5320 - val_accuracy: 0.7444\n",
      "Epoch 36/100\n",
      "313/313 [==============================] - 4s 14ms/step - loss: 0.5097 - accuracy: 0.7596 - val_loss: 0.5241 - val_accuracy: 0.7492\n",
      "Epoch 37/100\n",
      "313/313 [==============================] - 4s 13ms/step - loss: 0.5026 - accuracy: 0.7658 - val_loss: 0.5218 - val_accuracy: 0.7518\n",
      "Epoch 38/100\n",
      "313/313 [==============================] - 4s 13ms/step - loss: 0.4962 - accuracy: 0.7722 - val_loss: 0.5135 - val_accuracy: 0.7558\n",
      "Epoch 39/100\n",
      "313/313 [==============================] - 4s 13ms/step - loss: 0.4899 - accuracy: 0.7752 - val_loss: 0.5085 - val_accuracy: 0.7574\n",
      "Epoch 40/100\n",
      "313/313 [==============================] - 4s 13ms/step - loss: 0.4839 - accuracy: 0.7781 - val_loss: 0.5072 - val_accuracy: 0.7572\n",
      "Epoch 41/100\n",
      "313/313 [==============================] - 4s 13ms/step - loss: 0.4792 - accuracy: 0.7818 - val_loss: 0.5030 - val_accuracy: 0.7608\n",
      "Epoch 42/100\n",
      "313/313 [==============================] - 4s 13ms/step - loss: 0.4744 - accuracy: 0.7828 - val_loss: 0.4988 - val_accuracy: 0.7630\n",
      "Epoch 43/100\n",
      "313/313 [==============================] - 4s 13ms/step - loss: 0.4702 - accuracy: 0.7860 - val_loss: 0.4963 - val_accuracy: 0.7646\n",
      "Epoch 44/100\n",
      "313/313 [==============================] - 4s 13ms/step - loss: 0.4660 - accuracy: 0.7894 - val_loss: 0.4942 - val_accuracy: 0.7672\n",
      "Epoch 45/100\n",
      "313/313 [==============================] - 4s 13ms/step - loss: 0.4628 - accuracy: 0.7912 - val_loss: 0.4937 - val_accuracy: 0.7662\n",
      "Epoch 46/100\n",
      "313/313 [==============================] - 4s 13ms/step - loss: 0.4590 - accuracy: 0.7930 - val_loss: 0.4915 - val_accuracy: 0.7662\n",
      "Epoch 47/100\n",
      "313/313 [==============================] - 4s 13ms/step - loss: 0.4565 - accuracy: 0.7959 - val_loss: 0.4918 - val_accuracy: 0.7708\n",
      "Epoch 48/100\n",
      "313/313 [==============================] - 4s 13ms/step - loss: 0.4533 - accuracy: 0.7973 - val_loss: 0.4920 - val_accuracy: 0.7656\n",
      "Epoch 49/100\n",
      "313/313 [==============================] - 4s 13ms/step - loss: 0.4505 - accuracy: 0.7986 - val_loss: 0.4871 - val_accuracy: 0.7686\n",
      "Epoch 50/100\n",
      "313/313 [==============================] - 4s 13ms/step - loss: 0.4482 - accuracy: 0.8008 - val_loss: 0.4858 - val_accuracy: 0.7688\n",
      "Epoch 51/100\n",
      "313/313 [==============================] - 4s 13ms/step - loss: 0.4455 - accuracy: 0.8018 - val_loss: 0.4876 - val_accuracy: 0.7686\n",
      "Epoch 52/100\n",
      "313/313 [==============================] - 4s 13ms/step - loss: 0.4429 - accuracy: 0.8025 - val_loss: 0.4892 - val_accuracy: 0.7728\n",
      "Epoch 53/100\n",
      "313/313 [==============================] - 4s 13ms/step - loss: 0.4411 - accuracy: 0.8037 - val_loss: 0.4836 - val_accuracy: 0.7718\n",
      "Epoch 54/100\n",
      "313/313 [==============================] - 4s 13ms/step - loss: 0.4394 - accuracy: 0.8043 - val_loss: 0.4845 - val_accuracy: 0.7694\n",
      "Epoch 55/100\n",
      "313/313 [==============================] - 4s 13ms/step - loss: 0.4373 - accuracy: 0.8043 - val_loss: 0.4852 - val_accuracy: 0.7712\n",
      "Epoch 56/100\n",
      "313/313 [==============================] - 4s 13ms/step - loss: 0.4353 - accuracy: 0.8066 - val_loss: 0.4837 - val_accuracy: 0.7692\n"
     ]
    }
   ],
   "source": [
    "# 모델 훈련 시키기\n",
    "# 반복 100번으로 생성\n",
    "# batch_size : target값과 비교할 데이터 개수 지정, 개수는 사용하는 데이터 개수보다 작게 지정\n",
    "history = model.fit(train_oh,train_target,epochs=100,batch_size=64,validation_data=(val_oh,val_target),\n",
    "         callbacks=[checkpoint_cb,early_stopping_cb])"
   ]
  },
  {
   "cell_type": "code",
   "execution_count": 35,
   "id": "b85203ce",
   "metadata": {},
   "outputs": [
    {
     "data": {
      "image/png": "[encoded data removed]",
      "text/plain": [
       "<Figure size 640x480 with 1 Axes>"
      ]
     },
     "metadata": {},
     "output_type": "display_data"
    }
   ],
   "source": [
    "# 훈련 검증 손실 곡선 \n",
    "# history 결과를 이용하여 손실곡선 그리기\n",
    "# 훈련 손실과 검증 손실 비교\n",
    "import matplotlib.pyplot as plt\n",
    "\n",
    "# 한글처리\n",
    "from matplotlib import font_manager, rc\n",
    "plt.rc(\"font\", family=\"Malgun Gothic\")\n",
    "\n",
    "plt.plot(history.epoch, history.history[\"loss\"],label=\"train\")\n",
    "plt.plot(history.epoch, history.history[\"val_loss\"],label=\"val\")\n",
    "plt.title(\"Epoch - loss\")\n",
    "plt.xlabel(\"epoch\")\n",
    "plt.ylabel(\"loss\")\n",
    "\n",
    "\n",
    "plt.legend()\n",
    "plt.show()"
   ]
  },
  {
   "cell_type": "code",
   "execution_count": 36,
   "id": "0768ce7d",
   "metadata": {},
   "outputs": [
    {
     "data": {
      "image/png": "[encoded data removed]",
      "text/plain": [
       "<Figure size 640x480 with 1 Axes>"
      ]
     },
     "metadata": {},
     "output_type": "display_data"
    }
   ],
   "source": [
    "# 정확도 곡선\n",
    "import matplotlib.pyplot as plt\n",
    "\n",
    "# 한글처리\n",
    "from matplotlib import font_manager, rc\n",
    "plt.rc(\"font\", family=\"Malgun Gothic\")\n",
    "\n",
    "plt.plot(history.epoch, history.history[\"accuracy\"],label=\"train\")\n",
    "plt.plot(history.epoch, history.history[\"val_accuracy\"],label=\"val\")\n",
    "plt.title(\"Epoch - accuracy\")\n",
    "plt.xlabel(\"epoch\")\n",
    "plt.ylabel(\"loss\")\n",
    "\n",
    "\n",
    "plt.legend()\n",
    "plt.show()"
   ]
  },
  {
   "cell_type": "code",
   "execution_count": 39,
   "id": "cfbc2340",
   "metadata": {},
   "outputs": [
    {
     "name": "stdout",
     "output_type": "stream",
     "text": [
      "Epoch 1/100\n",
      "313/313 [==============================] - 3s 8ms/step - loss: 0.6949 - accuracy: 0.5072 - val_loss: 0.6942 - val_accuracy: 0.4958\n",
      "Epoch 2/100\n",
      "313/313 [==============================] - 2s 7ms/step - loss: 0.6839 - accuracy: 0.5735 - val_loss: 0.6758 - val_accuracy: 0.6136\n",
      "Epoch 3/100\n",
      "313/313 [==============================] - 2s 8ms/step - loss: 0.6627 - accuracy: 0.6456 - val_loss: 0.6631 - val_accuracy: 0.6230\n",
      "Epoch 4/100\n",
      "313/313 [==============================] - 2s 7ms/step - loss: 0.6402 - accuracy: 0.6791 - val_loss: 0.6501 - val_accuracy: 0.6376\n",
      "Epoch 5/100\n",
      "313/313 [==============================] - 2s 7ms/step - loss: 0.6155 - accuracy: 0.7061 - val_loss: 0.6247 - val_accuracy: 0.6726\n",
      "Epoch 6/100\n",
      "313/313 [==============================] - 2s 7ms/step - loss: 0.5916 - accuracy: 0.7272 - val_loss: 0.5916 - val_accuracy: 0.7148\n",
      "Epoch 7/100\n",
      "313/313 [==============================] - 2s 7ms/step - loss: 0.5702 - accuracy: 0.7426 - val_loss: 0.5691 - val_accuracy: 0.7306\n",
      "Epoch 8/100\n",
      "313/313 [==============================] - 2s 7ms/step - loss: 0.5520 - accuracy: 0.7530 - val_loss: 0.5632 - val_accuracy: 0.7288\n",
      "Epoch 9/100\n",
      "313/313 [==============================] - 2s 7ms/step - loss: 0.5370 - accuracy: 0.7610 - val_loss: 0.5527 - val_accuracy: 0.7302\n",
      "Epoch 10/100\n",
      "313/313 [==============================] - 2s 7ms/step - loss: 0.5235 - accuracy: 0.7683 - val_loss: 0.5359 - val_accuracy: 0.7450\n",
      "Epoch 11/100\n",
      "313/313 [==============================] - 2s 7ms/step - loss: 0.5119 - accuracy: 0.7732 - val_loss: 0.5256 - val_accuracy: 0.7500\n",
      "Epoch 12/100\n",
      "313/313 [==============================] - 2s 7ms/step - loss: 0.5025 - accuracy: 0.7770 - val_loss: 0.5272 - val_accuracy: 0.7468\n",
      "Epoch 13/100\n",
      "313/313 [==============================] - 2s 7ms/step - loss: 0.4941 - accuracy: 0.7789 - val_loss: 0.5145 - val_accuracy: 0.7546\n",
      "Epoch 14/100\n",
      "313/313 [==============================] - 2s 7ms/step - loss: 0.4866 - accuracy: 0.7822 - val_loss: 0.5192 - val_accuracy: 0.7504\n",
      "Epoch 15/100\n",
      "313/313 [==============================] - 2s 7ms/step - loss: 0.4810 - accuracy: 0.7849 - val_loss: 0.5296 - val_accuracy: 0.7388\n",
      "Epoch 16/100\n",
      "313/313 [==============================] - 2s 7ms/step - loss: 0.4758 - accuracy: 0.7876 - val_loss: 0.4943 - val_accuracy: 0.7658\n",
      "Epoch 17/100\n",
      "313/313 [==============================] - 2s 7ms/step - loss: 0.4717 - accuracy: 0.7901 - val_loss: 0.4952 - val_accuracy: 0.7670\n",
      "Epoch 18/100\n",
      "313/313 [==============================] - 2s 7ms/step - loss: 0.4675 - accuracy: 0.7912 - val_loss: 0.4893 - val_accuracy: 0.7680\n",
      "Epoch 19/100\n",
      "313/313 [==============================] - 2s 7ms/step - loss: 0.4649 - accuracy: 0.7915 - val_loss: 0.4932 - val_accuracy: 0.7662\n",
      "Epoch 20/100\n",
      "313/313 [==============================] - 2s 7ms/step - loss: 0.4618 - accuracy: 0.7908 - val_loss: 0.4838 - val_accuracy: 0.7684\n",
      "Epoch 21/100\n",
      "313/313 [==============================] - 2s 7ms/step - loss: 0.4589 - accuracy: 0.7935 - val_loss: 0.4861 - val_accuracy: 0.7706\n",
      "Epoch 22/100\n",
      "313/313 [==============================] - 2s 7ms/step - loss: 0.4569 - accuracy: 0.7950 - val_loss: 0.4860 - val_accuracy: 0.7724\n",
      "Epoch 23/100\n",
      "313/313 [==============================] - 2s 7ms/step - loss: 0.4535 - accuracy: 0.7947 - val_loss: 0.4911 - val_accuracy: 0.7690\n"
     ]
    }
   ],
   "source": [
    "# 단어 임베딩 방식\n",
    "# 모델 생성\n",
    "model2 = keras.Sequential()\n",
    "\n",
    "# 계층 추가\n",
    "# 단어임베딩 레이어 추가\n",
    "# 500 : 주요 단어 500개\n",
    "# 16 : 단어 임베딩 벡터\n",
    "# 100 : 입력 데이터\n",
    "# 사용데이터 : train_seq, val_seq\n",
    "model2.add(keras.layers.Embedding(500,16,input_length=100))\n",
    "\n",
    "# 순환신경망 추가\n",
    "model2.add(keras.layers.SimpleRNN(8))\n",
    "\n",
    "# 출력층 추가\n",
    "model2.add(keras.layers.Dense(1, activation=\"sigmoid\"))\n",
    "\n",
    "# 컴파일\n",
    "rmsprop = keras.optimizers.RMSprop(learning_rate=0.0001)\n",
    "model2.compile(optimizer=rmsprop,\n",
    "             loss=\"binary_crossentropy\",\n",
    "             metrics=[\"accuracy\"])\n",
    "\n",
    "# 콜백 함수\n",
    "checkpoint_cb = keras.callbacks.ModelCheckpoint(\"./model/best_embedding_model.h5\")\n",
    "early_stopping_cb = keras.callbacks.EarlyStopping(patience=3,restore_best_weights=True)\n",
    "\n",
    "# 훈련\n",
    "history2 = model2.fit(train_seq,train_target,epochs=100,batch_size=64,validation_data=(val_seq,val_target),\n",
    "         callbacks=[checkpoint_cb,early_stopping_cb])"
   ]
  },
  {
   "cell_type": "code",
   "execution_count": 40,
   "id": "971bb837",
   "metadata": {},
   "outputs": [
    {
     "data": {
      "image/png": "[encoded data removed]",
      "text/plain": [
       "<Figure size 640x480 with 1 Axes>"
      ]
     },
     "metadata": {},
     "output_type": "display_data"
    }
   ],
   "source": [
    "# 훈련 검증 손실 곡선 \n",
    "# history 결과를 이용하여 손실곡선 그리기\n",
    "# 훈련 손실과 검증 손실 비교\n",
    "import matplotlib.pyplot as plt\n",
    "\n",
    "# 한글처리\n",
    "from matplotlib import font_manager, rc\n",
    "plt.rc(\"font\", family=\"Malgun Gothic\")\n",
    "\n",
    "plt.plot(history.epoch, history.history[\"loss\"],label=\"train\")\n",
    "plt.plot(history.epoch, history.history[\"val_loss\"],label=\"val\")\n",
    "plt.title(\"Epoch - loss\")\n",
    "plt.xlabel(\"epoch\")\n",
    "plt.ylabel(\"loss\")\n",
    "\n",
    "\n",
    "plt.legend()\n",
    "plt.show()"
   ]
  },
  {
   "cell_type": "code",
   "execution_count": 41,
   "id": "e886de86",
   "metadata": {},
   "outputs": [
    {
     "data": {
      "image/png": "[encoded data removed]",
      "text/plain": [
       "<Figure size 640x480 with 1 Axes>"
      ]
     },
     "metadata": {},
     "output_type": "display_data"
    }
   ],
   "source": [
    "# 정확도 곡선\n",
    "import matplotlib.pyplot as plt\n",
    "\n",
    "# 한글처리\n",
    "from matplotlib import font_manager, rc\n",
    "plt.rc(\"font\", family=\"Malgun Gothic\")\n",
    "\n",
    "plt.plot(history.epoch, history.history[\"accuracy\"],label=\"train\")\n",
    "plt.plot(history.epoch, history.history[\"val_accuracy\"],label=\"val\")\n",
    "plt.title(\"Epoch - accuracy\")\n",
    "plt.xlabel(\"epoch\")\n",
    "plt.ylabel(\"loss\")\n",
    "\n",
    "\n",
    "plt.legend()\n",
    "plt.show()"
   ]
  },
  {
   "cell_type": "code",
   "execution_count": null,
   "id": "3eb3c8e5",
   "metadata": {},
   "outputs": [],
   "source": []
  },
  {
   "cell_type": "code",
   "execution_count": null,
   "id": "774e1599",
   "metadata": {},
   "outputs": [],
   "source": []
  },
  {
   "cell_type": "code",
   "execution_count": null,
   "id": "92ee1609",
   "metadata": {},
   "outputs": [],
   "source": []
  },
  {
   "cell_type": "code",
   "execution_count": null,
   "id": "fa8ec8f4",
   "metadata": {},
   "outputs": [],
   "source": []
  },
  {
   "cell_type": "code",
   "execution_count": null,
   "id": "5f68385c",
   "metadata": {},
   "outputs": [],
   "source": []
  },
  {
   "cell_type": "code",
   "execution_count": null,
   "id": "0d854c65",
   "metadata": {},
   "outputs": [],
   "source": []
  },
  {
   "cell_type": "code",
   "execution_count": null,
   "id": "fc43b648",
   "metadata": {},
   "outputs": [],
   "source": []
  },
  {
   "cell_type": "code",
   "execution_count": null,
   "id": "1660870d",
   "metadata": {},
   "outputs": [],
   "source": []
  },
  {
   "cell_type": "code",
   "execution_count": null,
   "id": "1e462275",
   "metadata": {},
   "outputs": [],
   "source": []
  },
  {
   "cell_type": "code",
   "execution_count": null,
   "id": "3956f37c",
   "metadata": {},
   "outputs": [],
   "source": []
  },
  {
   "cell_type": "code",
   "execution_count": null,
   "id": "eeb81a26",
   "metadata": {},
   "outputs": [],
   "source": []
  },
  {
   "cell_type": "code",
   "execution_count": null,
   "id": "6b08a068",
   "metadata": {},
   "outputs": [],
   "source": []
  },
  {
   "cell_type": "code",
   "execution_count": null,
   "id": "b9c9fd06",
   "metadata": {},
   "outputs": [],
   "source": []
  },
  {
   "cell_type": "code",
   "execution_count": null,
   "id": "847c7917",
   "metadata": {},
   "outputs": [],
   "source": []
  },
  {
   "cell_type": "code",
   "execution_count": null,
   "id": "849b2053",
   "metadata": {},
   "outputs": [],
   "source": []
  },
  {
   "cell_type": "code",
   "execution_count": null,
   "id": "228840a1",
   "metadata": {},
   "outputs": [],
   "source": []
  },
  {
   "cell_type": "code",
   "execution_count": null,
   "id": "6c158b9f",
   "metadata": {},
   "outputs": [],
   "source": []
  },
  {
   "cell_type": "code",
   "execution_count": null,
   "id": "86cde74d",
   "metadata": {},
   "outputs": [],
   "source": []
  },
  {
   "cell_type": "code",
   "execution_count": null,
   "id": "1f02c939",
   "metadata": {},
   "outputs": [],
   "source": []
  },
  {
   "cell_type": "code",
   "execution_count": null,
   "id": "7b1bcd10",
   "metadata": {},
   "outputs": [],
   "source": []
  },
  {
   "cell_type": "code",
   "execution_count": null,
   "id": "a4b53fa1",
   "metadata": {},
   "outputs": [],
   "source": []
  },
  {
   "cell_type": "code",
   "execution_count": null,
   "id": "f48387a5",
   "metadata": {},
   "outputs": [],
   "source": []
  },
  {
   "cell_type": "code",
   "execution_count": null,
   "id": "e68b5ca2",
   "metadata": {},
   "outputs": [],
   "source": []
  },
  {
   "cell_type": "code",
   "execution_count": null,
   "id": "0e28cd9b",
   "metadata": {},
   "outputs": [],
   "source": []
  },
  {
   "cell_type": "code",
   "execution_count": null,
   "id": "0b02eed3",
   "metadata": {},
   "outputs": [],
   "source": []
  },
  {
   "cell_type": "code",
   "execution_count": null,
   "id": "50435cd8",
   "metadata": {},
   "outputs": [],
   "source": []
  },
  {
   "cell_type": "code",
   "execution_count": null,
   "id": "5ba7cc40",
   "metadata": {},
   "outputs": [],
   "source": []
  },
  {
   "cell_type": "code",
   "execution_count": null,
   "id": "fff503e2",
   "metadata": {},
   "outputs": [],
   "source": []
  },
  {
   "cell_type": "code",
   "execution_count": null,
   "id": "fc1621e0",
   "metadata": {},
   "outputs": [],
   "source": []
  },
  {
   "cell_type": "code",
   "execution_count": null,
   "id": "602737ce",
   "metadata": {},
   "outputs": [],
   "source": []
  },
  {
   "cell_type": "code",
   "execution_count": null,
   "id": "ae42a691",
   "metadata": {},
   "outputs": [],
   "source": []
  },
  {
   "cell_type": "code",
   "execution_count": null,
   "id": "97fb05b6",
   "metadata": {},
   "outputs": [],
   "source": []
  },
  {
   "cell_type": "code",
   "execution_count": null,
   "id": "36f7302f",
   "metadata": {},
   "outputs": [],
   "source": []
  },
  {
   "cell_type": "code",
   "execution_count": null,
   "id": "4222b089",
   "metadata": {},
   "outputs": [],
   "source": []
  }
 ],
 "metadata": {
  "kernelspec": {
   "display_name": "pknu_deep_kernel",
   "language": "python",
   "name": "pknu_deep"
  },
  "language_info": {
   "codemirror_mode": {
    "name": "ipython",
    "version": 3
   },
   "file_extension": ".py",
   "mimetype": "text/x-python",
   "name": "python",
   "nbconvert_exporter": "python",
   "pygments_lexer": "ipython3",
   "version": "3.9.16"
  }
 },
 "nbformat": 4,
 "nbformat_minor": 5
}
