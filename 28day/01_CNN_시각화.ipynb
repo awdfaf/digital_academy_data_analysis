{
 "cells": [
  {
   "cell_type": "markdown",
   "id": "ab7a522d",
   "metadata": {},
   "source": [
    "# 가중치 시각화"
   ]
  },
  {
   "cell_type": "code",
   "execution_count": 1,
   "id": "e68f8ff9",
   "metadata": {},
   "outputs": [],
   "source": [
    "from tensorflow import keras"
   ]
  },
  {
   "cell_type": "code",
   "execution_count": 2,
   "id": "82cdabe6",
   "metadata": {},
   "outputs": [
    {
     "name": "stdout",
     "output_type": "stream",
     "text": [
      "Model: \"sequential\"\n",
      "_________________________________________________________________\n",
      " Layer (type)                Output Shape              Param #   \n",
      "=================================================================\n",
      " conv2d (Conv2D)             (None, 28, 28, 32)        320       \n",
      "                                                                 \n",
      " max_pooling2d (MaxPooling2D  (None, 14, 14, 32)       0         \n",
      " )                                                               \n",
      "                                                                 \n",
      " conv2d_1 (Conv2D)           (None, 14, 14, 64)        18496     \n",
      "                                                                 \n",
      " max_pooling2d_1 (MaxPooling  (None, 7, 7, 64)         0         \n",
      " 2D)                                                             \n",
      "                                                                 \n",
      " flatten (Flatten)           (None, 3136)              0         \n",
      "                                                                 \n",
      " dense (Dense)               (None, 100)               313700    \n",
      "                                                                 \n",
      " dropout (Dropout)           (None, 100)               0         \n",
      "                                                                 \n",
      " dense_1 (Dense)             (None, 10)                1010      \n",
      "                                                                 \n",
      "=================================================================\n",
      "Total params: 333,526\n",
      "Trainable params: 333,526\n",
      "Non-trainable params: 0\n",
      "_________________________________________________________________\n"
     ]
    }
   ],
   "source": [
    "### 이전에 저장해 놓은 CNN 모델 읽어들이기\n",
    "# - best_cnn_model.h5 읽어들이고 계층 구조 확인하기\n",
    "model = keras.models.load_model(\"./model/best_cnn_model.h5\")\n",
    "model.summary()"
   ]
  },
  {
   "cell_type": "code",
   "execution_count": 3,
   "id": "716b84db",
   "metadata": {},
   "outputs": [
    {
     "data": {
      "text/plain": [
       "[<keras.layers.convolutional.Conv2D at 0x195862483a0>,\n",
       " <keras.layers.pooling.MaxPooling2D at 0x195862ff3d0>,\n",
       " <keras.layers.convolutional.Conv2D at 0x19586341370>,\n",
       " <keras.layers.pooling.MaxPooling2D at 0x19586376400>,\n",
       " <keras.layers.core.flatten.Flatten at 0x195863418b0>,\n",
       " <keras.layers.core.dense.Dense at 0x1958637d970>,\n",
       " <keras.layers.core.dropout.Dropout at 0x195863880a0>,\n",
       " <keras.layers.core.dense.Dense at 0x19586376ca0>]"
      ]
     },
     "execution_count": 3,
     "metadata": {},
     "output_type": "execute_result"
    }
   ],
   "source": [
    "### CNN 층 확인해보기 \n",
    "# - 리스트에 담겨져 있습니다.\n",
    "model.layers"
   ]
  },
  {
   "cell_type": "code",
   "execution_count": 4,
   "id": "0b17f1a8",
   "metadata": {},
   "outputs": [
    {
     "data": {
      "text/plain": [
       "<keras.layers.convolutional.Conv2D at 0x195862483a0>"
      ]
     },
     "execution_count": 4,
     "metadata": {},
     "output_type": "execute_result"
    }
   ],
   "source": [
    "### layer 계층 0번째 추출하여 conv 변수에 저장하기\n",
    "conv = model.layers[0]\n",
    "conv"
   ]
  },
  {
   "cell_type": "code",
   "execution_count": 5,
   "id": "f5175cc1",
   "metadata": {},
   "outputs": [
    {
     "data": {
      "text/plain": [
       "[<tf.Variable 'conv2d/kernel:0' shape=(3, 3, 1, 32) dtype=float32, numpy=\n",
       " array([[[[-2.70715747e-02, -3.64334673e-01,  1.44923940e-01,\n",
       "           -5.53468585e-01,  1.71300903e-01, -2.40872189e-01,\n",
       "           -3.34729031e-02, -2.07436122e-02,  3.46671283e-01,\n",
       "           -1.63056791e-01, -1.78918928e-01, -1.23954348e-01,\n",
       "            1.12633258e-01,  3.74692291e-01, -2.39041567e-01,\n",
       "           -4.13367152e-01,  2.37786904e-01,  2.46989354e-01,\n",
       "            1.67084500e-01, -9.78244096e-02,  5.92538305e-02,\n",
       "           -1.85600251e-01,  1.16631880e-01,  2.50530422e-01,\n",
       "            1.97506715e-02, -1.41533151e-01,  2.21208129e-02,\n",
       "           -2.91475147e-01, -2.05408409e-01, -3.97425261e-04,\n",
       "            9.55234692e-02,  1.62790537e-01]],\n",
       " \n",
       "         [[-3.04339349e-01, -1.45092952e+00, -1.63612306e-01,\n",
       "           -1.09460676e+00, -1.79750949e-01,  2.10777223e-01,\n",
       "           -1.16976447e-01,  1.12321533e-01, -2.96708316e-01,\n",
       "            4.28241938e-02,  5.56181073e-02,  1.41368151e-01,\n",
       "           -1.66998932e-03, -2.82181978e-01, -8.54839459e-02,\n",
       "            2.92896748e-01, -2.28988491e-02, -2.65623536e-02,\n",
       "            3.47438574e-01,  2.45170042e-01,  1.78815588e-01,\n",
       "            1.43057108e-01,  8.82967636e-02, -2.53938615e-01,\n",
       "            1.97153464e-01,  2.13227764e-01, -2.65108526e-01,\n",
       "           -3.74840379e-01,  1.34231880e-01,  5.90579920e-02,\n",
       "            1.80903926e-01, -2.45761260e-01]],\n",
       " \n",
       "         [[-2.25904271e-01, -1.52352381e+00, -1.86737493e-01,\n",
       "           -2.51824766e-01,  3.76312017e-01,  4.37089831e-01,\n",
       "            1.78356230e-01, -7.90381506e-02, -8.80260244e-02,\n",
       "            1.84416492e-02,  6.57667518e-02,  1.08388485e-02,\n",
       "           -1.32092819e-01,  2.16490507e-01,  1.60792872e-01,\n",
       "            1.23186849e-01,  6.89679384e-02, -1.00954115e-01,\n",
       "            2.53898740e-01, -1.18099369e-01,  5.43102920e-02,\n",
       "            4.89554480e-02,  3.19749191e-02, -6.59582317e-02,\n",
       "           -4.45655398e-02,  1.62608370e-01,  2.91314125e-01,\n",
       "           -7.52284676e-02, -2.09382981e-01, -3.20524313e-02,\n",
       "            1.83597818e-01, -4.14141417e-01]]],\n",
       " \n",
       " \n",
       "        [[[ 1.74318571e-02,  1.02134220e-01,  2.42452204e-01,\n",
       "            1.64853275e-01, -1.19870436e+00, -7.19579816e-01,\n",
       "           -2.79602915e-01, -2.82000024e-02,  2.90418655e-01,\n",
       "           -2.92447787e-02, -3.63892801e-02, -1.94438115e-01,\n",
       "            4.60374206e-02,  2.98118740e-02, -1.44290537e-01,\n",
       "            3.44858557e-01, -1.21097490e-01,  2.50971466e-01,\n",
       "            2.21479863e-01, -3.51423889e-01,  1.90123156e-01,\n",
       "           -3.90067905e-01,  7.42987543e-02,  1.89681917e-01,\n",
       "           -7.25943446e-02, -4.51233059e-01, -2.80148759e-02,\n",
       "            4.06910151e-01,  6.95881397e-02, -3.23700488e-01,\n",
       "            3.23793322e-01,  1.98341191e-01]],\n",
       " \n",
       "         [[-1.49737284e-01, -8.78136396e-01, -7.99238756e-02,\n",
       "           -6.71870187e-02, -8.51623774e-01, -6.68945432e-01,\n",
       "           -8.02446902e-02,  3.53266329e-01, -1.31428286e-01,\n",
       "            7.00669214e-02, -2.41385009e-02,  9.00446698e-02,\n",
       "            2.69198477e-01, -7.76908576e-01, -2.35796086e-02,\n",
       "           -2.36181766e-02, -4.37139690e-01, -2.91442603e-01,\n",
       "            2.63191271e-03,  1.70012206e-01,  1.80672824e-01,\n",
       "            2.25979567e-01,  9.44462791e-02,  2.38918930e-01,\n",
       "            1.22720655e-02,  5.62089379e-04, -1.94569603e-01,\n",
       "            3.53407651e-01,  2.43686512e-01,  3.30924869e-01,\n",
       "           -1.92159563e-02,  3.07438761e-01]],\n",
       " \n",
       "         [[ 4.28723283e-02, -8.55719745e-01, -1.89248115e-01,\n",
       "            1.30534559e-01,  7.40114748e-02, -8.15596357e-02,\n",
       "            3.39445144e-01, -3.28022897e-01,  2.05532368e-02,\n",
       "            3.86063717e-02,  9.87448096e-02,  1.93242431e-02,\n",
       "           -2.80664355e-01,  1.32717609e-01,  2.48738214e-01,\n",
       "           -3.19007188e-01,  3.49412382e-01, -1.24744557e-01,\n",
       "            7.32658152e-03,  1.91486210e-01, -1.90327764e-01,\n",
       "            1.53721452e-01,  1.29631400e-01,  6.80889115e-02,\n",
       "           -8.03413093e-02,  2.82314569e-01,  2.11862624e-01,\n",
       "            3.09531629e-01, -1.62243485e-01, -4.29703016e-03,\n",
       "           -4.00985479e-01, -1.41504139e-01]]],\n",
       " \n",
       " \n",
       "        [[[ 8.69277492e-02,  4.10967827e-01,  2.57574946e-01,\n",
       "           -2.03574762e-01, -1.08041811e+00,  2.87883550e-01,\n",
       "            3.81215781e-01, -1.99638158e-02, -5.02737835e-02,\n",
       "            1.02389894e-01, -1.51687801e-01,  1.64594352e-01,\n",
       "           -2.45180607e-01, -1.82040349e-01, -5.67837339e-03,\n",
       "            4.46599871e-02, -8.82219374e-02,  1.81254730e-01,\n",
       "           -1.02805950e-01, -2.82427251e-01,  3.20680439e-01,\n",
       "           -2.20250770e-01, -5.55952750e-02, -2.97225654e-01,\n",
       "            1.67201355e-01, -2.16711506e-01,  1.84435502e-01,\n",
       "           -8.15714076e-02, -9.13199559e-02, -2.45640963e-01,\n",
       "           -1.37637988e-01, -5.18359356e-02]],\n",
       " \n",
       "         [[ 2.41763145e-01,  6.47203252e-02, -6.45906404e-02,\n",
       "           -8.13053176e-02, -1.25753176e+00, -2.62567580e-01,\n",
       "           -1.78224310e-01,  3.52689028e-01,  8.45923424e-02,\n",
       "            1.23171374e-01, -1.44690797e-01,  3.20226233e-03,\n",
       "            3.71039391e-01, -1.47017384e+00,  3.74079645e-02,\n",
       "           -2.70135254e-01,  7.56669492e-02, -7.25249201e-02,\n",
       "           -4.93253499e-01,  2.25588650e-01, -1.67226657e-01,\n",
       "            1.97326794e-01,  6.78067729e-02, -2.20792860e-01,\n",
       "           -1.78728044e-01, -1.29794881e-01, -2.42948487e-01,\n",
       "           -4.68617380e-02, -8.32516886e-03,  1.93409339e-01,\n",
       "            1.40259996e-01, -8.75117704e-02]],\n",
       " \n",
       "         [[ 2.95141846e-01,  1.06818140e-01,  1.08085848e-01,\n",
       "            4.52371329e-01, -4.28352177e-01, -1.50493026e-01,\n",
       "           -2.12807372e-01, -3.02096397e-01, -7.19092190e-02,\n",
       "           -8.03497434e-02, -1.51819184e-01, -1.78611949e-01,\n",
       "           -9.47797522e-02,  6.30997941e-02,  1.80881679e-01,\n",
       "            1.97597593e-01, -8.37185979e-02,  8.88051987e-02,\n",
       "           -3.92309070e-01,  3.41386609e-02, -3.85417968e-01,\n",
       "            8.26532394e-03,  1.48871943e-01,  2.26578295e-01,\n",
       "           -1.02007426e-01, -1.11045785e-01,  5.32188043e-02,\n",
       "           -2.89725751e-01,  1.06860504e-01,  2.70490162e-02,\n",
       "           -2.97699332e-01,  1.30791277e-01]]]], dtype=float32)>,\n",
       " <tf.Variable 'conv2d/bias:0' shape=(32,) dtype=float32, numpy=\n",
       " array([-6.1171688e-03,  1.7519721e-01, -4.8672300e-02,  7.6408103e-02,\n",
       "         1.5353897e-01,  2.1814086e-02, -5.8705295e-03, -1.3044515e-02,\n",
       "        -1.4387050e-02, -1.6225836e-01, -4.7184799e-02, -8.3999515e-02,\n",
       "        -2.7680308e-02,  4.6533812e-02, -9.4267942e-02, -1.0775999e-05,\n",
       "        -4.7619687e-03, -1.7377330e-02, -1.2326485e-02, -1.2031922e-02,\n",
       "        -1.1428558e-01, -1.1634046e-02, -1.8726519e-01, -6.2715463e-02,\n",
       "        -6.4231165e-02,  4.0598631e-02, -1.0394768e-02,  1.7023679e-03,\n",
       "        -1.1403147e-02, -1.3752348e-02, -1.6605603e-02, -2.8946552e-02],\n",
       "       dtype=float32)>]"
      ]
     },
     "execution_count": 5,
     "metadata": {},
     "output_type": "execute_result"
    }
   ],
   "source": [
    "### 0번째 layer의 가중치 확인하기 \n",
    "# - shape(3 ,3 ,1, 32) : 현재 계층의 차원\n",
    "# - 3, 3 : 커널 사이즈 (3행 3열)\n",
    "# - 1 : 검정색 (색상 채널)\n",
    "# - 32 : 필터 개수 \n",
    "# - numpy : 가중치 값들 \n",
    "conv.weights "
   ]
  },
  {
   "cell_type": "code",
   "execution_count": 6,
   "id": "7868fa13",
   "metadata": {},
   "outputs": [
    {
     "name": "stdout",
     "output_type": "stream",
     "text": [
      "(3, 3, 1, 32) (32,)\n"
     ]
    }
   ],
   "source": [
    "### 0번째 layer의 입력 가중치와 target 가중치값 확인하기 \n",
    "print(conv.weights[0].shape, conv.weights[1].shape)"
   ]
  },
  {
   "cell_type": "code",
   "execution_count": 7,
   "id": "c18890d2",
   "metadata": {},
   "outputs": [
    {
     "data": {
      "text/plain": [
       "-0.044901147"
      ]
     },
     "execution_count": 7,
     "metadata": {},
     "output_type": "execute_result"
    }
   ],
   "source": [
    "### 입력에 대한 가중치 조회\n",
    "conv_weights = conv.weights[0].numpy()\n",
    "conv_weights.mean()"
   ]
  },
  {
   "cell_type": "markdown",
   "id": "af2efcb1",
   "metadata": {},
   "source": [
    "## CNN 가중치 시각화"
   ]
  },
  {
   "cell_type": "code",
   "execution_count": 8,
   "id": "b810afcf",
   "metadata": {},
   "outputs": [],
   "source": [
    "import matplotlib.pyplot as plt"
   ]
  },
  {
   "cell_type": "code",
   "execution_count": 9,
   "id": "f09487fa",
   "metadata": {},
   "outputs": [
    {
     "data": {
      "image/png": "[encoded data removed]",
      "text/plain": [
       "<Figure size 640x480 with 1 Axes>"
      ]
     },
     "metadata": {},
     "output_type": "display_data"
    }
   ],
   "source": [
    "### 히스토그램 그리기\n",
    "# - 데이터는 모두 1차원으로 만들아야 그릴 수 있음\n",
    "conv_weights.reshape(-1,1)\n",
    "\n",
    "plt.hist(conv_weights.reshape(-1,1))\n",
    "plt.xlabel(\"weight\")\n",
    "plt.ylabel(\"count\")\n",
    "plt.show()"
   ]
  },
  {
   "cell_type": "code",
   "execution_count": 10,
   "id": "f93ed39f",
   "metadata": {},
   "outputs": [
    {
     "data": {
      "text/plain": [
       "array([[[-2.70715747e-02, -3.64334673e-01,  1.44923940e-01,\n",
       "         -5.53468585e-01,  1.71300903e-01, -2.40872189e-01,\n",
       "         -3.34729031e-02, -2.07436122e-02,  3.46671283e-01,\n",
       "         -1.63056791e-01, -1.78918928e-01, -1.23954348e-01,\n",
       "          1.12633258e-01,  3.74692291e-01, -2.39041567e-01,\n",
       "         -4.13367152e-01,  2.37786904e-01,  2.46989354e-01,\n",
       "          1.67084500e-01, -9.78244096e-02,  5.92538305e-02,\n",
       "         -1.85600251e-01,  1.16631880e-01,  2.50530422e-01,\n",
       "          1.97506715e-02, -1.41533151e-01,  2.21208129e-02,\n",
       "         -2.91475147e-01, -2.05408409e-01, -3.97425261e-04,\n",
       "          9.55234692e-02,  1.62790537e-01],\n",
       "        [-3.04339349e-01, -1.45092952e+00, -1.63612306e-01,\n",
       "         -1.09460676e+00, -1.79750949e-01,  2.10777223e-01,\n",
       "         -1.16976447e-01,  1.12321533e-01, -2.96708316e-01,\n",
       "          4.28241938e-02,  5.56181073e-02,  1.41368151e-01,\n",
       "         -1.66998932e-03, -2.82181978e-01, -8.54839459e-02,\n",
       "          2.92896748e-01, -2.28988491e-02, -2.65623536e-02,\n",
       "          3.47438574e-01,  2.45170042e-01,  1.78815588e-01,\n",
       "          1.43057108e-01,  8.82967636e-02, -2.53938615e-01,\n",
       "          1.97153464e-01,  2.13227764e-01, -2.65108526e-01,\n",
       "         -3.74840379e-01,  1.34231880e-01,  5.90579920e-02,\n",
       "          1.80903926e-01, -2.45761260e-01],\n",
       "        [-2.25904271e-01, -1.52352381e+00, -1.86737493e-01,\n",
       "         -2.51824766e-01,  3.76312017e-01,  4.37089831e-01,\n",
       "          1.78356230e-01, -7.90381506e-02, -8.80260244e-02,\n",
       "          1.84416492e-02,  6.57667518e-02,  1.08388485e-02,\n",
       "         -1.32092819e-01,  2.16490507e-01,  1.60792872e-01,\n",
       "          1.23186849e-01,  6.89679384e-02, -1.00954115e-01,\n",
       "          2.53898740e-01, -1.18099369e-01,  5.43102920e-02,\n",
       "          4.89554480e-02,  3.19749191e-02, -6.59582317e-02,\n",
       "         -4.45655398e-02,  1.62608370e-01,  2.91314125e-01,\n",
       "         -7.52284676e-02, -2.09382981e-01, -3.20524313e-02,\n",
       "          1.83597818e-01, -4.14141417e-01]],\n",
       "\n",
       "       [[ 1.74318571e-02,  1.02134220e-01,  2.42452204e-01,\n",
       "          1.64853275e-01, -1.19870436e+00, -7.19579816e-01,\n",
       "         -2.79602915e-01, -2.82000024e-02,  2.90418655e-01,\n",
       "         -2.92447787e-02, -3.63892801e-02, -1.94438115e-01,\n",
       "          4.60374206e-02,  2.98118740e-02, -1.44290537e-01,\n",
       "          3.44858557e-01, -1.21097490e-01,  2.50971466e-01,\n",
       "          2.21479863e-01, -3.51423889e-01,  1.90123156e-01,\n",
       "         -3.90067905e-01,  7.42987543e-02,  1.89681917e-01,\n",
       "         -7.25943446e-02, -4.51233059e-01, -2.80148759e-02,\n",
       "          4.06910151e-01,  6.95881397e-02, -3.23700488e-01,\n",
       "          3.23793322e-01,  1.98341191e-01],\n",
       "        [-1.49737284e-01, -8.78136396e-01, -7.99238756e-02,\n",
       "         -6.71870187e-02, -8.51623774e-01, -6.68945432e-01,\n",
       "         -8.02446902e-02,  3.53266329e-01, -1.31428286e-01,\n",
       "          7.00669214e-02, -2.41385009e-02,  9.00446698e-02,\n",
       "          2.69198477e-01, -7.76908576e-01, -2.35796086e-02,\n",
       "         -2.36181766e-02, -4.37139690e-01, -2.91442603e-01,\n",
       "          2.63191271e-03,  1.70012206e-01,  1.80672824e-01,\n",
       "          2.25979567e-01,  9.44462791e-02,  2.38918930e-01,\n",
       "          1.22720655e-02,  5.62089379e-04, -1.94569603e-01,\n",
       "          3.53407651e-01,  2.43686512e-01,  3.30924869e-01,\n",
       "         -1.92159563e-02,  3.07438761e-01],\n",
       "        [ 4.28723283e-02, -8.55719745e-01, -1.89248115e-01,\n",
       "          1.30534559e-01,  7.40114748e-02, -8.15596357e-02,\n",
       "          3.39445144e-01, -3.28022897e-01,  2.05532368e-02,\n",
       "          3.86063717e-02,  9.87448096e-02,  1.93242431e-02,\n",
       "         -2.80664355e-01,  1.32717609e-01,  2.48738214e-01,\n",
       "         -3.19007188e-01,  3.49412382e-01, -1.24744557e-01,\n",
       "          7.32658152e-03,  1.91486210e-01, -1.90327764e-01,\n",
       "          1.53721452e-01,  1.29631400e-01,  6.80889115e-02,\n",
       "         -8.03413093e-02,  2.82314569e-01,  2.11862624e-01,\n",
       "          3.09531629e-01, -1.62243485e-01, -4.29703016e-03,\n",
       "         -4.00985479e-01, -1.41504139e-01]],\n",
       "\n",
       "       [[ 8.69277492e-02,  4.10967827e-01,  2.57574946e-01,\n",
       "         -2.03574762e-01, -1.08041811e+00,  2.87883550e-01,\n",
       "          3.81215781e-01, -1.99638158e-02, -5.02737835e-02,\n",
       "          1.02389894e-01, -1.51687801e-01,  1.64594352e-01,\n",
       "         -2.45180607e-01, -1.82040349e-01, -5.67837339e-03,\n",
       "          4.46599871e-02, -8.82219374e-02,  1.81254730e-01,\n",
       "         -1.02805950e-01, -2.82427251e-01,  3.20680439e-01,\n",
       "         -2.20250770e-01, -5.55952750e-02, -2.97225654e-01,\n",
       "          1.67201355e-01, -2.16711506e-01,  1.84435502e-01,\n",
       "         -8.15714076e-02, -9.13199559e-02, -2.45640963e-01,\n",
       "         -1.37637988e-01, -5.18359356e-02],\n",
       "        [ 2.41763145e-01,  6.47203252e-02, -6.45906404e-02,\n",
       "         -8.13053176e-02, -1.25753176e+00, -2.62567580e-01,\n",
       "         -1.78224310e-01,  3.52689028e-01,  8.45923424e-02,\n",
       "          1.23171374e-01, -1.44690797e-01,  3.20226233e-03,\n",
       "          3.71039391e-01, -1.47017384e+00,  3.74079645e-02,\n",
       "         -2.70135254e-01,  7.56669492e-02, -7.25249201e-02,\n",
       "         -4.93253499e-01,  2.25588650e-01, -1.67226657e-01,\n",
       "          1.97326794e-01,  6.78067729e-02, -2.20792860e-01,\n",
       "         -1.78728044e-01, -1.29794881e-01, -2.42948487e-01,\n",
       "         -4.68617380e-02, -8.32516886e-03,  1.93409339e-01,\n",
       "          1.40259996e-01, -8.75117704e-02],\n",
       "        [ 2.95141846e-01,  1.06818140e-01,  1.08085848e-01,\n",
       "          4.52371329e-01, -4.28352177e-01, -1.50493026e-01,\n",
       "         -2.12807372e-01, -3.02096397e-01, -7.19092190e-02,\n",
       "         -8.03497434e-02, -1.51819184e-01, -1.78611949e-01,\n",
       "         -9.47797522e-02,  6.30997941e-02,  1.80881679e-01,\n",
       "          1.97597593e-01, -8.37185979e-02,  8.88051987e-02,\n",
       "         -3.92309070e-01,  3.41386609e-02, -3.85417968e-01,\n",
       "          8.26532394e-03,  1.48871943e-01,  2.26578295e-01,\n",
       "         -1.02007426e-01, -1.11045785e-01,  5.32188043e-02,\n",
       "         -2.89725751e-01,  1.06860504e-01,  2.70490162e-02,\n",
       "         -2.97699332e-01,  1.30791277e-01]]], dtype=float32)"
      ]
     },
     "execution_count": 10,
     "metadata": {},
     "output_type": "execute_result"
    }
   ],
   "source": [
    "### 32개의 가중치 출력\n",
    "conv_weights.shape\n",
    "conv_weights[:,:,0,:]"
   ]
  },
  {
   "cell_type": "code",
   "execution_count": 11,
   "id": "739c5e0d",
   "metadata": {},
   "outputs": [
    {
     "data": {
      "image/png": "[encoded data removed]",
      "text/plain": [
       "<Figure size 1500x200 with 32 Axes>"
      ]
     },
     "metadata": {},
     "output_type": "display_data"
    }
   ],
   "source": [
    "# 1개 이미지의 특징(가중치) 그려보기\n",
    "# 2행 16열로 그리기, 전체 그래프 사이즈는 너비 15, 높이 2 \n",
    "fig, axs = plt.subplots(2, 16, figsize=(15, 2))\n",
    "for i in range(2) :\n",
    "    for j in range(16) :\n",
    "        ### 각 행렬에 픽셀 특징 그리기\n",
    "        # - vmin과 vmax는 픽셀의 최대/최소값을 지정하여 \n",
    "        # - 컬러맵으로 표현할 범위 지정(색상의 밝기)\n",
    "        # i * 16 + j : 공식, 32개 찍기위해 넣어줌 0~ 31까지 \n",
    "        axs[i, j].imshow(conv_weights[:,:,0,i*16+j],\n",
    "                        vmin=-0.5, vmax=0.5)\n",
    "        ### x, y축 좌표 숨기기\n",
    "        axs[i, j].axis(\"off\")"
   ]
  },
  {
   "cell_type": "code",
   "execution_count": 12,
   "id": "0ea7d7a1",
   "metadata": {},
   "outputs": [],
   "source": [
    "no_training_model = keras.Sequential()\n",
    "no_training_model.add(keras.layers.Conv2D(32, kernel_size=3,\n",
    "                                         activation=\"relu\",\n",
    "                                         padding=\"same\",\n",
    "                                         input_shape =(28,28,1)))"
   ]
  },
  {
   "cell_type": "code",
   "execution_count": 13,
   "id": "b264fabc",
   "metadata": {},
   "outputs": [
    {
     "data": {
      "text/plain": [
       "TensorShape([3, 3, 1, 32])"
      ]
     },
     "execution_count": 13,
     "metadata": {},
     "output_type": "execute_result"
    }
   ],
   "source": [
    "no_training_conv = no_training_model.layers[0]\n",
    "no_training_conv.weights[0].shape\n",
    "### 결과값 : (3, 3, 1, 32)"
   ]
  },
  {
   "cell_type": "code",
   "execution_count": 14,
   "id": "16ec992f",
   "metadata": {},
   "outputs": [
    {
     "name": "stdout",
     "output_type": "stream",
     "text": [
      "-0.00027497445 0.0808416\n"
     ]
    }
   ],
   "source": [
    "no_training_weights = no_training_conv.weights[0].numpy()\n",
    "\n",
    "print(no_training_weights.mean(), no_training_weights.std())"
   ]
  },
  {
   "cell_type": "code",
   "execution_count": 15,
   "id": "3a9818ea",
   "metadata": {},
   "outputs": [
    {
     "data": {
      "image/png": "[encoded data removed]",
      "text/plain": [
       "<Figure size 640x480 with 1 Axes>"
      ]
     },
     "metadata": {},
     "output_type": "display_data"
    }
   ],
   "source": [
    "### 히스토그램 그리기\n",
    "# - 데이터는 모두 1차원으로 만들아야 그릴 수 있음\n",
    "no_training_weights.reshape(-1,1)\n",
    "\n",
    "plt.hist(no_training_weights.reshape(-1,1))\n",
    "plt.xlabel(\"weight\")\n",
    "plt.ylabel(\"count\")\n",
    "plt.show()"
   ]
  },
  {
   "cell_type": "code",
   "execution_count": 16,
   "id": "c43bc79f",
   "metadata": {},
   "outputs": [
    {
     "data": {
      "image/png": "[encoded data removed]",
      "text/plain": [
       "<Figure size 1500x200 with 32 Axes>"
      ]
     },
     "metadata": {},
     "output_type": "display_data"
    }
   ],
   "source": [
    "# 1개 이미지의 특징(가중치) 그려보기\n",
    "# 2행 16열로 그리기, 전체 그래프 사이즈는 너비 15, 높이 2 \n",
    "fig, axs = plt.subplots(2, 16, figsize=(15, 2))\n",
    "for i in range(2) :\n",
    "    for j in range(16) :\n",
    "        ### 각 행렬에 픽셀 특징 그리기\n",
    "        # - vmin과 vmax는 픽셀의 최대/최소값을 지정하여 \n",
    "        # - 컬러맵으로 표현할 범위 지정(색상의 밝기)\n",
    "        # i * 16 + j : 공식, 32개 찍기위해 넣어줌 0~ 31까지 \n",
    "        axs[i, j].imshow(no_training_weights[:,:,0,i*16+j],\n",
    "                        vmin=-0.5, vmax=0.5)\n",
    "        ### x, y축 좌표 숨기기\n",
    "        axs[i, j].axis(\"off\")"
   ]
  },
  {
   "cell_type": "markdown",
   "id": "35bc8360",
   "metadata": {},
   "source": [
    "# 함수형 API"
   ]
  },
  {
   "cell_type": "code",
   "execution_count": 17,
   "id": "8b977764",
   "metadata": {},
   "outputs": [
    {
     "name": "stdout",
     "output_type": "stream",
     "text": [
      "KerasTensor(type_spec=TensorSpec(shape=(None, 28, 28, 1), dtype=tf.float32, name='conv2d_input'), name='conv2d_input', description=\"created by layer 'conv2d_input'\")\n"
     ]
    }
   ],
   "source": [
    "print(model.input)"
   ]
  },
  {
   "cell_type": "code",
   "execution_count": 18,
   "id": "35f48625",
   "metadata": {},
   "outputs": [
    {
     "name": "stdout",
     "output_type": "stream",
     "text": [
      "Model: \"sequential\"\n",
      "_________________________________________________________________\n",
      " Layer (type)                Output Shape              Param #   \n",
      "=================================================================\n",
      " conv2d (Conv2D)             (None, 28, 28, 32)        320       \n",
      "                                                                 \n",
      " max_pooling2d (MaxPooling2D  (None, 14, 14, 32)       0         \n",
      " )                                                               \n",
      "                                                                 \n",
      " conv2d_1 (Conv2D)           (None, 14, 14, 64)        18496     \n",
      "                                                                 \n",
      " max_pooling2d_1 (MaxPooling  (None, 7, 7, 64)         0         \n",
      " 2D)                                                             \n",
      "                                                                 \n",
      " flatten (Flatten)           (None, 3136)              0         \n",
      "                                                                 \n",
      " dense (Dense)               (None, 100)               313700    \n",
      "                                                                 \n",
      " dropout (Dropout)           (None, 100)               0         \n",
      "                                                                 \n",
      " dense_1 (Dense)             (None, 10)                1010      \n",
      "                                                                 \n",
      "=================================================================\n",
      "Total params: 333,526\n",
      "Trainable params: 333,526\n",
      "Non-trainable params: 0\n",
      "_________________________________________________________________\n"
     ]
    }
   ],
   "source": [
    "model.summary()"
   ]
  },
  {
   "cell_type": "code",
   "execution_count": 19,
   "id": "23566eac",
   "metadata": {},
   "outputs": [],
   "source": [
    "conv_acti = keras.models.Model(model.input, model.layers[0].output)"
   ]
  },
  {
   "cell_type": "code",
   "execution_count": 20,
   "id": "1bd0d80c",
   "metadata": {},
   "outputs": [
    {
     "name": "stdout",
     "output_type": "stream",
     "text": [
      "Model: \"model\"\n",
      "_________________________________________________________________\n",
      " Layer (type)                Output Shape              Param #   \n",
      "=================================================================\n",
      " conv2d_input (InputLayer)   [(None, 28, 28, 1)]       0         \n",
      "                                                                 \n",
      " conv2d (Conv2D)             (None, 28, 28, 32)        320       \n",
      "                                                                 \n",
      "=================================================================\n",
      "Total params: 320\n",
      "Trainable params: 320\n",
      "Non-trainable params: 0\n",
      "_________________________________________________________________\n"
     ]
    }
   ],
   "source": [
    "conv_acti.summary()"
   ]
  },
  {
   "cell_type": "code",
   "execution_count": 21,
   "id": "2da0b229",
   "metadata": {},
   "outputs": [],
   "source": [
    "(train_input, train_target), (test_input, test_target) = keras.datasets.fashion_mnist.load_data()"
   ]
  },
  {
   "cell_type": "code",
   "execution_count": 22,
   "id": "99649866",
   "metadata": {},
   "outputs": [
    {
     "data": {
      "image/png": "[encoded data removed]",
      "text/plain": [
       "<Figure size 640x480 with 1 Axes>"
      ]
     },
     "metadata": {},
     "output_type": "display_data"
    }
   ],
   "source": [
    "plt.imshow(train_input[0], cmap=\"gray_r\")\n",
    "plt.show()"
   ]
  },
  {
   "cell_type": "code",
   "execution_count": 23,
   "id": "9252da11",
   "metadata": {},
   "outputs": [],
   "source": [
    "inputs = train_input[0:1].reshape(-1,28,28,1)/255.0\n",
    "\n",
    "feature_maps = conv_acti.predict(inputs)"
   ]
  },
  {
   "cell_type": "code",
   "execution_count": 24,
   "id": "4e7a6abb",
   "metadata": {},
   "outputs": [
    {
     "name": "stdout",
     "output_type": "stream",
     "text": [
      "(1, 28, 28, 32)\n"
     ]
    }
   ],
   "source": [
    "print(feature_maps.shape)"
   ]
  },
  {
   "cell_type": "code",
   "execution_count": 25,
   "id": "fc90a7ba",
   "metadata": {},
   "outputs": [
    {
     "data": {
      "image/png": "[encoded data removed]",
      "text/plain": [
       "<Figure size 1500x800 with 32 Axes>"
      ]
     },
     "metadata": {},
     "output_type": "display_data"
    }
   ],
   "source": [
    "fig, axs = plt.subplots(4, 8, figsize=(15, 8))\n",
    "for i in range(4) :\n",
    "    for j in range(8) :\n",
    "        ### 각 행렬에 픽셀 특징 그리기\n",
    "        # - vmin과 vmax는 픽셀의 최대/최소값을 지정하여 \n",
    "        # - 컬러맵으로 표현할 범위 지정(색상의 밝기)\n",
    "        axs[i, j].imshow(feature_maps[0,:,:,i*8+j],\n",
    "                        vmin=-0.5, vmax=0.5)\n",
    "        ### x, y축 좌표 숨기기\n",
    "        axs[i, j].axis(\"off\")"
   ]
  },
  {
   "cell_type": "code",
   "execution_count": 26,
   "id": "e17635f0",
   "metadata": {},
   "outputs": [
    {
     "name": "stdout",
     "output_type": "stream",
     "text": [
      "Model: \"sequential\"\n",
      "_________________________________________________________________\n",
      " Layer (type)                Output Shape              Param #   \n",
      "=================================================================\n",
      " conv2d (Conv2D)             (None, 28, 28, 32)        320       \n",
      "                                                                 \n",
      " max_pooling2d (MaxPooling2D  (None, 14, 14, 32)       0         \n",
      " )                                                               \n",
      "                                                                 \n",
      " conv2d_1 (Conv2D)           (None, 14, 14, 64)        18496     \n",
      "                                                                 \n",
      " max_pooling2d_1 (MaxPooling  (None, 7, 7, 64)         0         \n",
      " 2D)                                                             \n",
      "                                                                 \n",
      " flatten (Flatten)           (None, 3136)              0         \n",
      "                                                                 \n",
      " dense (Dense)               (None, 100)               313700    \n",
      "                                                                 \n",
      " dropout (Dropout)           (None, 100)               0         \n",
      "                                                                 \n",
      " dense_1 (Dense)             (None, 10)                1010      \n",
      "                                                                 \n",
      "=================================================================\n",
      "Total params: 333,526\n",
      "Trainable params: 333,526\n",
      "Non-trainable params: 0\n",
      "_________________________________________________________________\n"
     ]
    }
   ],
   "source": [
    "model.summary()"
   ]
  },
  {
   "cell_type": "code",
   "execution_count": 27,
   "id": "60b9e4de",
   "metadata": {},
   "outputs": [],
   "source": [
    "### 모델 생성하기\n",
    "# - 기존 모델에서 입력부터~ layer 0~2 계층을 이용하여 생성하기\n",
    "# - CNN 시각화를 위해서는 4차원 데이터로 출력되는\n",
    "#   conv2D 계층까지만 사용하면 됨\n",
    "conv2_acti = keras.models.Model(model.input, model.layers[2].output)"
   ]
  },
  {
   "cell_type": "code",
   "execution_count": 28,
   "id": "3b690cd4",
   "metadata": {},
   "outputs": [
    {
     "name": "stdout",
     "output_type": "stream",
     "text": [
      "Model: \"model_1\"\n",
      "_________________________________________________________________\n",
      " Layer (type)                Output Shape              Param #   \n",
      "=================================================================\n",
      " conv2d_input (InputLayer)   [(None, 28, 28, 1)]       0         \n",
      "                                                                 \n",
      " conv2d (Conv2D)             (None, 28, 28, 32)        320       \n",
      "                                                                 \n",
      " max_pooling2d (MaxPooling2D  (None, 14, 14, 32)       0         \n",
      " )                                                               \n",
      "                                                                 \n",
      " conv2d_1 (Conv2D)           (None, 14, 14, 64)        18496     \n",
      "                                                                 \n",
      "=================================================================\n",
      "Total params: 18,816\n",
      "Trainable params: 18,816\n",
      "Non-trainable params: 0\n",
      "_________________________________________________________________\n"
     ]
    }
   ],
   "source": [
    "conv2_acti.summary()"
   ]
  },
  {
   "cell_type": "code",
   "execution_count": 29,
   "id": "c3cdf27a",
   "metadata": {},
   "outputs": [],
   "source": [
    "feature_maps = conv2_acti.predict(train_input[0:1].reshape(-1,28,28,1)/255.0)"
   ]
  },
  {
   "cell_type": "code",
   "execution_count": 30,
   "id": "4af1263c",
   "metadata": {},
   "outputs": [
    {
     "data": {
      "text/plain": [
       "(1, 14, 14, 64)"
      ]
     },
     "execution_count": 30,
     "metadata": {},
     "output_type": "execute_result"
    }
   ],
   "source": [
    "feature_maps.shape"
   ]
  },
  {
   "cell_type": "code",
   "execution_count": 31,
   "id": "b9e758c6",
   "metadata": {},
   "outputs": [
    {
     "data": {
      "image/png": "[encoded data removed]",
      "text/plain": [
       "<Figure size 1200x1200 with 64 Axes>"
      ]
     },
     "metadata": {},
     "output_type": "display_data"
    }
   ],
   "source": [
    "fig, axs = plt.subplots(8, 8, figsize=(12, 12))\n",
    "for i in range(8) :\n",
    "    for j in range(8) :\n",
    "        ### 각 행렬에 픽셀 특징 그리기\n",
    "        # - vmin과 vmax는 픽셀의 최대/최소값을 지정하여 \n",
    "        # - 컬러맵으로 표현할 범위 지정(색상의 밝기)\n",
    "        axs[i, j].imshow(feature_maps[0,:,:,i*8+j],\n",
    "                        vmin=-0.5, vmax=0.5)\n",
    "        ### x, y축 좌표 숨기기\n",
    "        axs[i, j].axis(\"off\")"
   ]
  },
  {
   "cell_type": "code",
   "execution_count": 32,
   "id": "5a1a12e1",
   "metadata": {},
   "outputs": [
    {
     "name": "stdout",
     "output_type": "stream",
     "text": [
      "Model: \"model_1\"\n",
      "_________________________________________________________________\n",
      " Layer (type)                Output Shape              Param #   \n",
      "=================================================================\n",
      " conv2d_input (InputLayer)   [(None, 28, 28, 1)]       0         \n",
      "                                                                 \n",
      " conv2d (Conv2D)             (None, 28, 28, 32)        320       \n",
      "                                                                 \n",
      " max_pooling2d (MaxPooling2D  (None, 14, 14, 32)       0         \n",
      " )                                                               \n",
      "                                                                 \n",
      " conv2d_1 (Conv2D)           (None, 14, 14, 64)        18496     \n",
      "                                                                 \n",
      "=================================================================\n",
      "Total params: 18,816\n",
      "Trainable params: 18,816\n",
      "Non-trainable params: 0\n",
      "_________________________________________________________________\n"
     ]
    }
   ],
   "source": [
    "conv2_acti.summary()"
   ]
  },
  {
   "cell_type": "code",
   "execution_count": null,
   "id": "19ff5e12",
   "metadata": {},
   "outputs": [],
   "source": []
  }
 ],
 "metadata": {
  "kernelspec": {
   "display_name": "pknu_deep_kernel",
   "language": "python",
   "name": "pknu_deep"
  },
  "language_info": {
   "codemirror_mode": {
    "name": "ipython",
    "version": 3
   },
   "file_extension": ".py",
   "mimetype": "text/x-python",
   "name": "python",
   "nbconvert_exporter": "python",
   "pygments_lexer": "ipython3",
   "version": "3.9.16"
  }
 },
 "nbformat": 4,
 "nbformat_minor": 5
}
