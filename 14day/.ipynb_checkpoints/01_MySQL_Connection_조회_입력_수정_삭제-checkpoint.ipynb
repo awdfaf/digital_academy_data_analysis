{
 "cells": [
  {
   "cell_type": "code",
   "execution_count": 1,
   "id": "923ca383",
   "metadata": {},
   "outputs": [],
   "source": [
    "# conda install -c conda-forge PyMySQL\n",
    "\n",
    "import pymysql"
   ]
  },
  {
   "cell_type": "markdown",
   "id": "7150eb80",
   "metadata": {},
   "source": [
    "# Mysql 접속하기"
   ]
  },
  {
   "cell_type": "code",
   "execution_count": 2,
   "id": "bb64fbd8",
   "metadata": {},
   "outputs": [],
   "source": [
    "host = \"localhost\"\n",
    "user = \"pknu\"\n",
    "password = \"dbdb\"\n",
    "charset = \"utf8\"\n",
    "db = \"pknu\"\n",
    "autocommit = True # 입력/수정/삭제 시에 메모리에 자동 적용\n",
    "cursorclass = pymysql.cursors.DictCursor # 조회시에 컬럼명과 데이터 함께 조회"
   ]
  },
  {
   "cell_type": "code",
   "execution_count": 3,
   "id": "9cf0a877",
   "metadata": {},
   "outputs": [
    {
     "name": "stdout",
     "output_type": "stream",
     "text": [
      "<pymysql.connections.Connection object at 0x00000242BD905BB0>\n"
     ]
    }
   ],
   "source": [
    "conn = pymysql.connect(host=host,\n",
    "                       user=user,\n",
    "                       password=password,\n",
    "                       db=db,\n",
    "                       charset=charset,\n",
    "                       autocommit=autocommit,\n",
    "                       cursorclass=cursorclass)\n",
    "print(conn)"
   ]
  },
  {
   "cell_type": "markdown",
   "id": "87756a2a",
   "metadata": {},
   "source": [
    "## MySQL로부터 cursor 받아오기"
   ]
  },
  {
   "cell_type": "code",
   "execution_count": 11,
   "id": "fc7dd4a4",
   "metadata": {},
   "outputs": [
    {
     "ename": "NameError",
     "evalue": "name 'conn' is not defined",
     "output_type": "error",
     "traceback": [
      "\u001b[1;31m---------------------------------------------------------------------------\u001b[0m",
      "\u001b[1;31mNameError\u001b[0m                                 Traceback (most recent call last)",
      "Cell \u001b[1;32mIn[11], line 3\u001b[0m\n\u001b[0;32m      1\u001b[0m \u001b[38;5;66;03m### cursor : sql 문장을 실어나르고, MySQL 서버가 실행한 결과를 받아오는 역할을 수행\u001b[39;00m\n\u001b[1;32m----> 3\u001b[0m cur \u001b[38;5;241m=\u001b[39m \u001b[43mconn\u001b[49m\u001b[38;5;241m.\u001b[39mcursor()\n\u001b[0;32m      4\u001b[0m \u001b[38;5;28mprint\u001b[39m(cur)\n",
      "\u001b[1;31mNameError\u001b[0m: name 'conn' is not defined"
     ]
    }
   ],
   "source": [
    "### cursor : sql 문장을 실어나르고, MySQL 서버가 실행한 결과를 받아오는 역할을 수행\n",
    "\n",
    "cur = conn.cursor()\n",
    "print(cur)"
   ]
  },
  {
   "cell_type": "code",
   "execution_count": null,
   "id": "a2b4dc7e",
   "metadata": {},
   "outputs": [],
   "source": []
  },
  {
   "cell_type": "code",
   "execution_count": null,
   "id": "a6609c46",
   "metadata": {},
   "outputs": [],
   "source": []
  }
 ],
 "metadata": {
  "kernelspec": {
   "display_name": "mysql_kernel",
   "language": "python",
   "name": "mysql"
  },
  "language_info": {
   "codemirror_mode": {
    "name": "ipython",
    "version": 3
   },
   "file_extension": ".py",
   "mimetype": "text/x-python",
   "name": "python",
   "nbconvert_exporter": "python",
   "pygments_lexer": "ipython3",
   "version": "3.9.16"
  }
 },
 "nbformat": 4,
 "nbformat_minor": 5
}
