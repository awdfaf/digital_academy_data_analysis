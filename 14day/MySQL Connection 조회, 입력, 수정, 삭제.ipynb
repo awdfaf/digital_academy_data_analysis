{
 "cells": [
  {
   "cell_type": "code",
   "execution_count": 11,
   "id": "0d1e69f2",
   "metadata": {},
   "outputs": [],
   "source": [
    "import pymysql\n",
    "import pandas as pd"
   ]
  },
  {
   "cell_type": "code",
   "execution_count": 3,
   "id": "a9a5a3f4",
   "metadata": {},
   "outputs": [],
   "source": [
    "# mysql 접속하기\n",
    "host = \"localhost\"\n",
    "user = \"pknu\"\n",
    "password = \"dbdb\"\n",
    "db = \"pknu\"\n",
    "charset = \"utf8\" # 한글처리\n",
    "autocommit = True # 입력/수정/삭제 시 메모리 자동 적용\n",
    "cursorclass = pymysql.cursors.DictCursor # 조회시 컬럼명과 데이터 함께 조회"
   ]
  },
  {
   "cell_type": "code",
   "execution_count": 4,
   "id": "2aa9d677",
   "metadata": {},
   "outputs": [
    {
     "name": "stdout",
     "output_type": "stream",
     "text": [
      "<pymysql.connections.Connection object at 0x000002190F9F3550>\n"
     ]
    }
   ],
   "source": [
    "# 예외처리\n",
    "try:\n",
    "    conn = pymysql.connect(host=host,\n",
    "                           user=user,\n",
    "                           password=password,\n",
    "                           db=db,\n",
    "                           charset=charset,\n",
    "                           autocommit=autocommit,\n",
    "                           cursorclass=cursorclass)\n",
    "    print(conn)\n",
    "except:\n",
    "    print(\"서버를 확인해주세요\")"
   ]
  },
  {
   "cell_type": "code",
   "execution_count": 5,
   "id": "02a1d957",
   "metadata": {},
   "outputs": [
    {
     "name": "stdout",
     "output_type": "stream",
     "text": [
      "<pymysql.cursors.DictCursor object at 0x000002190FDE0C40>\n"
     ]
    }
   ],
   "source": [
    "# MySQL로 부터 cursor 받아오기\n",
    "# cursor : sql 문장을 실어나르고, MySQL 서버가 실행한 결과를 받아오는 역할 수행\n",
    "cur = conn.cursor()\n",
    "print(cur)"
   ]
  },
  {
   "cell_type": "code",
   "execution_count": 12,
   "id": "d38359c6",
   "metadata": {},
   "outputs": [
    {
     "name": "stdout",
     "output_type": "stream",
     "text": [
      "135건이 조회 되었습니다\n"
     ]
    }
   ],
   "source": [
    "# 여러건(행) 조회\n",
    "sql = \"\"\"\n",
    "    Select * From cart\n",
    "\"\"\"\n",
    "# execute : DB서버에 실어나르고 결과를 받아오라는 명령\n",
    "rs_cnt = cur.execute(sql)\n",
    "if rs_cnt > 0:\n",
    "    print(\"{}건이 조회 되었습니다\".format(rs_cnt))\n",
    "    # 여러건 조회 결과를 갖고 있는 변수 : 커서\n",
    "    rows = cur.fetchall()\n",
    "    #print(rows)\n",
    "    member_all = pd.DataFrame(rows)\n",
    "else:\n",
    "    print(\"조회 결과 없음\")"
   ]
  },
  {
   "cell_type": "code",
   "execution_count": 13,
   "id": "8d30281f",
   "metadata": {
    "scrolled": true
   },
   "outputs": [
    {
     "data": {
      "text/html": [
       "<div>\n",
       "<style scoped>\n",
       "    .dataframe tbody tr th:only-of-type {\n",
       "        vertical-align: middle;\n",
       "    }\n",
       "\n",
       "    .dataframe tbody tr th {\n",
       "        vertical-align: top;\n",
       "    }\n",
       "\n",
       "    .dataframe thead th {\n",
       "        text-align: right;\n",
       "    }\n",
       "</style>\n",
       "<table border=\"1\" class=\"dataframe\">\n",
       "  <thead>\n",
       "    <tr style=\"text-align: right;\">\n",
       "      <th></th>\n",
       "      <th>cart_member</th>\n",
       "      <th>cart_no</th>\n",
       "      <th>cart_prod</th>\n",
       "      <th>cart_qty</th>\n",
       "    </tr>\n",
       "  </thead>\n",
       "  <tbody>\n",
       "    <tr>\n",
       "      <th>0</th>\n",
       "      <td>a001</td>\n",
       "      <td>2005040100001</td>\n",
       "      <td>P101000001</td>\n",
       "      <td>5</td>\n",
       "    </tr>\n",
       "    <tr>\n",
       "      <th>1</th>\n",
       "      <td>a001</td>\n",
       "      <td>2005040100001</td>\n",
       "      <td>P201000018</td>\n",
       "      <td>16</td>\n",
       "    </tr>\n",
       "    <tr>\n",
       "      <th>2</th>\n",
       "      <td>a001</td>\n",
       "      <td>2005040100001</td>\n",
       "      <td>P302000003</td>\n",
       "      <td>7</td>\n",
       "    </tr>\n",
       "    <tr>\n",
       "      <th>3</th>\n",
       "      <td>t001</td>\n",
       "      <td>2005040100002</td>\n",
       "      <td>P101000002</td>\n",
       "      <td>2</td>\n",
       "    </tr>\n",
       "    <tr>\n",
       "      <th>4</th>\n",
       "      <td>t001</td>\n",
       "      <td>2005040100002</td>\n",
       "      <td>P302000004</td>\n",
       "      <td>2</td>\n",
       "    </tr>\n",
       "    <tr>\n",
       "      <th>...</th>\n",
       "      <td>...</td>\n",
       "      <td>...</td>\n",
       "      <td>...</td>\n",
       "      <td>...</td>\n",
       "    </tr>\n",
       "    <tr>\n",
       "      <th>130</th>\n",
       "      <td>m001</td>\n",
       "      <td>2005051800002</td>\n",
       "      <td>P202000010</td>\n",
       "      <td>23</td>\n",
       "    </tr>\n",
       "    <tr>\n",
       "      <th>131</th>\n",
       "      <td>m001</td>\n",
       "      <td>2005051800002</td>\n",
       "      <td>P202000011</td>\n",
       "      <td>25</td>\n",
       "    </tr>\n",
       "    <tr>\n",
       "      <th>132</th>\n",
       "      <td>m001</td>\n",
       "      <td>2005051800002</td>\n",
       "      <td>P302000003</td>\n",
       "      <td>7</td>\n",
       "    </tr>\n",
       "    <tr>\n",
       "      <th>133</th>\n",
       "      <td>m001</td>\n",
       "      <td>2005051800002</td>\n",
       "      <td>P302000004</td>\n",
       "      <td>2</td>\n",
       "    </tr>\n",
       "    <tr>\n",
       "      <th>134</th>\n",
       "      <td>o001</td>\n",
       "      <td>2005052100001</td>\n",
       "      <td>P201000002</td>\n",
       "      <td>2</td>\n",
       "    </tr>\n",
       "  </tbody>\n",
       "</table>\n",
       "<p>135 rows × 4 columns</p>\n",
       "</div>"
      ],
      "text/plain": [
       "    cart_member        cart_no   cart_prod  cart_qty\n",
       "0          a001  2005040100001  P101000001         5\n",
       "1          a001  2005040100001  P201000018        16\n",
       "2          a001  2005040100001  P302000003         7\n",
       "3          t001  2005040100002  P101000002         2\n",
       "4          t001  2005040100002  P302000004         2\n",
       "..          ...            ...         ...       ...\n",
       "130        m001  2005051800002  P202000010        23\n",
       "131        m001  2005051800002  P202000011        25\n",
       "132        m001  2005051800002  P302000003         7\n",
       "133        m001  2005051800002  P302000004         2\n",
       "134        o001  2005052100001  P201000002         2\n",
       "\n",
       "[135 rows x 4 columns]"
      ]
     },
     "execution_count": 13,
     "metadata": {},
     "output_type": "execute_result"
    }
   ],
   "source": [
    "member_all"
   ]
  },
  {
   "cell_type": "code",
   "execution_count": 18,
   "id": "6be0852b",
   "metadata": {},
   "outputs": [
    {
     "name": "stdout",
     "output_type": "stream",
     "text": [
      "1건이 조회 되었습니다\n",
      "{'mem_id': 'a001', 'mem_pass': 'asdfasdf', 'mem_name': '김은대', 'mem_regno1': '760115', 'mem_regno2': '1406420', 'mem_bir': datetime.datetime(1976, 1, 15, 0, 0), 'mem_zip': '135-972', 'mem_add1': '대전시 동구 용운동', 'mem_add2': '222-2번지', 'mem_hometel': '042-621-4615', 'mem_comtel': '042-621-4615', 'mem_hp': '011-621-4615', 'mem_mail': 'pyoedab@lycos.co.kr', 'mem_job': '주부', 'mem_like': '수영', 'mem_memorial': '결혼기념일', 'mem_memorialday': datetime.datetime(1999, 1, 12, 0, 0), 'mem_mileage': 1000, 'mem_delete': ''}\n"
     ]
    }
   ],
   "source": [
    "# 1건 조회\n",
    "sql = \"\"\"\n",
    "    Select * From member Where mem_id = 'a001'\n",
    "\"\"\"\n",
    "# execute : DB서버에 실어나르고 결과를 받아오라는 명령\n",
    "rs_cnt = cur.execute(sql)\n",
    "if rs_cnt > 0:\n",
    "    print(\"{}건이 조회 되었습니다\".format(rs_cnt))\n",
    "    # 여러건 조회 결과를 갖고 있는 변수 : 커서\n",
    "    row = cur.fetchone()\n",
    "    print(row)\n",
    "    member_one = pd.DataFrame([row])\n",
    "else:\n",
    "    print(\"조회 결과 없음\")"
   ]
  },
  {
   "cell_type": "code",
   "execution_count": 19,
   "id": "e6dad01d",
   "metadata": {},
   "outputs": [
    {
     "data": {
      "text/html": [
       "<div>\n",
       "<style scoped>\n",
       "    .dataframe tbody tr th:only-of-type {\n",
       "        vertical-align: middle;\n",
       "    }\n",
       "\n",
       "    .dataframe tbody tr th {\n",
       "        vertical-align: top;\n",
       "    }\n",
       "\n",
       "    .dataframe thead th {\n",
       "        text-align: right;\n",
       "    }\n",
       "</style>\n",
       "<table border=\"1\" class=\"dataframe\">\n",
       "  <thead>\n",
       "    <tr style=\"text-align: right;\">\n",
       "      <th></th>\n",
       "      <th>mem_id</th>\n",
       "      <th>mem_pass</th>\n",
       "      <th>mem_name</th>\n",
       "      <th>mem_regno1</th>\n",
       "      <th>mem_regno2</th>\n",
       "      <th>mem_bir</th>\n",
       "      <th>mem_zip</th>\n",
       "      <th>mem_add1</th>\n",
       "      <th>mem_add2</th>\n",
       "      <th>mem_hometel</th>\n",
       "      <th>mem_comtel</th>\n",
       "      <th>mem_hp</th>\n",
       "      <th>mem_mail</th>\n",
       "      <th>mem_job</th>\n",
       "      <th>mem_like</th>\n",
       "      <th>mem_memorial</th>\n",
       "      <th>mem_memorialday</th>\n",
       "      <th>mem_mileage</th>\n",
       "      <th>mem_delete</th>\n",
       "    </tr>\n",
       "  </thead>\n",
       "  <tbody>\n",
       "    <tr>\n",
       "      <th>0</th>\n",
       "      <td>a001</td>\n",
       "      <td>asdfasdf</td>\n",
       "      <td>김은대</td>\n",
       "      <td>760115</td>\n",
       "      <td>1406420</td>\n",
       "      <td>1976-01-15</td>\n",
       "      <td>135-972</td>\n",
       "      <td>대전시 동구 용운동</td>\n",
       "      <td>222-2번지</td>\n",
       "      <td>042-621-4615</td>\n",
       "      <td>042-621-4615</td>\n",
       "      <td>011-621-4615</td>\n",
       "      <td>pyoedab@lycos.co.kr</td>\n",
       "      <td>주부</td>\n",
       "      <td>수영</td>\n",
       "      <td>결혼기념일</td>\n",
       "      <td>1999-01-12</td>\n",
       "      <td>1000</td>\n",
       "      <td></td>\n",
       "    </tr>\n",
       "  </tbody>\n",
       "</table>\n",
       "</div>"
      ],
      "text/plain": [
       "  mem_id  mem_pass mem_name mem_regno1 mem_regno2    mem_bir  mem_zip  \\\n",
       "0   a001  asdfasdf      김은대     760115    1406420 1976-01-15  135-972   \n",
       "\n",
       "     mem_add1 mem_add2   mem_hometel    mem_comtel        mem_hp  \\\n",
       "0  대전시 동구 용운동  222-2번지  042-621-4615  042-621-4615  011-621-4615   \n",
       "\n",
       "              mem_mail mem_job mem_like mem_memorial mem_memorialday  \\\n",
       "0  pyoedab@lycos.co.kr      주부       수영        결혼기념일      1999-01-12   \n",
       "\n",
       "   mem_mileage mem_delete  \n",
       "0         1000             "
      ]
     },
     "execution_count": 19,
     "metadata": {},
     "output_type": "execute_result"
    }
   ],
   "source": [
    "member_one"
   ]
  },
  {
   "cell_type": "code",
   "execution_count": 20,
   "id": "6c84ca59",
   "metadata": {},
   "outputs": [
    {
     "name": "stdout",
     "output_type": "stream",
     "text": [
      "1건이 입력 되었습니다\n"
     ]
    }
   ],
   "source": [
    "# 데이터 입력,수정, 삭제\n",
    "sql = \"\"\"\n",
    "    Insert Into cart(cart_member, cart_no, cart_prod, cart_qty)\n",
    "    Values('t001', '202301190001', 'P101000002', 4)\n",
    "\"\"\"\n",
    "rs_cnt = cur.execute(sql)\n",
    "if rs_cnt > 0:\n",
    "    print(\"{}건이 입력 되었습니다\".format(rs_cnt))\n",
    "else:\n",
    "    print(\"입력 결과 없음\")"
   ]
  },
  {
   "cell_type": "code",
   "execution_count": 21,
   "id": "78fd6405",
   "metadata": {},
   "outputs": [
    {
     "name": "stdout",
     "output_type": "stream",
     "text": [
      "1건이 수정 되었습니다\n"
     ]
    }
   ],
   "source": [
    "# 수정\n",
    "sql = \"\"\"\n",
    "    Update cart\n",
    "    Set cart_qty = 14\n",
    "    Where cart_no = '202301190001'\n",
    "\"\"\"\n",
    "rs_cnt = cur.execute(sql)\n",
    "if rs_cnt > 0:\n",
    "    print(\"{}건이 수정 되었습니다\".format(rs_cnt))\n",
    "else:\n",
    "    print(\"수정 결과 없음\")"
   ]
  },
  {
   "cell_type": "code",
   "execution_count": 22,
   "id": "38d6a24a",
   "metadata": {},
   "outputs": [
    {
     "name": "stdout",
     "output_type": "stream",
     "text": [
      "1건이 삭제 되었습니다\n"
     ]
    }
   ],
   "source": [
    "# 삭제\n",
    "sql = \"\"\"\n",
    "    Delete From cart\n",
    "    Where cart_no = '202301190001'\n",
    "\"\"\"\n",
    "rs_cnt = cur.execute(sql)\n",
    "if rs_cnt > 0:\n",
    "    print(\"{}건이 삭제 되었습니다\".format(rs_cnt))\n",
    "else:\n",
    "    print(\"삭제 결과 없음\")"
   ]
  },
  {
   "cell_type": "code",
   "execution_count": 24,
   "id": "6279cb39",
   "metadata": {},
   "outputs": [
    {
     "name": "stdout",
     "output_type": "stream",
     "text": [
      "서버에 이상이 있거나, 이미 접속을 끊었습니다.\n"
     ]
    }
   ],
   "source": [
    "# DB와 연결 끊기\n",
    "# 연결 끊는 순서 : 커서 close, 접속 close\n",
    "# 예외처리\n",
    "try:\n",
    "    cur.close()\n",
    "    conn.close()\n",
    "except:\n",
    "    print(\"서버에 이상이 있거나, 이미 접속을 끊었습니다.\")"
   ]
  },
  {
   "cell_type": "code",
   "execution_count": null,
   "id": "4a935bab",
   "metadata": {},
   "outputs": [],
   "source": []
  },
  {
   "cell_type": "code",
   "execution_count": null,
   "id": "d584c74f",
   "metadata": {},
   "outputs": [],
   "source": []
  },
  {
   "cell_type": "code",
   "execution_count": null,
   "id": "dda3451b",
   "metadata": {},
   "outputs": [],
   "source": []
  },
  {
   "cell_type": "code",
   "execution_count": null,
   "id": "1ef98f0f",
   "metadata": {},
   "outputs": [],
   "source": []
  },
  {
   "cell_type": "code",
   "execution_count": null,
   "id": "d14d9bd7",
   "metadata": {},
   "outputs": [],
   "source": []
  },
  {
   "cell_type": "code",
   "execution_count": null,
   "id": "4cf53775",
   "metadata": {},
   "outputs": [],
   "source": []
  }
 ],
 "metadata": {
  "kernelspec": {
   "display_name": "mysql_kernel",
   "language": "python",
   "name": "mysql"
  },
  "language_info": {
   "codemirror_mode": {
    "name": "ipython",
    "version": 3
   },
   "file_extension": ".py",
   "mimetype": "text/x-python",
   "name": "python",
   "nbconvert_exporter": "python",
   "pygments_lexer": "ipython3",
   "version": "3.9.16"
  }
 },
 "nbformat": 4,
 "nbformat_minor": 5
}
