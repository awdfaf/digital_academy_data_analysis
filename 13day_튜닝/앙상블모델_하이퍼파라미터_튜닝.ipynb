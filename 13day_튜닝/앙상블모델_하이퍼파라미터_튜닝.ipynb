{
 "cells": [
  {
   "cell_type": "code",
   "execution_count": 59,
   "id": "62f32ff2",
   "metadata": {},
   "outputs": [],
   "source": [
    "# 전처리에 사용\n",
    "import pandas as pd\n",
    "import matplotlib as mpl\n",
    "import matplotlib.pylab as plt\n",
    "import seaborn as sns\n",
    "import numpy as np\n",
    "from sklearn.model_selection import train_test_split\n",
    "from sklearn.preprocessing import MinMaxScaler\n",
    "from sklearn.preprocessing import RobustScaler\n",
    "from sklearn.preprocessing import StandardScaler\n",
    "# 머신러닝에 사용\n",
    "from sklearn.model_selection import cross_validate\n",
    "# 특성 중요도\n",
    "from sklearn.inspection import permutation_importance\n",
    "#훈련모델\n",
    "from sklearn.ensemble import RandomForestClassifier\n",
    "from sklearn.ensemble import ExtraTreesClassifier\n",
    "from sklearn.ensemble import GradientBoostingClassifier\n",
    "from sklearn.ensemble import HistGradientBoostingClassifier\n",
    "from xgboost import XGBClassifier\n",
    "from lightgbm import LGBMClassifier\n",
    "# 훈련모델 평가를 위한 metrics\n",
    "from sklearn.metrics import accuracy_score\n",
    "from sklearn.metrics import precision_score\n",
    "from sklearn.metrics import recall_score\n",
    "from sklearn.metrics import f1_score\n",
    "from sklearn.metrics import plot_confusion_matrix\n",
    "# 한글폰트 설정\n",
    "plt.rc(\"font\", family = \"Malgun Gothic\")\n",
    "# 마이너스값에 대한 기호표시\n",
    "plt.rcParams[\"axes.unicode_minus\"] = False"
   ]
  },
  {
   "cell_type": "code",
   "execution_count": 60,
   "id": "aaeeab66",
   "metadata": {},
   "outputs": [
    {
     "data": {
      "text/html": [
       "<div>\n",
       "<style scoped>\n",
       "    .dataframe tbody tr th:only-of-type {\n",
       "        vertical-align: middle;\n",
       "    }\n",
       "\n",
       "    .dataframe tbody tr th {\n",
       "        vertical-align: top;\n",
       "    }\n",
       "\n",
       "    .dataframe thead th {\n",
       "        text-align: right;\n",
       "    }\n",
       "</style>\n",
       "<table border=\"1\" class=\"dataframe\">\n",
       "  <thead>\n",
       "    <tr style=\"text-align: right;\">\n",
       "      <th></th>\n",
       "      <th>pH</th>\n",
       "      <th>Temp</th>\n",
       "      <th>Voltage</th>\n",
       "      <th>QC</th>\n",
       "    </tr>\n",
       "  </thead>\n",
       "  <tbody>\n",
       "    <tr>\n",
       "      <th>0</th>\n",
       "      <td>2.15</td>\n",
       "      <td>43.15</td>\n",
       "      <td>19.74</td>\n",
       "      <td>0</td>\n",
       "    </tr>\n",
       "    <tr>\n",
       "      <th>1</th>\n",
       "      <td>2.08</td>\n",
       "      <td>40.13</td>\n",
       "      <td>18.01</td>\n",
       "      <td>0</td>\n",
       "    </tr>\n",
       "    <tr>\n",
       "      <th>2</th>\n",
       "      <td>2.18</td>\n",
       "      <td>43.46</td>\n",
       "      <td>18.73</td>\n",
       "      <td>0</td>\n",
       "    </tr>\n",
       "    <tr>\n",
       "      <th>3</th>\n",
       "      <td>1.99</td>\n",
       "      <td>41.72</td>\n",
       "      <td>16.75</td>\n",
       "      <td>0</td>\n",
       "    </tr>\n",
       "    <tr>\n",
       "      <th>4</th>\n",
       "      <td>1.85</td>\n",
       "      <td>43.65</td>\n",
       "      <td>18.02</td>\n",
       "      <td>0</td>\n",
       "    </tr>\n",
       "    <tr>\n",
       "      <th>...</th>\n",
       "      <td>...</td>\n",
       "      <td>...</td>\n",
       "      <td>...</td>\n",
       "      <td>...</td>\n",
       "    </tr>\n",
       "    <tr>\n",
       "      <th>50089</th>\n",
       "      <td>2.05</td>\n",
       "      <td>42.84</td>\n",
       "      <td>15.38</td>\n",
       "      <td>0</td>\n",
       "    </tr>\n",
       "    <tr>\n",
       "      <th>50090</th>\n",
       "      <td>1.91</td>\n",
       "      <td>42.64</td>\n",
       "      <td>19.08</td>\n",
       "      <td>0</td>\n",
       "    </tr>\n",
       "    <tr>\n",
       "      <th>50091</th>\n",
       "      <td>2.11</td>\n",
       "      <td>44.09</td>\n",
       "      <td>18.14</td>\n",
       "      <td>0</td>\n",
       "    </tr>\n",
       "    <tr>\n",
       "      <th>50092</th>\n",
       "      <td>1.92</td>\n",
       "      <td>43.95</td>\n",
       "      <td>17.96</td>\n",
       "      <td>0</td>\n",
       "    </tr>\n",
       "    <tr>\n",
       "      <th>50093</th>\n",
       "      <td>1.81</td>\n",
       "      <td>44.11</td>\n",
       "      <td>19.22</td>\n",
       "      <td>0</td>\n",
       "    </tr>\n",
       "  </tbody>\n",
       "</table>\n",
       "<p>50094 rows × 4 columns</p>\n",
       "</div>"
      ],
      "text/plain": [
       "         pH   Temp  Voltage  QC\n",
       "0      2.15  43.15    19.74   0\n",
       "1      2.08  40.13    18.01   0\n",
       "2      2.18  43.46    18.73   0\n",
       "3      1.99  41.72    16.75   0\n",
       "4      1.85  43.65    18.02   0\n",
       "...     ...    ...      ...  ..\n",
       "50089  2.05  42.84    15.38   0\n",
       "50090  1.91  42.64    19.08   0\n",
       "50091  2.11  44.09    18.14   0\n",
       "50092  1.92  43.95    17.96   0\n",
       "50093  1.81  44.11    19.22   0\n",
       "\n",
       "[50094 rows x 4 columns]"
      ]
     },
     "execution_count": 60,
     "metadata": {},
     "output_type": "execute_result"
    }
   ],
   "source": [
    "# 데이터 읽어 들이기\n",
    "file_name = \"./data/01_org/final_df.csv\"\n",
    "df_data = pd.read_csv(file_name)\n",
    "df_data"
   ]
  },
  {
   "cell_type": "code",
   "execution_count": 61,
   "id": "8dee98e3",
   "metadata": {},
   "outputs": [
    {
     "name": "stdout",
     "output_type": "stream",
     "text": [
      "(50094, 3) (50094,)\n"
     ]
    }
   ],
   "source": [
    "# 훈련데이터(data, target) 생성 / 독립과 종속\n",
    "data = df_data[[\"pH\",\"Temp\",\"Voltage\"]].to_numpy() # 2차원\n",
    "target = df_data[\"QC\"].to_numpy() # 1차원\n",
    "print(data.shape, target.shape)"
   ]
  },
  {
   "cell_type": "code",
   "execution_count": 62,
   "id": "b2b32908",
   "metadata": {},
   "outputs": [
    {
     "name": "stdout",
     "output_type": "stream",
     "text": [
      "(40075, 3) (40075,)\n",
      "(10019, 3) (10019,)\n"
     ]
    }
   ],
   "source": [
    "# 훈련데이터와 테스트데이터로 분리\n",
    "train_input, test_input, train_target, test_target = train_test_split(data,target,\n",
    "                                                                      test_size=0.2,random_state=42)\n",
    "print(train_input.shape,train_target.shape)\n",
    "print(test_input.shape,test_target.shape)"
   ]
  },
  {
   "cell_type": "code",
   "execution_count": 63,
   "id": "3fe36776",
   "metadata": {},
   "outputs": [],
   "source": [
    "# 정규화(표준화)\n",
    "# - minmax_scale, robust_scale, StandardScaler"
   ]
  },
  {
   "cell_type": "code",
   "execution_count": 64,
   "id": "0e12d532",
   "metadata": {},
   "outputs": [
    {
     "name": "stdout",
     "output_type": "stream",
     "text": [
      "(40075, 3) (10019, 3)\n"
     ]
    }
   ],
   "source": [
    "# StandardScaler\n",
    "# 객체생성\n",
    "ss = StandardScaler()\n",
    "# 훈련시키기 - 정규화 데이터 생성\n",
    "ss.fit(train_input)\n",
    "# 생성된 정규화 데이터로 변환\n",
    "train_std_scaled = ss.transform(train_input)\n",
    "test_std_scaled = ss.transform(test_input)\n",
    "print(train_std_scaled.shape,test_std_scaled.shape)"
   ]
  },
  {
   "cell_type": "code",
   "execution_count": 65,
   "id": "9a33eb99",
   "metadata": {},
   "outputs": [
    {
     "name": "stdout",
     "output_type": "stream",
     "text": [
      "(40075, 3) (10019, 3)\n"
     ]
    }
   ],
   "source": [
    "# minmax_scale\n",
    "# 객체생성\n",
    "mm = MinMaxScaler()\n",
    "# 훈련시키기 - 정규화 데이터 생성\n",
    "mm.fit(train_input)\n",
    "# 생성된 정규화 데이터로 변환\n",
    "train_mm_scaled = mm.transform(train_input)\n",
    "test_mm_scaled = mm.transform(test_input)\n",
    "print(train_mm_scaled.shape,test_mm_scaled.shape)"
   ]
  },
  {
   "cell_type": "code",
   "execution_count": 66,
   "id": "4139fd46",
   "metadata": {},
   "outputs": [
    {
     "name": "stdout",
     "output_type": "stream",
     "text": [
      "(40075, 3) (10019, 3)\n"
     ]
    }
   ],
   "source": [
    "# robust_scale\n",
    "# 객체생성\n",
    "rs = RobustScaler()\n",
    "# 훈련시키기 - 정규화 데이터 생성\n",
    "rs.fit(train_input)\n",
    "# 생성된 정규화 데이터로 변환\n",
    "train_rs_scaled = rs.transform(train_input)\n",
    "test_rs_scaled = rs.transform(test_input)\n",
    "print(train_rs_scaled.shape,test_rs_scaled.shape)"
   ]
  },
  {
   "cell_type": "code",
   "execution_count": 67,
   "id": "2ca213c8",
   "metadata": {},
   "outputs": [
    {
     "name": "stdout",
     "output_type": "stream",
     "text": [
      "훈련정확도 :  0.999825327510917\n",
      "테스트정확도 :  0.9871244635193133\n",
      "Accuracy(테스트 정확도) :  0.9871244635193133\n",
      "Precision(정밀도) :  0.0\n",
      "Recall(재현율) :  0.0\n",
      "F1_score(F1스코어) :  0.0\n"
     ]
    },
    {
     "name": "stderr",
     "output_type": "stream",
     "text": [
      "C:\\Users\\Administrator\\anaconda3\\envs\\pknu_base\\lib\\site-packages\\sklearn\\metrics\\_classification.py:1334: UndefinedMetricWarning: Precision is ill-defined and being set to 0.0 due to no predicted samples. Use `zero_division` parameter to control this behavior.\n",
      "  _warn_prf(average, modifier, msg_start, len(result))\n"
     ]
    }
   ],
   "source": [
    "# 훈련하기\n",
    "\n",
    "# 랜덤포레스트 훈련하기\n",
    "rf = RandomForestClassifier(n_jobs=-1,random_state=42)\n",
    "rf.fit(train_std_scaled,train_target)\n",
    "print(\"훈련정확도 : \",rf.score(train_std_scaled,train_target))\n",
    "print(\"테스트정확도 : \",rf.score(test_std_scaled,test_target))\n",
    "\n",
    "# 예측하기\n",
    "y_pred = rf.predict(test_std_scaled)\n",
    "print(\"Accuracy(테스트 정확도) : \", accuracy_score(test_target,y_pred))\n",
    "print(\"Precision(정밀도) : \", precision_score(test_target,y_pred))\n",
    "print(\"Recall(재현율) : \", recall_score(test_target,y_pred))\n",
    "print(\"F1_score(F1스코어) : \", f1_score(test_target,y_pred))\n",
    "\n",
    "# 1에 가까울수록 좋음"
   ]
  },
  {
   "cell_type": "code",
   "execution_count": 68,
   "id": "ad136f23",
   "metadata": {},
   "outputs": [
    {
     "name": "stderr",
     "output_type": "stream",
     "text": [
      "C:\\Users\\Administrator\\anaconda3\\envs\\pknu_base\\lib\\site-packages\\sklearn\\utils\\deprecation.py:87: FutureWarning: Function plot_confusion_matrix is deprecated; Function `plot_confusion_matrix` is deprecated in 1.0 and will be removed in 1.2. Use one of the class methods: ConfusionMatrixDisplay.from_predictions or ConfusionMatrixDisplay.from_estimator.\n",
      "  warnings.warn(msg, category=FutureWarning)\n"
     ]
    },
    {
     "data": {
      "text/plain": [
       "<sklearn.metrics._plot.confusion_matrix.ConfusionMatrixDisplay at 0x20a38905d30>"
      ]
     },
     "execution_count": 68,
     "metadata": {},
     "output_type": "execute_result"
    },
    {
     "data": {
      "text/plain": [
       "<Figure size 3000x3000 with 0 Axes>"
      ]
     },
     "metadata": {},
     "output_type": "display_data"
    },
    {
     "data": {
      "image/png": "[encoded data removed]",
      "text/plain": [
       "<Figure size 640x480 with 2 Axes>"
      ]
     },
     "metadata": {},
     "output_type": "display_data"
    }
   ],
   "source": [
    "# 평가 매트릭스\n",
    "plt.figure(figsize=(30,30))\n",
    "plot_confusion_matrix(rf,test_std_scaled,test_target,\n",
    "                      include_values=True,\n",
    "                      display_labels=[\"미발생\",\"발생\"],\n",
    "                      cmap=\"Pastel1\")\n"
   ]
  },
  {
   "cell_type": "code",
   "execution_count": 69,
   "id": "f845e6e1",
   "metadata": {},
   "outputs": [
    {
     "name": "stdout",
     "output_type": "stream",
     "text": [
      "훈련정확도 : 테스트정확도 =  5 0.9968 0.9862 0.0105\n",
      "훈련정확도 : 테스트정확도 =  10 0.9967 0.9872 0.0095\n",
      "훈련정확도 : 테스트정확도 =  15 0.9986 0.9869 0.0116\n",
      "훈련정확도 : 테스트정확도 =  20 0.9985 0.987 0.0115\n",
      "훈련정확도 : 테스트정확도 =  25 0.9993 0.9869 0.0124\n",
      "훈련정확도 : 테스트정확도 =  30 0.9992 0.9869 0.0123\n",
      "훈련정확도 : 테스트정확도 =  35 0.9996 0.9869 0.0126\n",
      "훈련정확도 : 테스트정확도 =  40 0.9995 0.9869 0.0125\n",
      "훈련정확도 : 테스트정확도 =  45 0.9998 0.987 0.0127\n",
      "훈련정확도 : 테스트정확도 =  50 0.9996 0.987 0.0126\n",
      "훈련정확도 : 테스트정확도 =  55 0.9997 0.987 0.0126\n",
      "훈련정확도 : 테스트정확도 =  60 0.9997 0.987 0.0127\n",
      "훈련정확도 : 테스트정확도 =  65 0.9998 0.987 0.0128\n",
      "훈련정확도 : 테스트정확도 =  70 0.9998 0.987 0.0128\n",
      "훈련정확도 : 테스트정확도 =  75 0.9999 0.987 0.0128\n",
      "훈련정확도 : 테스트정확도 =  80 0.9998 0.987 0.0128\n",
      "훈련정확도 : 테스트정확도 =  85 0.9999 0.9872 0.0127\n",
      "훈련정확도 : 테스트정확도 =  90 0.9999 0.9872 0.0127\n",
      "훈련정확도 : 테스트정확도 =  95 0.9999 0.9871 0.0127\n",
      "훈련정확도 : 테스트정확도 =  100 0.9998 0.9871 0.0127\n",
      "훈련정확도 : 테스트정확도 =  105 0.9998 0.9872 0.0126\n",
      "훈련정확도 : 테스트정확도 =  110 0.9999 0.9872 0.0127\n",
      "훈련정확도 : 테스트정확도 =  115 0.9999 0.9872 0.0127\n",
      "훈련정확도 : 테스트정확도 =  120 0.9999 0.9871 0.0128\n",
      "훈련정확도 : 테스트정확도 =  125 0.9999 0.9872 0.0127\n",
      "훈련정확도 : 테스트정확도 =  130 0.9999 0.9871 0.0128\n",
      "훈련정확도 : 테스트정확도 =  135 1.0 0.9871 0.0128\n",
      "훈련정확도 : 테스트정확도 =  140 1.0 0.9871 0.0128\n",
      "훈련정확도 : 테스트정확도 =  145 1.0 0.9871 0.0128\n"
     ]
    }
   ],
   "source": [
    "# 하이퍼파라미터 튜닝 - 트리기반의 튜닝 진행\n",
    "# 1. 학습에 사용할 트리 개수 선정\n",
    "# - 기본값 설정\n",
    "n_estimator_min = 1\n",
    "n_estimator_max = 30\n",
    "# 트리의 개수를 5씩 증가된 30개 만들기\n",
    "param_n_tree = [n_tree * 5 for n_tree in range(n_estimator_min,n_estimator_max)]\n",
    "for v_n_estimators in param_n_tree:\n",
    "    model = RandomForestClassifier(n_estimators=v_n_estimators,random_state=42)\n",
    "    model.fit(train_std_scaled,train_target)\n",
    "    print(\"훈련정확도 : 테스트정확도 = \",\n",
    "          v_n_estimators, \n",
    "          round(model.score(train_std_scaled,train_target),4),\n",
    "          round(model.score(test_std_scaled,test_target),4),\n",
    "          round(model.score(train_std_scaled,train_target) - model.score(test_std_scaled,test_target),4))\n",
    "# 과대적합이 일어나지 않고 서로 가까운 지점 찾기"
   ]
  },
  {
   "cell_type": "code",
   "execution_count": 70,
   "id": "781520d7",
   "metadata": {},
   "outputs": [
    {
     "name": "stdout",
     "output_type": "stream",
     "text": [
      "훈련정확도 : 테스트정확도 =  5 0.9968 0.9862 0.0105\n",
      "훈련정확도 : 테스트정확도 =  10 0.9967 0.9872 0.0095\n",
      "훈련정확도 : 테스트정확도 =  15 0.9986 0.9869 0.0116\n",
      "훈련정확도 : 테스트정확도 =  20 0.9985 0.987 0.0115\n",
      "훈련정확도 : 테스트정확도 =  25 0.9993 0.9869 0.0124\n",
      "훈련정확도 : 테스트정확도 =  30 0.9992 0.9869 0.0123\n",
      "훈련정확도 : 테스트정확도 =  35 0.9996 0.9869 0.0126\n",
      "훈련정확도 : 테스트정확도 =  40 0.9995 0.9869 0.0125\n",
      "훈련정확도 : 테스트정확도 =  45 0.9998 0.987 0.0127\n",
      "훈련정확도 : 테스트정확도 =  50 0.9996 0.987 0.0126\n",
      "훈련정확도 : 테스트정확도 =  55 0.9997 0.987 0.0126\n",
      "훈련정확도 : 테스트정확도 =  60 0.9997 0.987 0.0127\n",
      "훈련정확도 : 테스트정확도 =  65 0.9998 0.987 0.0128\n",
      "훈련정확도 : 테스트정확도 =  70 0.9998 0.987 0.0128\n",
      "훈련정확도 : 테스트정확도 =  75 0.9999 0.987 0.0128\n",
      "훈련정확도 : 테스트정확도 =  80 0.9998 0.987 0.0128\n",
      "훈련정확도 : 테스트정확도 =  85 0.9999 0.9872 0.0127\n",
      "훈련정확도 : 테스트정확도 =  90 0.9999 0.9872 0.0127\n",
      "훈련정확도 : 테스트정확도 =  95 0.9999 0.9871 0.0127\n",
      "훈련정확도 : 테스트정확도 =  100 0.9998 0.9871 0.0127\n",
      "훈련정확도 : 테스트정확도 =  105 0.9998 0.9872 0.0126\n",
      "훈련정확도 : 테스트정확도 =  110 0.9999 0.9872 0.0127\n",
      "훈련정확도 : 테스트정확도 =  115 0.9999 0.9872 0.0127\n",
      "훈련정확도 : 테스트정확도 =  120 0.9999 0.9871 0.0128\n",
      "훈련정확도 : 테스트정확도 =  125 0.9999 0.9872 0.0127\n",
      "훈련정확도 : 테스트정확도 =  130 0.9999 0.9871 0.0128\n",
      "훈련정확도 : 테스트정확도 =  135 1.0 0.9871 0.0128\n",
      "훈련정확도 : 테스트정확도 =  140 1.0 0.9871 0.0128\n",
      "훈련정확도 : 테스트정확도 =  145 1.0 0.9871 0.0128\n"
     ]
    },
    {
     "data": {
      "image/png": "[encoded data removed]",
      "text/plain": [
       "<Figure size 640x480 with 1 Axes>"
      ]
     },
     "metadata": {},
     "output_type": "display_data"
    }
   ],
   "source": [
    "# 위 과정의 결과를 리스트에 저장\n",
    "train_score = []\n",
    "test_score = []\n",
    "n_estimator_min = 1\n",
    "n_estimator_max = 30\n",
    "# 트리의 개수를 5씩 증가된 30개 만들기\n",
    "param_n_tree = [n_tree * 5 for n_tree in range(n_estimator_min,n_estimator_max)]\n",
    "for v_n_estimators in param_n_tree:\n",
    "    model = RandomForestClassifier(n_estimators=v_n_estimators,random_state=42)\n",
    "    model.fit(train_std_scaled,train_target)\n",
    "    train_score.append(model.score(train_std_scaled,train_target))\n",
    "    test_score.append(model.score(test_std_scaled,test_target))               \n",
    "    print(\"훈련정확도 : 테스트정확도 = \",\n",
    "          v_n_estimators, \n",
    "          round(model.score(train_std_scaled,train_target),4),\n",
    "          round(model.score(test_std_scaled,test_target),4),\n",
    "          round(model.score(train_std_scaled,train_target) - model.score(test_std_scaled,test_target),4))\n",
    "                      \n",
    "plt.plot(param_n_tree,train_score,linestyle=\"-\",label=\"train score\")\n",
    "plt.plot(param_n_tree,test_score,linestyle=\"--\",label=\"test score\")\n",
    "plt.xlabel(\"n_tree\")\n",
    "plt.ylabel(\"Accuracy\")\n",
    "plt.legend()\n",
    "plt.show()"
   ]
  },
  {
   "cell_type": "code",
   "execution_count": 71,
   "id": "6618ffd6",
   "metadata": {},
   "outputs": [],
   "source": [
    "# 테스트정확도가 높아지다가 낮아지즌 첫번째 시점의 트리개수를 사용\n",
    "# - 과대/과소 적합이 없어야함\n",
    "# - 트리개수 변수에 저장\n",
    "# 10이 가장 최적\n",
    "n_estimator =10"
   ]
  },
  {
   "cell_type": "code",
   "execution_count": 72,
   "id": "479a8f03",
   "metadata": {},
   "outputs": [
    {
     "name": "stdout",
     "output_type": "stream",
     "text": [
      "훈련정확도 : 테스트정확도 =  1 0.9877 0.9871 0.0006\n",
      "훈련정확도 : 테스트정확도 =  2 0.9877 0.9871 0.0006\n",
      "훈련정확도 : 테스트정확도 =  3 0.9877 0.9871 0.0006\n",
      "훈련정확도 : 테스트정확도 =  4 0.9877 0.9871 0.0006\n",
      "훈련정확도 : 테스트정확도 =  5 0.9877 0.9871 0.0006\n",
      "훈련정확도 : 테스트정확도 =  6 0.9878 0.9871 0.0007\n",
      "훈련정확도 : 테스트정확도 =  7 0.988 0.9871 0.0008\n",
      "훈련정확도 : 테스트정확도 =  8 0.9881 0.9872 0.0009\n",
      "훈련정확도 : 테스트정확도 =  9 0.9882 0.9869 0.0013\n",
      "훈련정확도 : 테스트정확도 =  10 0.9883 0.9872 0.0011\n",
      "훈련정확도 : 테스트정확도 =  11 0.9886 0.9872 0.0014\n",
      "훈련정확도 : 테스트정확도 =  12 0.9888 0.9872 0.0015\n",
      "훈련정확도 : 테스트정확도 =  13 0.9889 0.9871 0.0017\n",
      "훈련정확도 : 테스트정확도 =  14 0.989 0.9871 0.0018\n",
      "훈련정확도 : 테스트정확도 =  15 0.9895 0.9872 0.0022\n",
      "훈련정확도 : 테스트정확도 =  16 0.9899 0.9871 0.0027\n",
      "훈련정확도 : 테스트정확도 =  17 0.9904 0.9872 0.0031\n",
      "훈련정확도 : 테스트정확도 =  18 0.9917 0.9871 0.0046\n",
      "훈련정확도 : 테스트정확도 =  19 0.9923 0.9872 0.0051\n",
      "훈련정확도 : 테스트정확도 =  20 0.9932 0.9868 0.0063\n"
     ]
    },
    {
     "data": {
      "image/png": "[encoded data removed]",
      "text/plain": [
       "<Figure size 640x480 with 1 Axes>"
      ]
     },
     "metadata": {},
     "output_type": "display_data"
    }
   ],
   "source": [
    "# 최대 깊이 선정\n",
    "# 트리의 깊이 찾기(max_depth)\n",
    "\n",
    "depth_min = 1\n",
    "depth_max = 21\n",
    "\n",
    "train_score = []\n",
    "test_score = []\n",
    "\n",
    "# 깊이찾기\n",
    "param_depth = [depth for depth in range(depth_min,depth_max)]\n",
    "for v_max_depth in param_depth:\n",
    "    model = RandomForestClassifier(n_estimators=n_estimator,max_depth=v_max_depth,random_state=42)\n",
    "    model.fit(train_std_scaled,train_target)\n",
    "    train_score.append(model.score(train_std_scaled,train_target))\n",
    "    test_score.append(model.score(test_std_scaled,test_target))               \n",
    "    print(\"훈련정확도 : 테스트정확도 = \",\n",
    "          v_max_depth, \n",
    "          round(model.score(train_std_scaled,train_target),4),\n",
    "          round(model.score(test_std_scaled,test_target),4),\n",
    "          round(model.score(train_std_scaled,train_target) - model.score(test_std_scaled,test_target),4))\n",
    "                      \n",
    "plt.plot(param_depth,train_score,linestyle=\"-\",label=\"train score\",marker=\"o\")\n",
    "plt.plot(param_depth,test_score,linestyle=\"--\",label=\"test score\",marker=\"x\")\n",
    "plt.xlabel(\"depth\")\n",
    "plt.ylabel(\"Accuracy\")\n",
    "plt.legend()\n",
    "plt.show()"
   ]
  },
  {
   "cell_type": "code",
   "execution_count": 73,
   "id": "b5ed6813",
   "metadata": {},
   "outputs": [],
   "source": [
    "# 깊이가 5 또는 9 정도에서 결정할 수 있으나, 과대적합이 발생하기전 깊이 5를 선정\n",
    "# max_depth는 5로 결정 -> 트리의 깊이 결정\n",
    "n_depth = 5"
   ]
  },
  {
   "cell_type": "code",
   "execution_count": 74,
   "id": "0941a12e",
   "metadata": {
    "scrolled": false
   },
   "outputs": [
    {
     "name": "stdout",
     "output_type": "stream",
     "text": [
      "훈련정확도 : 테스트정확도 =  2 0.9877 0.9871 0.0006\n",
      "훈련정확도 : 테스트정확도 =  4 0.9877 0.9871 0.0006\n",
      "훈련정확도 : 테스트정확도 =  6 0.9877 0.9871 0.0006\n",
      "훈련정확도 : 테스트정확도 =  8 0.9877 0.9871 0.0006\n",
      "훈련정확도 : 테스트정확도 =  10 0.9877 0.9871 0.0006\n",
      "훈련정확도 : 테스트정확도 =  12 0.9877 0.9871 0.0006\n",
      "훈련정확도 : 테스트정확도 =  14 0.9877 0.9871 0.0006\n",
      "훈련정확도 : 테스트정확도 =  16 0.9877 0.9871 0.0006\n",
      "훈련정확도 : 테스트정확도 =  18 0.9877 0.9871 0.0006\n",
      "훈련정확도 : 테스트정확도 =  20 0.9877 0.9871 0.0006\n",
      "훈련정확도 : 테스트정확도 =  22 0.9877 0.9871 0.0006\n",
      "훈련정확도 : 테스트정확도 =  24 0.9877 0.9871 0.0006\n",
      "훈련정확도 : 테스트정확도 =  26 0.9877 0.9871 0.0006\n",
      "훈련정확도 : 테스트정확도 =  28 0.9877 0.9871 0.0006\n",
      "훈련정확도 : 테스트정확도 =  30 0.9877 0.9871 0.0006\n",
      "훈련정확도 : 테스트정확도 =  32 0.9877 0.9871 0.0006\n",
      "훈련정확도 : 테스트정확도 =  34 0.9877 0.9871 0.0006\n",
      "훈련정확도 : 테스트정확도 =  36 0.9877 0.9871 0.0006\n",
      "훈련정확도 : 테스트정확도 =  38 0.9877 0.9871 0.0006\n",
      "훈련정확도 : 테스트정확도 =  40 0.9877 0.9871 0.0006\n",
      "훈련정확도 : 테스트정확도 =  42 0.9877 0.9871 0.0006\n",
      "훈련정확도 : 테스트정확도 =  44 0.9877 0.9871 0.0006\n",
      "훈련정확도 : 테스트정확도 =  46 0.9877 0.9871 0.0006\n",
      "훈련정확도 : 테스트정확도 =  48 0.9877 0.9871 0.0006\n",
      "훈련정확도 : 테스트정확도 =  50 0.9877 0.9871 0.0006\n",
      "훈련정확도 : 테스트정확도 =  52 0.9877 0.9871 0.0006\n",
      "훈련정확도 : 테스트정확도 =  54 0.9877 0.9871 0.0006\n",
      "훈련정확도 : 테스트정확도 =  56 0.9877 0.9871 0.0006\n",
      "훈련정확도 : 테스트정확도 =  58 0.9877 0.9871 0.0006\n",
      "훈련정확도 : 테스트정확도 =  60 0.9877 0.9871 0.0006\n",
      "훈련정확도 : 테스트정확도 =  62 0.9877 0.9871 0.0006\n",
      "훈련정확도 : 테스트정확도 =  64 0.9877 0.9871 0.0006\n",
      "훈련정확도 : 테스트정확도 =  66 0.9877 0.9871 0.0006\n",
      "훈련정확도 : 테스트정확도 =  68 0.9877 0.9871 0.0006\n",
      "훈련정확도 : 테스트정확도 =  70 0.9877 0.9871 0.0006\n",
      "훈련정확도 : 테스트정확도 =  72 0.9877 0.9871 0.0006\n",
      "훈련정확도 : 테스트정확도 =  74 0.9877 0.9871 0.0006\n",
      "훈련정확도 : 테스트정확도 =  76 0.9877 0.9871 0.0006\n",
      "훈련정확도 : 테스트정확도 =  78 0.9877 0.9871 0.0006\n",
      "훈련정확도 : 테스트정확도 =  80 0.9877 0.9871 0.0006\n",
      "훈련정확도 : 테스트정확도 =  82 0.9877 0.9871 0.0006\n",
      "훈련정확도 : 테스트정확도 =  84 0.9877 0.9871 0.0006\n",
      "훈련정확도 : 테스트정확도 =  86 0.9877 0.9871 0.0006\n",
      "훈련정확도 : 테스트정확도 =  88 0.9877 0.9871 0.0006\n",
      "훈련정확도 : 테스트정확도 =  90 0.9877 0.9871 0.0006\n",
      "훈련정확도 : 테스트정확도 =  92 0.9877 0.9871 0.0006\n",
      "훈련정확도 : 테스트정확도 =  94 0.9877 0.9871 0.0006\n",
      "훈련정확도 : 테스트정확도 =  96 0.9877 0.9871 0.0006\n",
      "훈련정확도 : 테스트정확도 =  98 0.9877 0.9871 0.0006\n",
      "훈련정확도 : 테스트정확도 =  100 0.9877 0.9871 0.0006\n",
      "훈련정확도 : 테스트정확도 =  102 0.9877 0.9871 0.0006\n",
      "훈련정확도 : 테스트정확도 =  104 0.9877 0.9871 0.0006\n",
      "훈련정확도 : 테스트정확도 =  106 0.9877 0.9871 0.0006\n",
      "훈련정확도 : 테스트정확도 =  108 0.9877 0.9871 0.0006\n",
      "훈련정확도 : 테스트정확도 =  110 0.9877 0.9871 0.0006\n",
      "훈련정확도 : 테스트정확도 =  112 0.9877 0.9871 0.0006\n",
      "훈련정확도 : 테스트정확도 =  114 0.9877 0.9871 0.0006\n",
      "훈련정확도 : 테스트정확도 =  116 0.9877 0.9871 0.0006\n",
      "훈련정확도 : 테스트정확도 =  118 0.9877 0.9871 0.0006\n",
      "훈련정확도 : 테스트정확도 =  120 0.9877 0.9871 0.0006\n",
      "훈련정확도 : 테스트정확도 =  122 0.9877 0.9871 0.0006\n",
      "훈련정확도 : 테스트정확도 =  124 0.9877 0.9871 0.0006\n",
      "훈련정확도 : 테스트정확도 =  126 0.9877 0.9871 0.0006\n",
      "훈련정확도 : 테스트정확도 =  128 0.9877 0.9871 0.0006\n",
      "훈련정확도 : 테스트정확도 =  130 0.9877 0.9871 0.0006\n",
      "훈련정확도 : 테스트정확도 =  132 0.9877 0.9871 0.0006\n",
      "훈련정확도 : 테스트정확도 =  134 0.9877 0.9871 0.0006\n",
      "훈련정확도 : 테스트정확도 =  136 0.9877 0.9871 0.0006\n",
      "훈련정확도 : 테스트정확도 =  138 0.9877 0.9871 0.0006\n",
      "훈련정확도 : 테스트정확도 =  140 0.9877 0.9871 0.0006\n",
      "훈련정확도 : 테스트정확도 =  142 0.9877 0.9871 0.0006\n",
      "훈련정확도 : 테스트정확도 =  144 0.9877 0.9871 0.0006\n",
      "훈련정확도 : 테스트정확도 =  146 0.9877 0.9871 0.0006\n",
      "훈련정확도 : 테스트정확도 =  148 0.9877 0.9871 0.0006\n",
      "훈련정확도 : 테스트정확도 =  150 0.9877 0.9871 0.0006\n",
      "훈련정확도 : 테스트정확도 =  152 0.9877 0.9871 0.0006\n",
      "훈련정확도 : 테스트정확도 =  154 0.9877 0.9871 0.0006\n",
      "훈련정확도 : 테스트정확도 =  156 0.9877 0.9871 0.0006\n",
      "훈련정확도 : 테스트정확도 =  158 0.9877 0.9871 0.0006\n",
      "훈련정확도 : 테스트정확도 =  160 0.9877 0.9871 0.0006\n",
      "훈련정확도 : 테스트정확도 =  162 0.9877 0.9871 0.0006\n",
      "훈련정확도 : 테스트정확도 =  164 0.9877 0.9871 0.0006\n",
      "훈련정확도 : 테스트정확도 =  166 0.9877 0.9871 0.0006\n",
      "훈련정확도 : 테스트정확도 =  168 0.9877 0.9871 0.0006\n",
      "훈련정확도 : 테스트정확도 =  170 0.9877 0.9871 0.0006\n",
      "훈련정확도 : 테스트정확도 =  172 0.9877 0.9871 0.0006\n",
      "훈련정확도 : 테스트정확도 =  174 0.9877 0.9871 0.0006\n",
      "훈련정확도 : 테스트정확도 =  176 0.9877 0.9871 0.0006\n",
      "훈련정확도 : 테스트정확도 =  178 0.9877 0.9871 0.0006\n",
      "훈련정확도 : 테스트정확도 =  180 0.9877 0.9871 0.0006\n",
      "훈련정확도 : 테스트정확도 =  182 0.9877 0.9871 0.0006\n",
      "훈련정확도 : 테스트정확도 =  184 0.9877 0.9871 0.0006\n",
      "훈련정확도 : 테스트정확도 =  186 0.9877 0.9871 0.0006\n",
      "훈련정확도 : 테스트정확도 =  188 0.9877 0.9871 0.0006\n",
      "훈련정확도 : 테스트정확도 =  190 0.9877 0.9871 0.0006\n",
      "훈련정확도 : 테스트정확도 =  192 0.9877 0.9871 0.0006\n",
      "훈련정확도 : 테스트정확도 =  194 0.9877 0.9871 0.0006\n",
      "훈련정확도 : 테스트정확도 =  196 0.9877 0.9871 0.0006\n",
      "훈련정확도 : 테스트정확도 =  198 0.9877 0.9871 0.0006\n",
      "훈련정확도 : 테스트정확도 =  200 0.9877 0.9871 0.0006\n"
     ]
    },
    {
     "data": {
      "image/png": "[encoded data removed]",
      "text/plain": [
       "<Figure size 640x480 with 1 Axes>"
      ]
     },
     "metadata": {},
     "output_type": "display_data"
    }
   ],
   "source": [
    "# 분리 노드의 최소 자료 수 선정\n",
    "\n",
    "# 트리개수 저장\n",
    "n_estimator = 10\n",
    "# 트리 깊이 저장\n",
    "n_depth = 5\n",
    "\n",
    "n_split_min = 1\n",
    "n_split_max = 101\n",
    "# 최소자료수 범위 지정\n",
    "train_score = []\n",
    "test_score = []\n",
    "\n",
    "# 깊이찾기\n",
    "param_split = [n_split * 2 for n_split in range(n_split_min,n_split_max)]\n",
    "for v_max_samples_split in param_split:\n",
    "    model = RandomForestClassifier(n_estimators=n_estimator,max_depth=n_depth,min_samples_split=v_max_samples_split,random_state=42)\n",
    "    model.fit(train_std_scaled,train_target)\n",
    "    train_score.append(model.score(train_std_scaled,train_target))\n",
    "    test_score.append(model.score(test_std_scaled,test_target))               \n",
    "    print(\"훈련정확도 : 테스트정확도 = \",\n",
    "          v_max_samples_split, \n",
    "          round(model.score(train_std_scaled,train_target),4),\n",
    "          round(model.score(test_std_scaled,test_target),4),\n",
    "          round(model.score(train_std_scaled,train_target) - model.score(test_std_scaled,test_target),4))\n",
    "                      \n",
    "plt.plot(param_split,train_score,linestyle=\"-\",label=\"train score\",marker=\"o\")\n",
    "plt.plot(param_split,test_score,linestyle=\"--\",label=\"test score\",marker=\"x\")\n",
    "plt.xlabel(\"min_split\")\n",
    "plt.ylabel(\"Accuracy\")\n",
    "plt.legend()\n",
    "plt.show()"
   ]
  },
  {
   "cell_type": "code",
   "execution_count": 75,
   "id": "023e0157",
   "metadata": {},
   "outputs": [],
   "source": [
    "# 분리노드의 최소자료수에 대한 값이 모두 동일(앞 빼고)\n",
    "# 아무값이나 사용\n",
    "# 8 또는 10중 사용\n",
    "# 분리노드를 8로 결정\n",
    "n_split = 8"
   ]
  },
  {
   "cell_type": "code",
   "execution_count": 81,
   "id": "094e3c67",
   "metadata": {},
   "outputs": [
    {
     "name": "stdout",
     "output_type": "stream",
     "text": [
      "훈련정확도 : 테스트정확도 =  2 0.9877 0.9871 0.0006\n",
      "훈련정확도 : 테스트정확도 =  4 0.9877 0.9871 0.0006\n",
      "훈련정확도 : 테스트정확도 =  6 0.9877 0.9871 0.0006\n",
      "훈련정확도 : 테스트정확도 =  8 0.9877 0.9871 0.0006\n",
      "훈련정확도 : 테스트정확도 =  10 0.9877 0.9871 0.0006\n",
      "훈련정확도 : 테스트정확도 =  12 0.9877 0.9871 0.0006\n",
      "훈련정확도 : 테스트정확도 =  14 0.9877 0.9871 0.0006\n",
      "훈련정확도 : 테스트정확도 =  16 0.9877 0.9871 0.0006\n",
      "훈련정확도 : 테스트정확도 =  18 0.9877 0.9871 0.0006\n",
      "훈련정확도 : 테스트정확도 =  20 0.9877 0.9871 0.0006\n",
      "훈련정확도 : 테스트정확도 =  22 0.9877 0.9871 0.0006\n",
      "훈련정확도 : 테스트정확도 =  24 0.9877 0.9871 0.0006\n",
      "훈련정확도 : 테스트정확도 =  26 0.9877 0.9871 0.0006\n",
      "훈련정확도 : 테스트정확도 =  28 0.9877 0.9871 0.0006\n",
      "훈련정확도 : 테스트정확도 =  30 0.9877 0.9871 0.0006\n",
      "훈련정확도 : 테스트정확도 =  32 0.9877 0.9871 0.0006\n",
      "훈련정확도 : 테스트정확도 =  34 0.9877 0.9871 0.0006\n",
      "훈련정확도 : 테스트정확도 =  36 0.9877 0.9871 0.0006\n",
      "훈련정확도 : 테스트정확도 =  38 0.9877 0.9871 0.0006\n",
      "훈련정확도 : 테스트정확도 =  40 0.9877 0.9871 0.0006\n",
      "훈련정확도 : 테스트정확도 =  42 0.9877 0.9871 0.0006\n",
      "훈련정확도 : 테스트정확도 =  44 0.9877 0.9871 0.0006\n",
      "훈련정확도 : 테스트정확도 =  46 0.9877 0.9871 0.0006\n",
      "훈련정확도 : 테스트정확도 =  48 0.9877 0.9871 0.0006\n",
      "훈련정확도 : 테스트정확도 =  50 0.9877 0.9871 0.0006\n",
      "훈련정확도 : 테스트정확도 =  52 0.9877 0.9871 0.0006\n",
      "훈련정확도 : 테스트정확도 =  54 0.9877 0.9871 0.0006\n",
      "훈련정확도 : 테스트정확도 =  56 0.9877 0.9871 0.0006\n",
      "훈련정확도 : 테스트정확도 =  58 0.9877 0.9871 0.0006\n",
      "훈련정확도 : 테스트정확도 =  60 0.9877 0.9871 0.0006\n",
      "훈련정확도 : 테스트정확도 =  62 0.9877 0.9871 0.0006\n",
      "훈련정확도 : 테스트정확도 =  64 0.9877 0.9871 0.0006\n",
      "훈련정확도 : 테스트정확도 =  66 0.9877 0.9871 0.0006\n",
      "훈련정확도 : 테스트정확도 =  68 0.9877 0.9871 0.0006\n",
      "훈련정확도 : 테스트정확도 =  70 0.9877 0.9871 0.0006\n",
      "훈련정확도 : 테스트정확도 =  72 0.9877 0.9871 0.0006\n",
      "훈련정확도 : 테스트정확도 =  74 0.9877 0.9871 0.0006\n",
      "훈련정확도 : 테스트정확도 =  76 0.9877 0.9871 0.0006\n",
      "훈련정확도 : 테스트정확도 =  78 0.9877 0.9871 0.0006\n",
      "훈련정확도 : 테스트정확도 =  80 0.9877 0.9871 0.0006\n",
      "훈련정확도 : 테스트정확도 =  82 0.9877 0.9871 0.0006\n",
      "훈련정확도 : 테스트정확도 =  84 0.9877 0.9871 0.0006\n",
      "훈련정확도 : 테스트정확도 =  86 0.9877 0.9871 0.0006\n",
      "훈련정확도 : 테스트정확도 =  88 0.9877 0.9871 0.0006\n",
      "훈련정확도 : 테스트정확도 =  90 0.9877 0.9871 0.0006\n",
      "훈련정확도 : 테스트정확도 =  92 0.9877 0.9871 0.0006\n",
      "훈련정확도 : 테스트정확도 =  94 0.9877 0.9871 0.0006\n",
      "훈련정확도 : 테스트정확도 =  96 0.9877 0.9871 0.0006\n",
      "훈련정확도 : 테스트정확도 =  98 0.9877 0.9871 0.0006\n",
      "훈련정확도 : 테스트정확도 =  100 0.9877 0.9871 0.0006\n"
     ]
    },
    {
     "data": {
      "image/png": "[encoded data removed]",
      "text/plain": [
       "<Figure size 640x480 with 1 Axes>"
      ]
     },
     "metadata": {},
     "output_type": "display_data"
    }
   ],
   "source": [
    "# 잎사귀 노드의 최소 자료수 선정\n",
    "\n",
    "# 트리개수 저장\n",
    "n_estimator = 10\n",
    "# 트리 깊이 저장\n",
    "n_depth = 5\n",
    "# 분리노드 결정\n",
    "n_split = 8\n",
    "\n",
    "# 잎사귀 노드의 최소자료 수 범위 지정\n",
    "n_leaf_min = 1\n",
    "n_leaf_max = 51\n",
    "\n",
    "\n",
    "train_score = []\n",
    "test_score = []\n",
    "\n",
    "# 깊이찾기\n",
    "param_leaf = [n_leaf * 2 for n_leaf in range(n_leaf_min,n_leaf_max)]\n",
    "for v_min_samples_leaf in param_leaf:\n",
    "    model = RandomForestClassifier(n_estimators=n_estimator,max_depth=n_depth,min_samples_split=n_split,min_samples_leaf=v_min_samples_leaf,random_state=42)\n",
    "    model.fit(train_std_scaled,train_target)\n",
    "    train_score.append(model.score(train_std_scaled,train_target))\n",
    "    test_score.append(model.score(test_std_scaled,test_target))               \n",
    "    print(\"훈련정확도 : 테스트정확도 = \",\n",
    "          v_min_samples_leaf, \n",
    "          round(model.score(train_std_scaled,train_target),4),\n",
    "          round(model.score(test_std_scaled,test_target),4),\n",
    "          round(model.score(train_std_scaled,train_target) - model.score(test_std_scaled,test_target),4))\n",
    "                      \n",
    "plt.plot(param_leaf,train_score,linestyle=\"-\",label=\"train score\",marker=\"o\")\n",
    "plt.plot(param_leaf,test_score,linestyle=\"--\",label=\"test score\",marker=\"x\")\n",
    "plt.xlabel(\"min_leaf\")\n",
    "plt.ylabel(\"Accuracy\")\n",
    "plt.legend()\n",
    "\n",
    "# 그래프 저장하기\n",
    "plt.savefig(\"./figure/rf_std_min_sample_leaf.png\")\n",
    "plt.show()\n",
    "\n"
   ]
  },
  {
   "cell_type": "code",
   "execution_count": 77,
   "id": "2afd8ffe",
   "metadata": {},
   "outputs": [],
   "source": [
    "# 잎사귀 노드의 최소자료수도 동일한값\n",
    "# 임의의 값 선정 : 8로 지정\n",
    "# 잎사귀 노드의 최소 자료수 지정\n",
    "n_leaf = 8"
   ]
  },
  {
   "cell_type": "code",
   "execution_count": 78,
   "id": "22d25bac",
   "metadata": {},
   "outputs": [],
   "source": [
    "\n",
    "# 트리개수 저장\n",
    "n_estimator = 10\n",
    "# 트리 깊이 저장\n",
    "n_depth = 5\n",
    "# 분리노드 결정\n",
    "n_split = 8\n",
    "# 잎사귀 노드의 최소 자료수 지정\n",
    "n_leaf = 8"
   ]
  },
  {
   "cell_type": "code",
   "execution_count": 79,
   "id": "012d44dd",
   "metadata": {},
   "outputs": [
    {
     "name": "stdout",
     "output_type": "stream",
     "text": [
      "훈련정확도 :  0.9877230193387398\n",
      "테스트정확도 :  0.9871244635193133\n",
      "Accuracy(테스트 정확도) :  0.9871244635193133\n",
      "Precision(정밀도) :  0.0\n",
      "Recall(재현율) :  0.0\n",
      "F1_score(F1스코어) :  0.0\n"
     ]
    },
    {
     "name": "stderr",
     "output_type": "stream",
     "text": [
      "C:\\Users\\Administrator\\anaconda3\\envs\\pknu_base\\lib\\site-packages\\sklearn\\metrics\\_classification.py:1334: UndefinedMetricWarning: Precision is ill-defined and being set to 0.0 due to no predicted samples. Use `zero_division` parameter to control this behavior.\n",
      "  _warn_prf(average, modifier, msg_start, len(result))\n"
     ]
    }
   ],
   "source": [
    "# 모델생성하기\n",
    "model = RandomForestClassifier(n_estimators=n_estimator,\n",
    "                               max_depth=n_depth,\n",
    "                               min_samples_split=n_split,\n",
    "                               min_samples_leaf=n_leaf,\n",
    "                               random_state=42)\n",
    "# 훈련시키기\n",
    "model.fit(train_std_scaled,train_target)\n",
    "\n",
    "print(\"훈련정확도 : \",model.score(train_std_scaled,train_target))\n",
    "print(\"테스트정확도 : \",model.score(test_std_scaled,test_target))\n",
    "\n",
    "# 예측하기\n",
    "y_pred = model.predict(test_std_scaled)\n",
    "print(\"Accuracy(테스트 정확도) : \", accuracy_score(test_target,y_pred))\n",
    "print(\"Precision(정밀도) : \", precision_score(test_target,y_pred))\n",
    "print(\"Recall(재현율) : \", recall_score(test_target,y_pred))\n",
    "print(\"F1_score(F1스코어) : \", f1_score(test_target,y_pred))"
   ]
  },
  {
   "cell_type": "code",
   "execution_count": 80,
   "id": "09d3b530",
   "metadata": {},
   "outputs": [],
   "source": [
    "# 모델 저장하기\n",
    "import pickle\n",
    "model_path = \"./model/rf_std_model.pkl\"\n",
    "with open(model_path,\"wb\") as f:\n",
    "    pickle.dump(model,f)"
   ]
  },
  {
   "cell_type": "code",
   "execution_count": 82,
   "id": "b48bbef5",
   "metadata": {},
   "outputs": [
    {
     "name": "stdout",
     "output_type": "stream",
     "text": [
      "0.9871244635193133\n",
      "[0 0 0 ... 0 0 0]\n"
     ]
    }
   ],
   "source": [
    "# 모델 불러오기\n",
    "with open(model_path,\"rb\") as f:\n",
    "    loaded_model = pickle.load(f)\n",
    "    \n",
    "print(loaded_model.score(test_std_scaled,test_target))\n",
    "print(loaded_model.predict(test_std_scaled))"
   ]
  },
  {
   "cell_type": "code",
   "execution_count": 83,
   "id": "9fd34f79",
   "metadata": {},
   "outputs": [
    {
     "data": {
      "text/plain": [
       "['./model/rf_std_model2.pkl']"
      ]
     },
     "execution_count": 83,
     "metadata": {},
     "output_type": "execute_result"
    }
   ],
   "source": [
    "# 모델 저장방법\n",
    "import joblib\n",
    "model_path = \"./model/rf_std_model2.pkl\"\n",
    "joblib.dump(model,model_path)"
   ]
  },
  {
   "cell_type": "code",
   "execution_count": 84,
   "id": "cad5a487",
   "metadata": {},
   "outputs": [
    {
     "name": "stdout",
     "output_type": "stream",
     "text": [
      "0.9871244635193133\n",
      "[0 0 0 ... 0 0 0]\n"
     ]
    }
   ],
   "source": [
    "# 모델 불러오기\n",
    "loaded_model = joblib.load(model_path)\n",
    "print(loaded_model.score(test_std_scaled,test_target))\n",
    "print(loaded_model.predict(test_std_scaled))"
   ]
  }
 ],
 "metadata": {
  "kernelspec": {
   "display_name": "pknu_base_kernel",
   "language": "python",
   "name": "pknu_base"
  },
  "language_info": {
   "codemirror_mode": {
    "name": "ipython",
    "version": 3
   },
   "file_extension": ".py",
   "mimetype": "text/x-python",
   "name": "python",
   "nbconvert_exporter": "python",
   "pygments_lexer": "ipython3",
   "version": "3.9.15"
  }
 },
 "nbformat": 4,
 "nbformat_minor": 5
}
