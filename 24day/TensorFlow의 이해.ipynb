{
 "cells": [
  {
   "cell_type": "markdown",
   "id": "a5142233",
   "metadata": {},
   "source": [
    "# 텐서\n",
    "![텐서(Tensor)형태](https://codetorial.net/tensorflow/_images/basics_of_tensor_01.png)"
   ]
  },
  {
   "cell_type": "code",
   "execution_count": 2,
   "id": "d792d9fb",
   "metadata": {},
   "outputs": [
    {
     "name": "stdout",
     "output_type": "stream",
     "text": [
      "스칼라 텐서 :  12\n",
      "차원 :  ()\n",
      "rank 확인 :  0\n"
     ]
    }
   ],
   "source": [
    "# Numpy의 array()를 이용해서 텐서 형태 확인\n",
    "# 스칼라(scala)텐서 -> 0차원 텐서, 0D텐서, rank0인 텐서라고 다양하게 칭함\n",
    "# 하나의 숫자만 담고 있는 텐서\n",
    "# 하나의 값을 가지는 일반변수라고 생각하면 이해편하다\n",
    "\n",
    "import numpy as np\n",
    "\n",
    "x = np.array(12)\n",
    "print(\"스칼라 텐서 : \", x)\n",
    "print(\"차원 : \", x.shape)\n",
    "print(\"rank 확인 : \", x.ndim)"
   ]
  },
  {
   "cell_type": "code",
   "execution_count": 3,
   "id": "4c4f3fdf",
   "metadata": {},
   "outputs": [
    {
     "name": "stdout",
     "output_type": "stream",
     "text": [
      "5개의 값을 가지는 벡터 :  [12  3  6 14  7]\n",
      "차원 :  (5,)\n",
      "rank 확인 :  1\n"
     ]
    }
   ],
   "source": [
    "# 벡터(vextor) 텐서 : 1D텐서, rank1 텐서\n",
    "# 여러 숫자를 담고 있는 1차원 배열\n",
    "# 1차원 리스트 []와 유사한 형태\n",
    "\n",
    "x = np.array([12,3,6,14,7])\n",
    "print(\"5개의 값을 가지는 벡터 : \", x)\n",
    "print(\"차원 : \", x.shape)\n",
    "print(\"rank 확인 : \", x.ndim)"
   ]
  },
  {
   "cell_type": "code",
   "execution_count": 4,
   "id": "5be7ddb0",
   "metadata": {},
   "outputs": [
    {
     "data": {
      "text/plain": [
       "6"
      ]
     },
     "execution_count": 4,
     "metadata": {},
     "output_type": "execute_result"
    }
   ],
   "source": [
    "x[2]"
   ]
  },
  {
   "cell_type": "code",
   "execution_count": 5,
   "id": "599ce25a",
   "metadata": {},
   "outputs": [
    {
     "name": "stdout",
     "output_type": "stream",
     "text": [
      "행렬(matrix) :  [[ 5 78  2 34  0]\n",
      " [ 6 79  3 35  1]\n",
      " [ 7 80  4 36  2]]\n",
      "차원 :  (3, 5)\n",
      "rank 확인 :  2\n"
     ]
    }
   ],
   "source": [
    "# 행렬(Matrix) 텐서 : 2D텐서, rank2 텐서\n",
    "# 여러개의 벡터(Vector)를 담고 있는 새로운 배열을 행렬(Matrix) 텐서라 칭함\n",
    "# 2차원 : [[]] 형태\n",
    "# 데이터프레임 형태와 유사\n",
    "x = np.array([[5,78,2,34,0],\n",
    "              [6,79,3,35,1],\n",
    "              [7,80,4,36,2]])\n",
    "print(\"행렬(matrix) : \", x)\n",
    "print(\"차원 : \", x.shape)\n",
    "print(\"rank 확인 : \", x.ndim)"
   ]
  },
  {
   "cell_type": "code",
   "execution_count": 11,
   "id": "ce61903c",
   "metadata": {},
   "outputs": [
    {
     "data": {
      "text/plain": [
       "array([5, 6, 7])"
      ]
     },
     "execution_count": 11,
     "metadata": {},
     "output_type": "execute_result"
    }
   ],
   "source": [
    "x[:,0]"
   ]
  },
  {
   "cell_type": "code",
   "execution_count": 12,
   "id": "9c31a6b3",
   "metadata": {},
   "outputs": [
    {
     "name": "stdout",
     "output_type": "stream",
     "text": [
      "3D 텐서 :  [[[ 5 78  2 34  0]\n",
      "  [ 6 79  3 35  1]\n",
      "  [ 7 80  4 36  2]]\n",
      "\n",
      " [[ 8 78  2 34  0]\n",
      "  [ 9 79  3 35  1]\n",
      "  [10 80  4 36  2]]\n",
      "\n",
      " [[11 78  2 34  0]\n",
      "  [12 79  3 35  1]\n",
      "  [13 80  4 36  2]]]\n",
      "차원 :  (3, 3, 5)\n",
      "rank 확인 :  3\n"
     ]
    }
   ],
   "source": [
    "# 3D 텐서 : rank3 텐서\n",
    "# 행렬(matrix)이 여러개 모여있는것\n",
    "# 숫자가 채워진 직육면체\n",
    "x = np.array([[[5,78,2,34,0],[6,79,3,35,1],[7,80,4,36,2]],\n",
    "              [[8,78,2,34,0],[9,79,3,35,1],[10,80,4,36,2]],\n",
    "              [[11,78,2,34,0],[12,79,3,35,1],[13,80,4,36,2]]])\n",
    "print(\"3D 텐서 : \", x)\n",
    "print(\"차원 : \", x.shape)\n",
    "print(\"rank 확인 : \", x.ndim)"
   ]
  },
  {
   "cell_type": "code",
   "execution_count": 13,
   "id": "b8d7ab56",
   "metadata": {},
   "outputs": [
    {
     "data": {
      "text/plain": [
       "array([ 9, 79,  3, 35,  1])"
      ]
     },
     "execution_count": 13,
     "metadata": {},
     "output_type": "execute_result"
    }
   ],
   "source": [
    "x[1,1,:]"
   ]
  },
  {
   "cell_type": "code",
   "execution_count": null,
   "id": "c186fc5f",
   "metadata": {},
   "outputs": [],
   "source": []
  },
  {
   "cell_type": "code",
   "execution_count": null,
   "id": "784f70d4",
   "metadata": {},
   "outputs": [],
   "source": []
  },
  {
   "cell_type": "code",
   "execution_count": null,
   "id": "99b5e1e8",
   "metadata": {},
   "outputs": [],
   "source": []
  },
  {
   "cell_type": "code",
   "execution_count": null,
   "id": "4e2735a5",
   "metadata": {},
   "outputs": [],
   "source": []
  },
  {
   "cell_type": "code",
   "execution_count": null,
   "id": "05eb245e",
   "metadata": {},
   "outputs": [],
   "source": []
  },
  {
   "cell_type": "code",
   "execution_count": null,
   "id": "6cfa14ec",
   "metadata": {},
   "outputs": [],
   "source": []
  },
  {
   "cell_type": "code",
   "execution_count": null,
   "id": "4a20ed98",
   "metadata": {},
   "outputs": [],
   "source": []
  },
  {
   "cell_type": "code",
   "execution_count": null,
   "id": "4b76325b",
   "metadata": {},
   "outputs": [],
   "source": []
  },
  {
   "cell_type": "code",
   "execution_count": null,
   "id": "2b431cff",
   "metadata": {},
   "outputs": [],
   "source": []
  },
  {
   "cell_type": "code",
   "execution_count": null,
   "id": "8f161690",
   "metadata": {},
   "outputs": [],
   "source": []
  },
  {
   "cell_type": "code",
   "execution_count": null,
   "id": "f2cf5856",
   "metadata": {},
   "outputs": [],
   "source": []
  },
  {
   "cell_type": "code",
   "execution_count": null,
   "id": "731bf44c",
   "metadata": {},
   "outputs": [],
   "source": []
  },
  {
   "cell_type": "code",
   "execution_count": null,
   "id": "153c15cc",
   "metadata": {},
   "outputs": [],
   "source": []
  },
  {
   "cell_type": "code",
   "execution_count": null,
   "id": "b39b34b7",
   "metadata": {},
   "outputs": [],
   "source": []
  },
  {
   "cell_type": "code",
   "execution_count": null,
   "id": "e116ccfe",
   "metadata": {},
   "outputs": [],
   "source": []
  },
  {
   "cell_type": "code",
   "execution_count": null,
   "id": "1b8e7b3f",
   "metadata": {},
   "outputs": [],
   "source": []
  },
  {
   "cell_type": "code",
   "execution_count": null,
   "id": "19deee6c",
   "metadata": {},
   "outputs": [],
   "source": []
  },
  {
   "cell_type": "code",
   "execution_count": null,
   "id": "8fad3f40",
   "metadata": {},
   "outputs": [],
   "source": []
  },
  {
   "cell_type": "code",
   "execution_count": null,
   "id": "1a6e1093",
   "metadata": {},
   "outputs": [],
   "source": []
  },
  {
   "cell_type": "code",
   "execution_count": null,
   "id": "490e0348",
   "metadata": {},
   "outputs": [],
   "source": []
  },
  {
   "cell_type": "code",
   "execution_count": null,
   "id": "97142f32",
   "metadata": {},
   "outputs": [],
   "source": []
  },
  {
   "cell_type": "code",
   "execution_count": null,
   "id": "a4e86e28",
   "metadata": {},
   "outputs": [],
   "source": []
  },
  {
   "cell_type": "code",
   "execution_count": null,
   "id": "c6d6621e",
   "metadata": {},
   "outputs": [],
   "source": []
  },
  {
   "cell_type": "code",
   "execution_count": null,
   "id": "e133631c",
   "metadata": {},
   "outputs": [],
   "source": []
  },
  {
   "cell_type": "code",
   "execution_count": null,
   "id": "c7740d43",
   "metadata": {},
   "outputs": [],
   "source": []
  },
  {
   "cell_type": "code",
   "execution_count": null,
   "id": "150caf33",
   "metadata": {},
   "outputs": [],
   "source": []
  },
  {
   "cell_type": "code",
   "execution_count": null,
   "id": "95fac937",
   "metadata": {},
   "outputs": [],
   "source": []
  },
  {
   "cell_type": "code",
   "execution_count": null,
   "id": "e14dc515",
   "metadata": {},
   "outputs": [],
   "source": []
  },
  {
   "cell_type": "code",
   "execution_count": null,
   "id": "80dd2c9f",
   "metadata": {},
   "outputs": [],
   "source": []
  },
  {
   "cell_type": "code",
   "execution_count": null,
   "id": "91d1305d",
   "metadata": {},
   "outputs": [],
   "source": []
  }
 ],
 "metadata": {
  "kernelspec": {
   "display_name": "pknu_deep_kernel",
   "language": "python",
   "name": "pknu_deep"
  },
  "language_info": {
   "codemirror_mode": {
    "name": "ipython",
    "version": 3
   },
   "file_extension": ".py",
   "mimetype": "text/x-python",
   "name": "python",
   "nbconvert_exporter": "python",
   "pygments_lexer": "ipython3",
   "version": "3.9.16"
  }
 },
 "nbformat": 4,
 "nbformat_minor": 5
}
