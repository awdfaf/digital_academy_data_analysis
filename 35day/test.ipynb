{
 "cells": [
  {
   "cell_type": "code",
   "execution_count": 1,
   "id": "4704f52d",
   "metadata": {},
   "outputs": [],
   "source": [
    "# Okt : 트위터에서 제공해주는 형태소분석기\n",
    "from konlpy.tag import Okt"
   ]
  },
  {
   "cell_type": "code",
   "execution_count": 2,
   "id": "df17874a",
   "metadata": {},
   "outputs": [],
   "source": [
    "word = Okt()"
   ]
  },
  {
   "cell_type": "code",
   "execution_count": 3,
   "id": "b485a97a",
   "metadata": {},
   "outputs": [
    {
     "data": {
      "text/plain": [
       "<konlpy.tag._okt.Okt at 0x1c3fbd13e20>"
      ]
     },
     "execution_count": 3,
     "metadata": {},
     "output_type": "execute_result"
    }
   ],
   "source": [
    "word"
   ]
  },
  {
   "cell_type": "code",
   "execution_count": 10,
   "id": "14365b64",
   "metadata": {},
   "outputs": [],
   "source": [
    "text = \"한국어 분석을 시작합니다.\""
   ]
  },
  {
   "cell_type": "code",
   "execution_count": 11,
   "id": "d64695f8",
   "metadata": {},
   "outputs": [
    {
     "data": {
      "text/plain": [
       "['한국어', '분석', '시작']"
      ]
     },
     "execution_count": 11,
     "metadata": {},
     "output_type": "execute_result"
    }
   ],
   "source": [
    "# 어구 추출\n",
    "word.nouns(text)"
   ]
  },
  {
   "cell_type": "code",
   "execution_count": 12,
   "id": "b5ff7564",
   "metadata": {},
   "outputs": [
    {
     "data": {
      "text/plain": [
       "['한국어', '한국어 분석', '시작', '분석']"
      ]
     },
     "execution_count": 12,
     "metadata": {},
     "output_type": "execute_result"
    }
   ],
   "source": [
    "# 어절 추출\n",
    "word.phrases(text)"
   ]
  },
  {
   "cell_type": "code",
   "execution_count": 13,
   "id": "08508d02",
   "metadata": {},
   "outputs": [
    {
     "data": {
      "text/plain": [
       "['한국어', '분석', '을', '시작', '합니다', '.']"
      ]
     },
     "execution_count": 13,
     "metadata": {},
     "output_type": "execute_result"
    }
   ],
   "source": [
    "# 형태소 분석\n",
    "word.morphs(text)"
   ]
  },
  {
   "cell_type": "code",
   "execution_count": 14,
   "id": "8cfd6a2b",
   "metadata": {},
   "outputs": [
    {
     "data": {
      "text/plain": [
       "[('한국어', 'Noun'),\n",
       " ('분석', 'Noun'),\n",
       " ('을', 'Josa'),\n",
       " ('시작', 'Noun'),\n",
       " ('합니다', 'Verb'),\n",
       " ('.', 'Punctuation')]"
      ]
     },
     "execution_count": 14,
     "metadata": {},
     "output_type": "execute_result"
    }
   ],
   "source": [
    "# 형태소 품사 확인\n",
    "word.pos(text)"
   ]
  },
  {
   "cell_type": "code",
   "execution_count": 15,
   "id": "9253f1cc",
   "metadata": {},
   "outputs": [
    {
     "data": {
      "text/plain": [
       "['한국어/Noun', '분석/Noun', '을/Josa', '시작/Noun', '합니다/Verb', './Punctuation']"
      ]
     },
     "execution_count": 15,
     "metadata": {},
     "output_type": "execute_result"
    }
   ],
   "source": [
    "# 형태소 품사 리스트로\n",
    "word.pos(text, join=True)"
   ]
  },
  {
   "cell_type": "code",
   "execution_count": 16,
   "id": "78ee2852",
   "metadata": {},
   "outputs": [
    {
     "data": {
      "text/plain": [
       "['한국어', '분석', '시작']"
      ]
     },
     "execution_count": 16,
     "metadata": {},
     "output_type": "execute_result"
    }
   ],
   "source": [
    "# 명사만 추출\n",
    "word.nouns(text)"
   ]
  },
  {
   "cell_type": "code",
   "execution_count": null,
   "id": "e26a272f",
   "metadata": {},
   "outputs": [],
   "source": []
  },
  {
   "cell_type": "code",
   "execution_count": null,
   "id": "fcb8ec98",
   "metadata": {},
   "outputs": [],
   "source": []
  }
 ],
 "metadata": {
  "kernelspec": {
   "display_name": "pknu_nltk_kernel",
   "language": "python",
   "name": "pknu_nltk"
  },
  "language_info": {
   "codemirror_mode": {
    "name": "ipython",
    "version": 3
   },
   "file_extension": ".py",
   "mimetype": "text/x-python",
   "name": "python",
   "nbconvert_exporter": "python",
   "pygments_lexer": "ipython3",
   "version": "3.9.16"
  }
 },
 "nbformat": 4,
 "nbformat_minor": 5
}
