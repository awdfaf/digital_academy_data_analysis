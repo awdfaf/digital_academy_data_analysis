{
 "cells": [
  {
   "cell_type": "code",
   "execution_count": 57,
   "id": "508cf387",
   "metadata": {},
   "outputs": [
    {
     "name": "stderr",
     "output_type": "stream",
     "text": [
      "C:\\Users\\Administrator\\AppData\\Local\\Temp\\ipykernel_18340\\1830890201.py:8: DeprecationWarning: executable_path has been deprecated, please pass in a Service object\n",
      "  driver = webdriver.Chrome('chrome_109_driver.exe')\n"
     ]
    },
    {
     "ename": "NoSuchElementException",
     "evalue": "Message: no such element: Unable to locate element: {\"method\":\"xpath\",\"selector\":\"//*[@id=\"container\"]/div[3]/article[1]\"}\n  (Session info: chrome=110.0.5481.77)\nStacktrace:\nBacktrace:\n\t(No symbol) [0x00AC6643]\n\t(No symbol) [0x00A5BE21]\n\t(No symbol) [0x0095DA9D]\n\t(No symbol) [0x00991342]\n\t(No symbol) [0x0099147B]\n\t(No symbol) [0x009864C1]\n\t(No symbol) [0x009AFDC4]\n\t(No symbol) [0x0098641F]\n\t(No symbol) [0x009B00D4]\n\t(No symbol) [0x009C6B09]\n\t(No symbol) [0x009AFB76]\n\t(No symbol) [0x009849C1]\n\t(No symbol) [0x00985E5D]\n\tGetHandleVerifier [0x00D3A142+2497106]\n\tGetHandleVerifier [0x00D685D3+2686691]\n\tGetHandleVerifier [0x00D6BB9C+2700460]\n\tGetHandleVerifier [0x00B73B10+635936]\n\t(No symbol) [0x00A64A1F]\n\t(No symbol) [0x00A6A418]\n\t(No symbol) [0x00A6A505]\n\t(No symbol) [0x00A7508B]\n\tBaseThreadInitThunk [0x75B000F9+25]\n\tRtlGetAppContainerNamedObjectPath [0x77197BBE+286]\n\tRtlGetAppContainerNamedObjectPath [0x77197B8E+238]\n",
     "output_type": "error",
     "traceback": [
      "\u001b[1;31m---------------------------------------------------------------------------\u001b[0m",
      "\u001b[1;31mNoSuchElementException\u001b[0m                    Traceback (most recent call last)",
      "Cell \u001b[1;32mIn[57], line 40\u001b[0m\n\u001b[0;32m     38\u001b[0m \u001b[38;5;28;01mfor\u001b[39;00m j \u001b[38;5;129;01min\u001b[39;00m \u001b[38;5;28mrange\u001b[39m(\u001b[38;5;241m3\u001b[39m):\n\u001b[0;32m     39\u001b[0m     \u001b[38;5;28;01mfor\u001b[39;00m i \u001b[38;5;129;01min\u001b[39;00m \u001b[38;5;28mrange\u001b[39m(\u001b[38;5;241m1\u001b[39m,\u001b[38;5;241m21\u001b[39m):\n\u001b[1;32m---> 40\u001b[0m         a \u001b[38;5;241m=\u001b[39m \u001b[43mtablebody\u001b[49m\u001b[38;5;241;43m.\u001b[39;49m\u001b[43mfind_element\u001b[49m\u001b[43m(\u001b[49m\u001b[43mBy\u001b[49m\u001b[38;5;241;43m.\u001b[39;49m\u001b[43mXPATH\u001b[49m\u001b[43m,\u001b[49m\n\u001b[0;32m     41\u001b[0m \u001b[43m        \u001b[49m\u001b[38;5;124;43m'\u001b[39;49m\u001b[38;5;124;43m//*[@id=\u001b[39;49m\u001b[38;5;124;43m\"\u001b[39;49m\u001b[38;5;124;43mcontainer\u001b[39;49m\u001b[38;5;124;43m\"\u001b[39;49m\u001b[38;5;124;43m]/div[3]/article[\u001b[39;49m\u001b[38;5;132;43;01m{}\u001b[39;49;00m\u001b[38;5;124;43m]\u001b[39;49m\u001b[38;5;124;43m'\u001b[39;49m\u001b[38;5;241;43m.\u001b[39;49m\u001b[43mformat\u001b[49m\u001b[43m(\u001b[49m\u001b[43mi\u001b[49m\u001b[43m)\u001b[49m\u001b[43m)\u001b[49m\n\u001b[0;32m     42\u001b[0m         b \u001b[38;5;241m=\u001b[39m a\u001b[38;5;241m.\u001b[39mfind_element(By\u001b[38;5;241m.\u001b[39mTAG_NAME,\n\u001b[0;32m     43\u001b[0m         \u001b[38;5;124m'\u001b[39m\u001b[38;5;124mp\u001b[39m\u001b[38;5;124m'\u001b[39m)\n\u001b[0;32m     44\u001b[0m         titles\u001b[38;5;241m.\u001b[39mappend(b\u001b[38;5;241m.\u001b[39mtext)\n",
      "File \u001b[1;32m~\\anaconda3\\envs\\pknu_nltk\\lib\\site-packages\\selenium\\webdriver\\remote\\webelement.py:425\u001b[0m, in \u001b[0;36mWebElement.find_element\u001b[1;34m(self, by, value)\u001b[0m\n\u001b[0;32m    422\u001b[0m     by \u001b[38;5;241m=\u001b[39m By\u001b[38;5;241m.\u001b[39mCSS_SELECTOR\n\u001b[0;32m    423\u001b[0m     value \u001b[38;5;241m=\u001b[39m \u001b[38;5;124mf\u001b[39m\u001b[38;5;124m'\u001b[39m\u001b[38;5;124m[name=\u001b[39m\u001b[38;5;124m\"\u001b[39m\u001b[38;5;132;01m{\u001b[39;00mvalue\u001b[38;5;132;01m}\u001b[39;00m\u001b[38;5;124m\"\u001b[39m\u001b[38;5;124m]\u001b[39m\u001b[38;5;124m'\u001b[39m\n\u001b[1;32m--> 425\u001b[0m \u001b[38;5;28;01mreturn\u001b[39;00m \u001b[38;5;28;43mself\u001b[39;49m\u001b[38;5;241;43m.\u001b[39;49m\u001b[43m_execute\u001b[49m\u001b[43m(\u001b[49m\u001b[43mCommand\u001b[49m\u001b[38;5;241;43m.\u001b[39;49m\u001b[43mFIND_CHILD_ELEMENT\u001b[49m\u001b[43m,\u001b[49m\u001b[43m \u001b[49m\u001b[43m{\u001b[49m\u001b[38;5;124;43m\"\u001b[39;49m\u001b[38;5;124;43musing\u001b[39;49m\u001b[38;5;124;43m\"\u001b[39;49m\u001b[43m:\u001b[49m\u001b[43m \u001b[49m\u001b[43mby\u001b[49m\u001b[43m,\u001b[49m\u001b[43m \u001b[49m\u001b[38;5;124;43m\"\u001b[39;49m\u001b[38;5;124;43mvalue\u001b[39;49m\u001b[38;5;124;43m\"\u001b[39;49m\u001b[43m:\u001b[49m\u001b[43m \u001b[49m\u001b[43mvalue\u001b[49m\u001b[43m}\u001b[49m\u001b[43m)\u001b[49m[\u001b[38;5;124m\"\u001b[39m\u001b[38;5;124mvalue\u001b[39m\u001b[38;5;124m\"\u001b[39m]\n",
      "File \u001b[1;32m~\\anaconda3\\envs\\pknu_nltk\\lib\\site-packages\\selenium\\webdriver\\remote\\webelement.py:403\u001b[0m, in \u001b[0;36mWebElement._execute\u001b[1;34m(self, command, params)\u001b[0m\n\u001b[0;32m    401\u001b[0m     params \u001b[38;5;241m=\u001b[39m {}\n\u001b[0;32m    402\u001b[0m params[\u001b[38;5;124m\"\u001b[39m\u001b[38;5;124mid\u001b[39m\u001b[38;5;124m\"\u001b[39m] \u001b[38;5;241m=\u001b[39m \u001b[38;5;28mself\u001b[39m\u001b[38;5;241m.\u001b[39m_id\n\u001b[1;32m--> 403\u001b[0m \u001b[38;5;28;01mreturn\u001b[39;00m \u001b[38;5;28;43mself\u001b[39;49m\u001b[38;5;241;43m.\u001b[39;49m\u001b[43m_parent\u001b[49m\u001b[38;5;241;43m.\u001b[39;49m\u001b[43mexecute\u001b[49m\u001b[43m(\u001b[49m\u001b[43mcommand\u001b[49m\u001b[43m,\u001b[49m\u001b[43m \u001b[49m\u001b[43mparams\u001b[49m\u001b[43m)\u001b[49m\n",
      "File \u001b[1;32m~\\anaconda3\\envs\\pknu_nltk\\lib\\site-packages\\selenium\\webdriver\\remote\\webdriver.py:440\u001b[0m, in \u001b[0;36mWebDriver.execute\u001b[1;34m(self, driver_command, params)\u001b[0m\n\u001b[0;32m    438\u001b[0m response \u001b[38;5;241m=\u001b[39m \u001b[38;5;28mself\u001b[39m\u001b[38;5;241m.\u001b[39mcommand_executor\u001b[38;5;241m.\u001b[39mexecute(driver_command, params)\n\u001b[0;32m    439\u001b[0m \u001b[38;5;28;01mif\u001b[39;00m response:\n\u001b[1;32m--> 440\u001b[0m     \u001b[38;5;28;43mself\u001b[39;49m\u001b[38;5;241;43m.\u001b[39;49m\u001b[43merror_handler\u001b[49m\u001b[38;5;241;43m.\u001b[39;49m\u001b[43mcheck_response\u001b[49m\u001b[43m(\u001b[49m\u001b[43mresponse\u001b[49m\u001b[43m)\u001b[49m\n\u001b[0;32m    441\u001b[0m     response[\u001b[38;5;124m\"\u001b[39m\u001b[38;5;124mvalue\u001b[39m\u001b[38;5;124m\"\u001b[39m] \u001b[38;5;241m=\u001b[39m \u001b[38;5;28mself\u001b[39m\u001b[38;5;241m.\u001b[39m_unwrap_value(response\u001b[38;5;241m.\u001b[39mget(\u001b[38;5;124m\"\u001b[39m\u001b[38;5;124mvalue\u001b[39m\u001b[38;5;124m\"\u001b[39m, \u001b[38;5;28;01mNone\u001b[39;00m))\n\u001b[0;32m    442\u001b[0m     \u001b[38;5;28;01mreturn\u001b[39;00m response\n",
      "File \u001b[1;32m~\\anaconda3\\envs\\pknu_nltk\\lib\\site-packages\\selenium\\webdriver\\remote\\errorhandler.py:245\u001b[0m, in \u001b[0;36mErrorHandler.check_response\u001b[1;34m(self, response)\u001b[0m\n\u001b[0;32m    243\u001b[0m         alert_text \u001b[38;5;241m=\u001b[39m value[\u001b[38;5;124m\"\u001b[39m\u001b[38;5;124malert\u001b[39m\u001b[38;5;124m\"\u001b[39m]\u001b[38;5;241m.\u001b[39mget(\u001b[38;5;124m\"\u001b[39m\u001b[38;5;124mtext\u001b[39m\u001b[38;5;124m\"\u001b[39m)\n\u001b[0;32m    244\u001b[0m     \u001b[38;5;28;01mraise\u001b[39;00m exception_class(message, screen, stacktrace, alert_text)  \u001b[38;5;66;03m# type: ignore[call-arg]  # mypy is not smart enough here\u001b[39;00m\n\u001b[1;32m--> 245\u001b[0m \u001b[38;5;28;01mraise\u001b[39;00m exception_class(message, screen, stacktrace)\n",
      "\u001b[1;31mNoSuchElementException\u001b[0m: Message: no such element: Unable to locate element: {\"method\":\"xpath\",\"selector\":\"//*[@id=\"container\"]/div[3]/article[1]\"}\n  (Session info: chrome=110.0.5481.77)\nStacktrace:\nBacktrace:\n\t(No symbol) [0x00AC6643]\n\t(No symbol) [0x00A5BE21]\n\t(No symbol) [0x0095DA9D]\n\t(No symbol) [0x00991342]\n\t(No symbol) [0x0099147B]\n\t(No symbol) [0x009864C1]\n\t(No symbol) [0x009AFDC4]\n\t(No symbol) [0x0098641F]\n\t(No symbol) [0x009B00D4]\n\t(No symbol) [0x009C6B09]\n\t(No symbol) [0x009AFB76]\n\t(No symbol) [0x009849C1]\n\t(No symbol) [0x00985E5D]\n\tGetHandleVerifier [0x00D3A142+2497106]\n\tGetHandleVerifier [0x00D685D3+2686691]\n\tGetHandleVerifier [0x00D6BB9C+2700460]\n\tGetHandleVerifier [0x00B73B10+635936]\n\t(No symbol) [0x00A64A1F]\n\t(No symbol) [0x00A6A418]\n\t(No symbol) [0x00A6A505]\n\t(No symbol) [0x00A7508B]\n\tBaseThreadInitThunk [0x75B000F9+25]\n\tRtlGetAppContainerNamedObjectPath [0x77197BBE+286]\n\tRtlGetAppContainerNamedObjectPath [0x77197B8E+238]\n"
     ]
    }
   ],
   "source": [
    "# 패키지\n",
    "from selenium import webdriver\n",
    "from selenium.webdriver.common.by import By\n",
    "\n",
    "# 크롬드라이버 다운 - 버전 주의\n",
    "# 프로그램에서 실행\n",
    "\n",
    "driver = webdriver.Chrome('chrome_109_driver.exe')\n",
    "\n",
    "# url 주소 전달\n",
    "url = \"https://everytime.kr/\"\n",
    "driver.get(url)\n",
    "driver.maximize_window()\n",
    "\n",
    "loginButton_1 = driver.find_element(By.XPATH,\n",
    "    '/html/body/aside/div[1]/a[2]')\n",
    "loginButton_1.click()\n",
    "\n",
    "id = driver.find_element(By.NAME,'userid')\n",
    "password = driver.find_element(By.NAME,'password')\n",
    "\n",
    "id.send_keys('pgw7120')\n",
    "password.send_keys('awdfaf0409')\n",
    "\n",
    "loginButton_2 = driver.find_element(By.XPATH,\n",
    "    '//*[@id=\"container\"]/form/p[3]/input')\n",
    "loginButton_2.click()\n",
    "\n",
    "newboard = driver.find_element(By.XPATH,\n",
    "    '//*[@id=\"submenu\"]/div/div[2]/ul/li[4]/a')\n",
    "newboard.click()\n",
    "\n",
    "tablebody =driver.find_element(By.XPATH,\n",
    "    '//*[@id=\"container\"]')\n",
    "\n",
    "titles = []\n",
    "\n",
    "\n",
    "for i in range(1,21):\n",
    "    a = tablebody.find_element(By.XPATH,\n",
    "    '//*[@id=\"container\"]/div[3]/article[{}]'.format(i))\n",
    "    b = a.find_element(By.TAG_NAME,\n",
    "    'p')\n",
    "    titles.append(b.text)\n",
    "\n",
    "nextbt = driver.find_element(By.XPATH,\n",
    "    '//*[@id=\"container\"]/div[3]/div[2]/a')\n",
    "nextbt.click()"
   ]
  },
  {
   "cell_type": "code",
   "execution_count": 53,
   "id": "67efbc86",
   "metadata": {},
   "outputs": [],
   "source": [
    "//*[@id=\"container\"]/div[3]/article[5]"
   ]
  },
  {
   "cell_type": "code",
   "execution_count": null,
   "id": "0c774b45",
   "metadata": {},
   "outputs": [],
   "source": []
  },
  {
   "cell_type": "code",
   "execution_count": null,
   "id": "bcd04acd",
   "metadata": {},
   "outputs": [],
   "source": []
  },
  {
   "cell_type": "code",
   "execution_count": null,
   "id": "5ab74072",
   "metadata": {},
   "outputs": [],
   "source": []
  },
  {
   "cell_type": "code",
   "execution_count": null,
   "id": "5407f37b",
   "metadata": {},
   "outputs": [],
   "source": []
  },
  {
   "cell_type": "code",
   "execution_count": null,
   "id": "a08329d8",
   "metadata": {},
   "outputs": [],
   "source": []
  },
  {
   "cell_type": "code",
   "execution_count": null,
   "id": "1fa23a00",
   "metadata": {},
   "outputs": [],
   "source": []
  },
  {
   "cell_type": "code",
   "execution_count": null,
   "id": "20e46d85",
   "metadata": {},
   "outputs": [],
   "source": []
  },
  {
   "cell_type": "code",
   "execution_count": null,
   "id": "f54f5ac8",
   "metadata": {},
   "outputs": [],
   "source": []
  },
  {
   "cell_type": "code",
   "execution_count": null,
   "id": "004eeffc",
   "metadata": {},
   "outputs": [],
   "source": []
  },
  {
   "cell_type": "code",
   "execution_count": null,
   "id": "7c95176e",
   "metadata": {},
   "outputs": [],
   "source": []
  },
  {
   "cell_type": "code",
   "execution_count": null,
   "id": "4b861892",
   "metadata": {},
   "outputs": [],
   "source": []
  },
  {
   "cell_type": "code",
   "execution_count": null,
   "id": "1e434c29",
   "metadata": {},
   "outputs": [],
   "source": []
  },
  {
   "cell_type": "code",
   "execution_count": null,
   "id": "12f2a096",
   "metadata": {},
   "outputs": [],
   "source": []
  }
 ],
 "metadata": {
  "kernelspec": {
   "display_name": "pknu_nltk_kernel",
   "language": "python",
   "name": "pknu_nltk"
  },
  "language_info": {
   "codemirror_mode": {
    "name": "ipython",
    "version": 3
   },
   "file_extension": ".py",
   "mimetype": "text/x-python",
   "name": "python",
   "nbconvert_exporter": "python",
   "pygments_lexer": "ipython3",
   "version": "3.9.16"
  }
 },
 "nbformat": 4,
 "nbformat_minor": 5
}
