{
 "cells": [
  {
   "cell_type": "code",
   "execution_count": 2,
   "id": "022065bf",
   "metadata": {},
   "outputs": [
    {
     "name": "stderr",
     "output_type": "stream",
     "text": [
      "C:\\Users\\Administrator\\AppData\\Local\\Temp\\ipykernel_22160\\2425436213.py:8: DeprecationWarning: executable_path has been deprecated, please pass in a Service object\n",
      "  driver = webdriver.Chrome('chrome_109_driver.exe')\n"
     ]
    },
    {
     "ename": "UnexpectedAlertPresentException",
     "evalue": "Alert Text: 로봇 검사를 확인해주세요!\nMessage: unexpected alert open: {Alert text : 로봇 검사를 확인해주세요!}\n  (Session info: chrome=110.0.5481.177)\nStacktrace:\nBacktrace:\n\t(No symbol) [0x00826643]\n\t(No symbol) [0x007BBE21]\n\t(No symbol) [0x006BDA9D]\n\t(No symbol) [0x007273A5]\n\t(No symbol) [0x0070FB76]\n\t(No symbol) [0x006E49C1]\n\t(No symbol) [0x006E5E5D]\n\tGetHandleVerifier [0x00A9A142+2497106]\n\tGetHandleVerifier [0x00AC85D3+2686691]\n\tGetHandleVerifier [0x00ACBB9C+2700460]\n\tGetHandleVerifier [0x008D3B10+635936]\n\t(No symbol) [0x007C4A1F]\n\t(No symbol) [0x007CA418]\n\t(No symbol) [0x007CA505]\n\t(No symbol) [0x007D508B]\n\tBaseThreadInitThunk [0x75B000F9+25]\n\tRtlGetAppContainerNamedObjectPath [0x77197BBE+286]\n\tRtlGetAppContainerNamedObjectPath [0x77197B8E+238]\n",
     "output_type": "error",
     "traceback": [
      "\u001b[1;31m---------------------------------------------------------------------------\u001b[0m",
      "\u001b[1;31mUnexpectedAlertPresentException\u001b[0m           Traceback (most recent call last)",
      "Cell \u001b[1;32mIn[2], line 29\u001b[0m\n\u001b[0;32m     25\u001b[0m loginButton_2 \u001b[38;5;241m=\u001b[39m driver\u001b[38;5;241m.\u001b[39mfind_element(By\u001b[38;5;241m.\u001b[39mXPATH,\n\u001b[0;32m     26\u001b[0m     \u001b[38;5;124m'\u001b[39m\u001b[38;5;124m//*[@id=\u001b[39m\u001b[38;5;124m\"\u001b[39m\u001b[38;5;124mcontainer\u001b[39m\u001b[38;5;124m\"\u001b[39m\u001b[38;5;124m]/form/p[3]/input\u001b[39m\u001b[38;5;124m'\u001b[39m)\n\u001b[0;32m     27\u001b[0m loginButton_2\u001b[38;5;241m.\u001b[39mclick()\n\u001b[1;32m---> 29\u001b[0m newboard \u001b[38;5;241m=\u001b[39m \u001b[43mdriver\u001b[49m\u001b[38;5;241;43m.\u001b[39;49m\u001b[43mfind_element\u001b[49m\u001b[43m(\u001b[49m\u001b[43mBy\u001b[49m\u001b[38;5;241;43m.\u001b[39;49m\u001b[43mXPATH\u001b[49m\u001b[43m,\u001b[49m\n\u001b[0;32m     30\u001b[0m \u001b[43m    \u001b[49m\u001b[38;5;124;43m'\u001b[39;49m\u001b[38;5;124;43m//*[@id=\u001b[39;49m\u001b[38;5;124;43m\"\u001b[39;49m\u001b[38;5;124;43msubmenu\u001b[39;49m\u001b[38;5;124;43m\"\u001b[39;49m\u001b[38;5;124;43m]/div/div[2]/ul/li[4]/a\u001b[39;49m\u001b[38;5;124;43m'\u001b[39;49m\u001b[43m)\u001b[49m\n\u001b[0;32m     31\u001b[0m newboard\u001b[38;5;241m.\u001b[39mclick()\n\u001b[0;32m     33\u001b[0m tablebody \u001b[38;5;241m=\u001b[39mdriver\u001b[38;5;241m.\u001b[39mfind_element(By\u001b[38;5;241m.\u001b[39mXPATH,\n\u001b[0;32m     34\u001b[0m     \u001b[38;5;124m'\u001b[39m\u001b[38;5;124m//*[@id=\u001b[39m\u001b[38;5;124m\"\u001b[39m\u001b[38;5;124mcontainer\u001b[39m\u001b[38;5;124m\"\u001b[39m\u001b[38;5;124m]\u001b[39m\u001b[38;5;124m'\u001b[39m)\n",
      "File \u001b[1;32m~\\anaconda3\\envs\\pknu_nltk\\lib\\site-packages\\selenium\\webdriver\\remote\\webdriver.py:830\u001b[0m, in \u001b[0;36mWebDriver.find_element\u001b[1;34m(self, by, value)\u001b[0m\n\u001b[0;32m    827\u001b[0m     by \u001b[38;5;241m=\u001b[39m By\u001b[38;5;241m.\u001b[39mCSS_SELECTOR\n\u001b[0;32m    828\u001b[0m     value \u001b[38;5;241m=\u001b[39m \u001b[38;5;124mf\u001b[39m\u001b[38;5;124m'\u001b[39m\u001b[38;5;124m[name=\u001b[39m\u001b[38;5;124m\"\u001b[39m\u001b[38;5;132;01m{\u001b[39;00mvalue\u001b[38;5;132;01m}\u001b[39;00m\u001b[38;5;124m\"\u001b[39m\u001b[38;5;124m]\u001b[39m\u001b[38;5;124m'\u001b[39m\n\u001b[1;32m--> 830\u001b[0m \u001b[38;5;28;01mreturn\u001b[39;00m \u001b[38;5;28;43mself\u001b[39;49m\u001b[38;5;241;43m.\u001b[39;49m\u001b[43mexecute\u001b[49m\u001b[43m(\u001b[49m\u001b[43mCommand\u001b[49m\u001b[38;5;241;43m.\u001b[39;49m\u001b[43mFIND_ELEMENT\u001b[49m\u001b[43m,\u001b[49m\u001b[43m \u001b[49m\u001b[43m{\u001b[49m\u001b[38;5;124;43m\"\u001b[39;49m\u001b[38;5;124;43musing\u001b[39;49m\u001b[38;5;124;43m\"\u001b[39;49m\u001b[43m:\u001b[49m\u001b[43m \u001b[49m\u001b[43mby\u001b[49m\u001b[43m,\u001b[49m\u001b[43m \u001b[49m\u001b[38;5;124;43m\"\u001b[39;49m\u001b[38;5;124;43mvalue\u001b[39;49m\u001b[38;5;124;43m\"\u001b[39;49m\u001b[43m:\u001b[49m\u001b[43m \u001b[49m\u001b[43mvalue\u001b[49m\u001b[43m}\u001b[49m\u001b[43m)\u001b[49m[\u001b[38;5;124m\"\u001b[39m\u001b[38;5;124mvalue\u001b[39m\u001b[38;5;124m\"\u001b[39m]\n",
      "File \u001b[1;32m~\\anaconda3\\envs\\pknu_nltk\\lib\\site-packages\\selenium\\webdriver\\remote\\webdriver.py:440\u001b[0m, in \u001b[0;36mWebDriver.execute\u001b[1;34m(self, driver_command, params)\u001b[0m\n\u001b[0;32m    438\u001b[0m response \u001b[38;5;241m=\u001b[39m \u001b[38;5;28mself\u001b[39m\u001b[38;5;241m.\u001b[39mcommand_executor\u001b[38;5;241m.\u001b[39mexecute(driver_command, params)\n\u001b[0;32m    439\u001b[0m \u001b[38;5;28;01mif\u001b[39;00m response:\n\u001b[1;32m--> 440\u001b[0m     \u001b[38;5;28;43mself\u001b[39;49m\u001b[38;5;241;43m.\u001b[39;49m\u001b[43merror_handler\u001b[49m\u001b[38;5;241;43m.\u001b[39;49m\u001b[43mcheck_response\u001b[49m\u001b[43m(\u001b[49m\u001b[43mresponse\u001b[49m\u001b[43m)\u001b[49m\n\u001b[0;32m    441\u001b[0m     response[\u001b[38;5;124m\"\u001b[39m\u001b[38;5;124mvalue\u001b[39m\u001b[38;5;124m\"\u001b[39m] \u001b[38;5;241m=\u001b[39m \u001b[38;5;28mself\u001b[39m\u001b[38;5;241m.\u001b[39m_unwrap_value(response\u001b[38;5;241m.\u001b[39mget(\u001b[38;5;124m\"\u001b[39m\u001b[38;5;124mvalue\u001b[39m\u001b[38;5;124m\"\u001b[39m, \u001b[38;5;28;01mNone\u001b[39;00m))\n\u001b[0;32m    442\u001b[0m     \u001b[38;5;28;01mreturn\u001b[39;00m response\n",
      "File \u001b[1;32m~\\anaconda3\\envs\\pknu_nltk\\lib\\site-packages\\selenium\\webdriver\\remote\\errorhandler.py:244\u001b[0m, in \u001b[0;36mErrorHandler.check_response\u001b[1;34m(self, response)\u001b[0m\n\u001b[0;32m    242\u001b[0m     \u001b[38;5;28;01melif\u001b[39;00m \u001b[38;5;124m\"\u001b[39m\u001b[38;5;124malert\u001b[39m\u001b[38;5;124m\"\u001b[39m \u001b[38;5;129;01min\u001b[39;00m value:\n\u001b[0;32m    243\u001b[0m         alert_text \u001b[38;5;241m=\u001b[39m value[\u001b[38;5;124m\"\u001b[39m\u001b[38;5;124malert\u001b[39m\u001b[38;5;124m\"\u001b[39m]\u001b[38;5;241m.\u001b[39mget(\u001b[38;5;124m\"\u001b[39m\u001b[38;5;124mtext\u001b[39m\u001b[38;5;124m\"\u001b[39m)\n\u001b[1;32m--> 244\u001b[0m     \u001b[38;5;28;01mraise\u001b[39;00m exception_class(message, screen, stacktrace, alert_text)  \u001b[38;5;66;03m# type: ignore[call-arg]  # mypy is not smart enough here\u001b[39;00m\n\u001b[0;32m    245\u001b[0m \u001b[38;5;28;01mraise\u001b[39;00m exception_class(message, screen, stacktrace)\n",
      "\u001b[1;31mUnexpectedAlertPresentException\u001b[0m: Alert Text: 로봇 검사를 확인해주세요!\nMessage: unexpected alert open: {Alert text : 로봇 검사를 확인해주세요!}\n  (Session info: chrome=110.0.5481.177)\nStacktrace:\nBacktrace:\n\t(No symbol) [0x00826643]\n\t(No symbol) [0x007BBE21]\n\t(No symbol) [0x006BDA9D]\n\t(No symbol) [0x007273A5]\n\t(No symbol) [0x0070FB76]\n\t(No symbol) [0x006E49C1]\n\t(No symbol) [0x006E5E5D]\n\tGetHandleVerifier [0x00A9A142+2497106]\n\tGetHandleVerifier [0x00AC85D3+2686691]\n\tGetHandleVerifier [0x00ACBB9C+2700460]\n\tGetHandleVerifier [0x008D3B10+635936]\n\t(No symbol) [0x007C4A1F]\n\t(No symbol) [0x007CA418]\n\t(No symbol) [0x007CA505]\n\t(No symbol) [0x007D508B]\n\tBaseThreadInitThunk [0x75B000F9+25]\n\tRtlGetAppContainerNamedObjectPath [0x77197BBE+286]\n\tRtlGetAppContainerNamedObjectPath [0x77197B8E+238]\n"
     ]
    }
   ],
   "source": [
    "# 패키지\n",
    "from selenium import webdriver\n",
    "from selenium.webdriver.common.by import By\n",
    "\n",
    "# 크롬드라이버 다운 - 버전 주의\n",
    "# 프로그램에서 실행\n",
    "\n",
    "driver = webdriver.Chrome('chrome_109_driver.exe')\n",
    "\n",
    "# url 주소 전달\n",
    "url = \"https://everytime.kr/\"\n",
    "driver.get(url)\n",
    "driver.maximize_window()\n",
    "\n",
    "loginButton_1 = driver.find_element(By.XPATH,\n",
    "    '/html/body/aside/div[1]/a[2]')\n",
    "loginButton_1.click()\n",
    "\n",
    "id = driver.find_element(By.NAME,'userid')\n",
    "password = driver.find_element(By.NAME,'password')\n",
    "\n",
    "id.send_keys('pgw7120')\n",
    "password.send_keys('awdfaf0409')\n",
    "\n",
    "loginButton_2 = driver.find_element(By.XPATH,\n",
    "    '//*[@id=\"container\"]/form/p[3]/input')\n",
    "loginButton_2.click()\n",
    "\n",
    "newboard = driver.find_element(By.XPATH,\n",
    "    '//*[@id=\"submenu\"]/div/div[2]/ul/li[4]/a')\n",
    "newboard.click()\n",
    "\n",
    "tablebody =driver.find_element(By.XPATH,\n",
    "    '//*[@id=\"container\"]')\n",
    "\n",
    "titles = []\n",
    "\n",
    "\n",
    "for i in range(1,21):\n",
    "    a = tablebody.find_element(By.XPATH,\n",
    "    '//*[@id=\"container\"]/div[3]/article[{}]'.format(i))\n",
    "    b = a.find_element(By.TAG_NAME,\n",
    "    'p')\n",
    "    titles.append(b.text)\n",
    "\n",
    "nextbt = driver.find_element(By.XPATH,\n",
    "    '//*[@id=\"container\"]/div[3]/div[2]/a')\n",
    "nextbt.click()"
   ]
  },
  {
   "cell_type": "code",
   "execution_count": 53,
   "id": "a028de08",
   "metadata": {},
   "outputs": [],
   "source": [
    "//*[@id=\"container\"]/div[3]/article[5]"
   ]
  },
  {
   "cell_type": "code",
   "execution_count": null,
   "id": "4f66e350",
   "metadata": {},
   "outputs": [],
   "source": []
  },
  {
   "cell_type": "code",
   "execution_count": null,
   "id": "bc9bc3e9",
   "metadata": {},
   "outputs": [],
   "source": []
  },
  {
   "cell_type": "code",
   "execution_count": null,
   "id": "46ed1201",
   "metadata": {},
   "outputs": [],
   "source": []
  },
  {
   "cell_type": "code",
   "execution_count": null,
   "id": "a51eb91b",
   "metadata": {},
   "outputs": [],
   "source": []
  },
  {
   "cell_type": "code",
   "execution_count": null,
   "id": "d5d1eab7",
   "metadata": {},
   "outputs": [],
   "source": []
  },
  {
   "cell_type": "code",
   "execution_count": null,
   "id": "fa30aa2d",
   "metadata": {},
   "outputs": [],
   "source": []
  },
  {
   "cell_type": "code",
   "execution_count": null,
   "id": "9e0dd91c",
   "metadata": {},
   "outputs": [],
   "source": []
  },
  {
   "cell_type": "code",
   "execution_count": null,
   "id": "901ec9d2",
   "metadata": {},
   "outputs": [],
   "source": []
  },
  {
   "cell_type": "code",
   "execution_count": null,
   "id": "b49d2230",
   "metadata": {},
   "outputs": [],
   "source": []
  },
  {
   "cell_type": "code",
   "execution_count": null,
   "id": "b2c1234c",
   "metadata": {},
   "outputs": [],
   "source": []
  },
  {
   "cell_type": "code",
   "execution_count": null,
   "id": "9004701c",
   "metadata": {},
   "outputs": [],
   "source": []
  },
  {
   "cell_type": "code",
   "execution_count": null,
   "id": "2a7ceff4",
   "metadata": {},
   "outputs": [],
   "source": []
  },
  {
   "cell_type": "code",
   "execution_count": null,
   "id": "88cc152d",
   "metadata": {},
   "outputs": [],
   "source": []
  }
 ],
 "metadata": {
  "kernelspec": {
   "display_name": "pknu_nltk_kernel",
   "language": "python",
   "name": "pknu_nltk"
  },
  "language_info": {
   "codemirror_mode": {
    "name": "ipython",
    "version": 3
   },
   "file_extension": ".py",
   "mimetype": "text/x-python",
   "name": "python",
   "nbconvert_exporter": "python",
   "pygments_lexer": "ipython3",
   "version": "3.9.16"
  }
 },
 "nbformat": 4,
 "nbformat_minor": 5
}
