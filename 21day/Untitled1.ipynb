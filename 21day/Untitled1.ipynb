{
 "cells": [
  {
   "cell_type": "code",
   "execution_count": 3,
   "id": "f4915dee",
   "metadata": {},
   "outputs": [],
   "source": [
    "from selenium import webdriver\n",
    "from selenium.webdriver.common.by import By\n",
    "import time\n",
    "\n",
    "class webCrawling:\n",
    "    # 웹드라이버 변수\n",
    "    driver = \"\"\n",
    "    \n",
    "    # 생성자\n",
    "    def __init__(self,url):\n",
    "        self.url = url\n",
    "    \n",
    "    # 웹크롤링 데이터 조회\n",
    "    def getData(self):\n",
    "        file_path = \"c:/ChromeDriver_exe/chrome_109_driver.exe\"\n",
    "        driver = webdriver.Chrome(file_path)\n",
    "        # url = \"http://www.melon.com/chart/index.htm\"\n",
    "        driver.get(self.url)\n",
    "\n",
    "        titles = driver.find_elements(By.CSS_SELECTOR,\n",
    "                                     \"tr div.ellipsis.rank01 > span > a\")[0:10]\n",
    "        singers = driver.find_elements(By.CSS_SELECTOR,\n",
    "                                     \"tr div.ellipsis.rank02 > a\")[0:10]\n",
    "        melon_list = []\n",
    "        rank = 0\n",
    "        for title, singer in zip(titles, singers):\n",
    "            rank+=1\n",
    "\n",
    "            dict = {'no':rank,'title':title.text,'singer':singer.text}\n",
    "            melon_list.append(dict)\n",
    "            dict = {}\n",
    "        self.driver = driver\n",
    "        return melon_list\n",
    "    \n",
    "    # 웹 드라이버 종료\n",
    "    def webdriver_quit(self):\n",
    "        time.sleep(3)\n",
    "        self.driver.quit()"
   ]
  },
  {
   "cell_type": "code",
   "execution_count": 5,
   "id": "f2750e42",
   "metadata": {},
   "outputs": [
    {
     "name": "stderr",
     "output_type": "stream",
     "text": [
      "C:\\Users\\Administrator\\AppData\\Local\\Temp\\ipykernel_15960\\1395745326.py:16: DeprecationWarning: executable_path has been deprecated, please pass in a Service object\n",
      "  driver = webdriver.Chrome(file_path)\n"
     ]
    },
    {
     "data": {
      "text/plain": [
       "[{'no': 1, 'title': 'Ditto', 'singer': 'NewJeans'},\n",
       " {'no': 2, 'title': 'OMG', 'singer': 'NewJeans'},\n",
       " {'no': 3, 'title': 'Hype boy', 'singer': 'NewJeans'},\n",
       " {'no': 4, 'title': '사건의 지평선', 'singer': '윤하 (YOUNHA)'},\n",
       " {'no': 5, 'title': 'VIBE (feat. Jimin of BTS)', 'singer': '태양'},\n",
       " {'no': 6, 'title': 'Sugar Rush Ride', 'singer': '투모로우바이투게더'},\n",
       " {'no': 7, 'title': 'ANTIFRAGILE', 'singer': 'LE SSERAFIM (르세라핌)'},\n",
       " {'no': 8, 'title': 'Attention', 'singer': 'NewJeans'},\n",
       " {'no': 9, 'title': 'After LIKE', 'singer': 'IVE (아이브)'},\n",
       " {'no': 10, 'title': '사랑은 늘 도망가', 'singer': '임영웅'}]"
      ]
     },
     "execution_count": 5,
     "metadata": {},
     "output_type": "execute_result"
    }
   ],
   "source": [
    "# 클래스 생성\n",
    "wc = webCrawling(\"http://www.melon.com/chart/index.htm\")\n",
    "# 웹크롤링 데이터 조회\n",
    "model_list = wc.getData()\n",
    "#웹드라이버 종료\n",
    "wc.webdriver_quit()\n",
    "\n",
    "# 결과 확인\n",
    "model_list"
   ]
  },
  {
   "cell_type": "code",
   "execution_count": null,
   "id": "d076378b",
   "metadata": {},
   "outputs": [],
   "source": []
  },
  {
   "cell_type": "code",
   "execution_count": null,
   "id": "946f9da2",
   "metadata": {},
   "outputs": [],
   "source": []
  },
  {
   "cell_type": "code",
   "execution_count": null,
   "id": "ca5cac56",
   "metadata": {},
   "outputs": [],
   "source": []
  },
  {
   "cell_type": "code",
   "execution_count": null,
   "id": "281fa096",
   "metadata": {},
   "outputs": [],
   "source": []
  },
  {
   "cell_type": "code",
   "execution_count": null,
   "id": "da3ddd2f",
   "metadata": {},
   "outputs": [],
   "source": []
  },
  {
   "cell_type": "code",
   "execution_count": null,
   "id": "5d91db46",
   "metadata": {},
   "outputs": [],
   "source": []
  },
  {
   "cell_type": "code",
   "execution_count": null,
   "id": "902adf7f",
   "metadata": {},
   "outputs": [],
   "source": []
  },
  {
   "cell_type": "code",
   "execution_count": null,
   "id": "afad997a",
   "metadata": {},
   "outputs": [],
   "source": []
  },
  {
   "cell_type": "code",
   "execution_count": null,
   "id": "1464465b",
   "metadata": {},
   "outputs": [],
   "source": []
  },
  {
   "cell_type": "code",
   "execution_count": null,
   "id": "2caaa82f",
   "metadata": {},
   "outputs": [],
   "source": []
  },
  {
   "cell_type": "code",
   "execution_count": null,
   "id": "cc107679",
   "metadata": {},
   "outputs": [],
   "source": []
  },
  {
   "cell_type": "code",
   "execution_count": null,
   "id": "fd916881",
   "metadata": {},
   "outputs": [],
   "source": []
  },
  {
   "cell_type": "code",
   "execution_count": null,
   "id": "e648ade0",
   "metadata": {},
   "outputs": [],
   "source": []
  }
 ],
 "metadata": {
  "kernelspec": {
   "display_name": "pknu_base_kernel",
   "language": "python",
   "name": "pknu_base"
  },
  "language_info": {
   "codemirror_mode": {
    "name": "ipython",
    "version": 3
   },
   "file_extension": ".py",
   "mimetype": "text/x-python",
   "name": "python",
   "nbconvert_exporter": "python",
   "pygments_lexer": "ipython3",
   "version": "3.9.15"
  }
 },
 "nbformat": 4,
 "nbformat_minor": 5
}
