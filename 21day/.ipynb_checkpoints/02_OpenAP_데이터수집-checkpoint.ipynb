{
 "cells": [
  {
   "cell_type": "code",
   "execution_count": 4,
   "id": "aed7fbf2",
   "metadata": {},
   "outputs": [],
   "source": [
    "from bs4 import BeautifulSoup as bs\n",
    "from pprint import pprint\n",
    "import requests\n",
    "from openpyxl.workbook import Workbook"
   ]
  },
  {
   "cell_type": "code",
   "execution_count": 5,
   "id": "4cdd6087",
   "metadata": {},
   "outputs": [
    {
     "name": "stdout",
     "output_type": "stream",
     "text": [
      "http://openapi.airport.co.kr/service/rest/AirportParkingCongestion/airportParkingCongestionRT?schAirportCode={AirCode}&serviceKey={key}&numOfRows={nrow}&pageNo={pno}\n"
     ]
    }
   ],
   "source": [
    "\"\"\"\n",
    "    http://openapi.airport.co.kr/service/rest/AirportParkingCongestion/airportParkingCongestionRT?schAirportCode=공항코드&serviceKey=인증키&numOfRows=10&pageNo=1\n",
    "\"\"\"\n",
    "# API Key(Encoding 키)\n",
    "apikey = \"KG9HQH8sOT5j5R%2FtnEqZ3T3EIvuHdQ5qcltbY3I%2BskwvxnA0Z4%2FydvuK9jDZXtfH98MDKaAEWn%2FT4PpFPOzPNw%3D%3D\"\n",
    "\n",
    "schAirportCode = [\"GMP\",\"PUS\",\"CJU\",\"TAE\",\"KWJ\",\"RSU\",\"USN\",\"KUV\",\"WJU\",\"CJJ\"]\n",
    "numOfRows = 10\n",
    "pageNo = 1\n",
    "url = \"http://openapi.airport.co.kr/service/rest/AirportParkingCongestion/airportParkingCongestionRT\"\n",
    "url = url + \"?schAirportCode={AirCode}\"\n",
    "url = url + \"&serviceKey={key}\"\n",
    "url = url + \"&numOfRows={nrow}\"\n",
    "url = url + \"&pageNo={pno}\"\n",
    "\n",
    "print(url)"
   ]
  },
  {
   "cell_type": "code",
   "execution_count": 9,
   "id": "df981301",
   "metadata": {},
   "outputs": [
    {
     "name": "stdout",
     "output_type": "stream",
     "text": [
      "[공항명 :  김포국제공항 ]\n",
      "[일자 :  2023-02-01 ]\n",
      "[시간 :  13:18:03 ]\n",
      "[주차장명 :  국내선 제1주차장 ]\n",
      "[주차장 혼잡도 :  원활 ]\n",
      "[주차장 혼자률(%) :  89.38% ]\n",
      "[전체 주차면 수 :  2279 ]\n",
      "[입고된 차량 수 :  2037 ]\n",
      "-----------------------------------\n",
      "[공항명 :  김포국제공항 ]\n",
      "[일자 :  2023-02-01 ]\n",
      "[시간 :  13:18:03 ]\n",
      "[주차장명 :  국내선 제2주차장 ]\n",
      "[주차장 혼잡도 :  원활 ]\n",
      "[주차장 혼자률(%) :  57.82% ]\n",
      "[전체 주차면 수 :  1733 ]\n",
      "[입고된 차량 수 :  1002 ]\n",
      "-----------------------------------\n",
      "[공항명 :  김포국제공항 ]\n",
      "[일자 :  2023-02-01 ]\n",
      "[시간 :  13:18:03 ]\n",
      "[주차장명 :  국제선 주차빌딩 ]\n",
      "[주차장 혼잡도 :  원활 ]\n",
      "[주차장 혼자률(%) :  38.45% ]\n",
      "[전체 주차면 수 :  567 ]\n",
      "[입고된 차량 수 :  218 ]\n",
      "-----------------------------------\n",
      "[공항명 :  김포국제공항 ]\n",
      "[일자 :  2023-02-01 ]\n",
      "[시간 :  13:18:03 ]\n",
      "[주차장명 :  국제선 지하 ]\n",
      "[주차장 혼잡도 :  원활 ]\n",
      "[주차장 혼자률(%) :  86.42% ]\n",
      "[전체 주차면 수 :  1200 ]\n",
      "[입고된 차량 수 :  1037 ]\n",
      "-----------------------------------\n",
      "[공항명 :  김포국제공항 ]\n",
      "[일자 :  2023-02-01 ]\n",
      "[시간 :  13:18:03 ]\n",
      "[주차장명 :  화물청사 ]\n",
      "[주차장 혼잡도 :  만차 ]\n",
      "[주차장 혼자률(%) :  100% ]\n",
      "[전체 주차면 수 :  737 ]\n",
      "[입고된 차량 수 :  737 ]\n",
      "-----------------------------------\n",
      "[공항명 :  김해국제공항 ]\n",
      "[일자 :  2023-02-01 ]\n",
      "[시간 :  13:18:03 ]\n",
      "[주차장명 :  P3 여객(화물) ]\n",
      "[주차장 혼잡도 :  원활 ]\n",
      "[주차장 혼자률(%) :  48.68% ]\n",
      "[전체 주차면 수 :  984 ]\n",
      "[입고된 차량 수 :  479 ]\n",
      "-----------------------------------\n",
      "[공항명 :  김해국제공항 ]\n",
      "[일자 :  2023-02-01 ]\n",
      "[시간 :  13:18:03 ]\n",
      "[주차장명 :  여객주차장(P1+P2) ]\n",
      "[주차장 혼잡도 :  원활 ]\n",
      "[주차장 혼자률(%) :  87.4% ]\n",
      "[전체 주차면 수 :  4468 ]\n",
      "[입고된 차량 수 :  3905 ]\n",
      "-----------------------------------\n",
      "[공항명 :  제주국제공항 ]\n",
      "[일자 :  2023-02-01 ]\n",
      "[시간 :  13:18:03 ]\n",
      "[주차장명 :  여객주차장 ]\n",
      "[주차장 혼잡도 :  만차 ]\n",
      "[주차장 혼자률(%) :  100% ]\n",
      "[전체 주차면 수 :  1737 ]\n",
      "[입고된 차량 수 :  1737 ]\n",
      "-----------------------------------\n",
      "[공항명 :  제주국제공항 ]\n",
      "[일자 :  2023-02-01 ]\n",
      "[시간 :  13:18:03 ]\n",
      "[주차장명 :  화물주차장 ]\n",
      "[주차장 혼잡도 :  만차 ]\n",
      "[주차장 혼자률(%) :  100% ]\n",
      "[전체 주차면 수 :  732 ]\n",
      "[입고된 차량 수 :  732 ]\n",
      "-----------------------------------\n",
      "[공항명 :  대구국제공항 ]\n",
      "[일자 :  2023-02-01 ]\n",
      "[시간 :  13:18:03 ]\n",
      "[주차장명 :  여객주차장 ]\n",
      "[주차장 혼잡도 :  원활 ]\n",
      "[주차장 혼자률(%) :  80.79% ]\n",
      "[전체 주차면 수 :  1395 ]\n",
      "[입고된 차량 수 :  1127 ]\n",
      "-----------------------------------\n",
      "[공항명 :  대구국제공항 ]\n",
      "[일자 :  2023-02-01 ]\n",
      "[시간 :  13:18:03 ]\n",
      "[주차장명 :  화물주차장 ]\n",
      "[주차장 혼잡도 :  혼잡 ]\n",
      "[주차장 혼자률(%) :  92.31% ]\n",
      "[전체 주차면 수 :  13 ]\n",
      "[입고된 차량 수 :  12 ]\n",
      "-----------------------------------\n",
      "[공항명 :  광주공항 ]\n",
      "[일자 :  2023-02-01 ]\n",
      "[시간 :  13:18:03 ]\n",
      "[주차장명 :  여객주차장(제1+제2) ]\n",
      "[주차장 혼잡도 :  원활 ]\n",
      "[주차장 혼자률(%) :  38.44% ]\n",
      "[전체 주차면 수 :  1103 ]\n",
      "[입고된 차량 수 :  424 ]\n",
      "-----------------------------------\n",
      "[공항명 :  여수공항 ]\n",
      "[일자 :  2023-02-01 ]\n",
      "[시간 :  13:18:03 ]\n",
      "[주차장명 :  여객주차장 ]\n",
      "[주차장 혼잡도 :  원활 ]\n",
      "[주차장 혼자률(%) :  63.01% ]\n",
      "[전체 주차면 수 :  611 ]\n",
      "[입고된 차량 수 :  385 ]\n",
      "-----------------------------------\n",
      "[공항명 :  울산공항 ]\n",
      "[일자 :  2023-02-01 ]\n",
      "[시간 :  13:18:03 ]\n",
      "[주차장명 :  여객주차장 ]\n",
      "[주차장 혼잡도 :  원활 ]\n",
      "[주차장 혼자률(%) :  56.61% ]\n",
      "[전체 주차면 수 :  454 ]\n",
      "[입고된 차량 수 :  257 ]\n",
      "-----------------------------------\n",
      "[공항명 :  군산공항 ]\n",
      "[일자 :  2023-02-01 ]\n",
      "[시간 :  13:18:03 ]\n",
      "[주차장명 :  여객주차장 ]\n",
      "[주차장 혼잡도 :  원활 ]\n",
      "[주차장 혼자률(%) :  76.23% ]\n",
      "[전체 주차면 수 :  467 ]\n",
      "[입고된 차량 수 :  356 ]\n",
      "-----------------------------------\n",
      "[공항명 :  원주공항 ]\n",
      "[일자 :  2023-02-01 ]\n",
      "[시간 :  13:18:03 ]\n",
      "[주차장명 :  여객주차장 ]\n",
      "[주차장 혼잡도 :  혼잡 ]\n",
      "[주차장 혼자률(%) :  90% ]\n",
      "[전체 주차면 수 :  140 ]\n",
      "[입고된 차량 수 :  126 ]\n",
      "-----------------------------------\n",
      "[공항명 :  청주국제공항 ]\n",
      "[일자 :  2023-02-01 ]\n",
      "[시간 :  13:18:03 ]\n",
      "[주차장명 :  여객 제1주차장 ]\n",
      "[주차장 혼잡도 :  만차 ]\n",
      "[주차장 혼자률(%) :  99.32% ]\n",
      "[전체 주차면 수 :  2201 ]\n",
      "[입고된 차량 수 :  2186 ]\n",
      "-----------------------------------\n",
      "[공항명 :  청주국제공항 ]\n",
      "[일자 :  2023-02-01 ]\n",
      "[시간 :  13:18:03 ]\n",
      "[주차장명 :  여객 제2주차장 ]\n",
      "[주차장 혼잡도 :  원활 ]\n",
      "[주차장 혼자률(%) :  57.85% ]\n",
      "[전체 주차면 수 :  1694 ]\n",
      "[입고된 차량 수 :  980 ]\n",
      "-----------------------------------\n"
     ]
    }
   ],
   "source": [
    "# 요청 프로그램 만들기\n",
    "cnt = 0\n",
    "for aircode in schAirportCode:\n",
    "    # url 포맷 정의\n",
    "    api = url.format(AirCode = aircode,\n",
    "                     key = apikey,\n",
    "                     nrow = numOfRows,\n",
    "                     pno = pageNo)\n",
    "    # 한국공학공사 서버로 요청과 동시에 응답받기\n",
    "    rs_data = requests.get(api)\n",
    "    # print(rs_data)\n",
    "    # 응답결과를 텍스트로 전환하기\n",
    "    rs_text = rs_data.text\n",
    "    # print(rs_text)\n",
    "    # HTML document type으로 전환하기\n",
    "    rs_html = bs(rs_text, \"html.parser\")\n",
    "    # print(rs_html)\n",
    "    # print(rs_html.find_all(\"airportkor\"))\n",
    "    \n",
    "    # [0]은 하나만 나오게함\n",
    "    # 각 공항별 전체 주차장별 혼잡도 조회\n",
    "    for i in range(len(rs_html.find_all(\"parkingairportcodename\"))):\n",
    "        #print(\"[주차장 수] : \", len(rs_html.find_all(\"parkingairportcodename\")))\n",
    "        print(\"[공항명 : \", rs_html.find_all(\"airportkor\")[i].text, \"]\")\n",
    "        print(\"[일자 : \", rs_html.find_all(\"sysgetdate\")[i].text, \"]\")\n",
    "        print(\"[시간 : \", rs_html.find_all(\"sysgettime\")[i].text, \"]\")\n",
    "        print(\"[주차장명 : \", rs_html.find_all(\"parkingairportcodename\")[i].text, \"]\")\n",
    "        print(\"[주차장 혼잡도 : \", rs_html.find_all(\"parkingcongestion\")[i].text, \"]\")\n",
    "        print(\"[주차장 혼자률(%) : \", rs_html.find_all(\"parkingcongestiondegree\")[i].text, \"]\")\n",
    "        print(\"[전체 주차면 수 : \", rs_html.find_all(\"parkingtotalspace\")[i].text, \"]\")\n",
    "        print(\"[입고된 차량 수 : \", rs_html.find_all(\"parkingoccupiedspace\")[i].text, \"]\")\n",
    "        print(\"-----------------------------------\")"
   ]
  },
  {
   "cell_type": "code",
   "execution_count": null,
   "id": "de1be6f0",
   "metadata": {},
   "outputs": [],
   "source": []
  },
  {
   "cell_type": "code",
   "execution_count": null,
   "id": "e4112555",
   "metadata": {},
   "outputs": [],
   "source": []
  },
  {
   "cell_type": "code",
   "execution_count": null,
   "id": "15f286ea",
   "metadata": {},
   "outputs": [],
   "source": []
  },
  {
   "cell_type": "code",
   "execution_count": null,
   "id": "f54f2603",
   "metadata": {},
   "outputs": [],
   "source": []
  },
  {
   "cell_type": "code",
   "execution_count": null,
   "id": "d9b72c60",
   "metadata": {},
   "outputs": [],
   "source": []
  },
  {
   "cell_type": "code",
   "execution_count": null,
   "id": "c796def6",
   "metadata": {},
   "outputs": [],
   "source": []
  },
  {
   "cell_type": "code",
   "execution_count": null,
   "id": "394c0cc0",
   "metadata": {},
   "outputs": [],
   "source": []
  },
  {
   "cell_type": "code",
   "execution_count": null,
   "id": "d68e343e",
   "metadata": {},
   "outputs": [],
   "source": []
  },
  {
   "cell_type": "code",
   "execution_count": null,
   "id": "77ed9b07",
   "metadata": {},
   "outputs": [],
   "source": []
  },
  {
   "cell_type": "code",
   "execution_count": null,
   "id": "e7f30e62",
   "metadata": {},
   "outputs": [],
   "source": []
  },
  {
   "cell_type": "code",
   "execution_count": null,
   "id": "b3fd62e1",
   "metadata": {},
   "outputs": [],
   "source": []
  },
  {
   "cell_type": "code",
   "execution_count": null,
   "id": "abf63180",
   "metadata": {},
   "outputs": [],
   "source": []
  },
  {
   "cell_type": "code",
   "execution_count": null,
   "id": "258ca605",
   "metadata": {},
   "outputs": [],
   "source": []
  },
  {
   "cell_type": "code",
   "execution_count": null,
   "id": "b221397b",
   "metadata": {},
   "outputs": [],
   "source": []
  },
  {
   "cell_type": "code",
   "execution_count": null,
   "id": "366ec33c",
   "metadata": {},
   "outputs": [],
   "source": []
  },
  {
   "cell_type": "code",
   "execution_count": null,
   "id": "b1bc5edc",
   "metadata": {},
   "outputs": [],
   "source": []
  },
  {
   "cell_type": "code",
   "execution_count": null,
   "id": "85d94386",
   "metadata": {},
   "outputs": [],
   "source": []
  },
  {
   "cell_type": "code",
   "execution_count": null,
   "id": "1e962214",
   "metadata": {},
   "outputs": [],
   "source": []
  },
  {
   "cell_type": "code",
   "execution_count": null,
   "id": "fc08a734",
   "metadata": {},
   "outputs": [],
   "source": []
  },
  {
   "cell_type": "code",
   "execution_count": null,
   "id": "450201bf",
   "metadata": {},
   "outputs": [],
   "source": []
  },
  {
   "cell_type": "code",
   "execution_count": null,
   "id": "0d543a54",
   "metadata": {},
   "outputs": [],
   "source": []
  },
  {
   "cell_type": "code",
   "execution_count": null,
   "id": "fd6dca6f",
   "metadata": {},
   "outputs": [],
   "source": []
  },
  {
   "cell_type": "code",
   "execution_count": null,
   "id": "25f76029",
   "metadata": {},
   "outputs": [],
   "source": []
  },
  {
   "cell_type": "code",
   "execution_count": null,
   "id": "dd52a5d8",
   "metadata": {},
   "outputs": [],
   "source": []
  },
  {
   "cell_type": "code",
   "execution_count": null,
   "id": "6ac4cd71",
   "metadata": {},
   "outputs": [],
   "source": []
  },
  {
   "cell_type": "code",
   "execution_count": null,
   "id": "59bb5fc6",
   "metadata": {},
   "outputs": [],
   "source": []
  },
  {
   "cell_type": "code",
   "execution_count": null,
   "id": "eabf880b",
   "metadata": {},
   "outputs": [],
   "source": []
  },
  {
   "cell_type": "code",
   "execution_count": null,
   "id": "80490222",
   "metadata": {},
   "outputs": [],
   "source": []
  },
  {
   "cell_type": "code",
   "execution_count": null,
   "id": "a24bf0c3",
   "metadata": {},
   "outputs": [],
   "source": []
  },
  {
   "cell_type": "code",
   "execution_count": null,
   "id": "c57e53bd",
   "metadata": {},
   "outputs": [],
   "source": []
  },
  {
   "cell_type": "code",
   "execution_count": null,
   "id": "58b8f226",
   "metadata": {},
   "outputs": [],
   "source": []
  },
  {
   "cell_type": "code",
   "execution_count": null,
   "id": "7360164a",
   "metadata": {},
   "outputs": [],
   "source": []
  },
  {
   "cell_type": "code",
   "execution_count": null,
   "id": "591c6471",
   "metadata": {},
   "outputs": [],
   "source": []
  },
  {
   "cell_type": "code",
   "execution_count": null,
   "id": "2a341a1e",
   "metadata": {},
   "outputs": [],
   "source": []
  },
  {
   "cell_type": "code",
   "execution_count": null,
   "id": "0c62a6fb",
   "metadata": {},
   "outputs": [],
   "source": []
  },
  {
   "cell_type": "code",
   "execution_count": null,
   "id": "fc4bdab4",
   "metadata": {},
   "outputs": [],
   "source": []
  },
  {
   "cell_type": "code",
   "execution_count": null,
   "id": "20b6d49e",
   "metadata": {},
   "outputs": [],
   "source": []
  },
  {
   "cell_type": "code",
   "execution_count": null,
   "id": "b9549376",
   "metadata": {},
   "outputs": [],
   "source": []
  },
  {
   "cell_type": "code",
   "execution_count": null,
   "id": "f2819b52",
   "metadata": {},
   "outputs": [],
   "source": []
  },
  {
   "cell_type": "code",
   "execution_count": null,
   "id": "82e1e89e",
   "metadata": {},
   "outputs": [],
   "source": []
  },
  {
   "cell_type": "code",
   "execution_count": null,
   "id": "e9c752ac",
   "metadata": {},
   "outputs": [],
   "source": []
  },
  {
   "cell_type": "code",
   "execution_count": null,
   "id": "e7bf0f77",
   "metadata": {},
   "outputs": [],
   "source": []
  },
  {
   "cell_type": "code",
   "execution_count": null,
   "id": "88ebeae8",
   "metadata": {},
   "outputs": [],
   "source": []
  },
  {
   "cell_type": "code",
   "execution_count": null,
   "id": "274ac0f2",
   "metadata": {},
   "outputs": [],
   "source": []
  },
  {
   "cell_type": "code",
   "execution_count": null,
   "id": "06b0970d",
   "metadata": {},
   "outputs": [],
   "source": []
  },
  {
   "cell_type": "code",
   "execution_count": null,
   "id": "a716b3ce",
   "metadata": {},
   "outputs": [],
   "source": []
  },
  {
   "cell_type": "code",
   "execution_count": null,
   "id": "259d3b33",
   "metadata": {},
   "outputs": [],
   "source": []
  },
  {
   "cell_type": "code",
   "execution_count": null,
   "id": "3171753c",
   "metadata": {},
   "outputs": [],
   "source": []
  },
  {
   "cell_type": "code",
   "execution_count": null,
   "id": "ff021249",
   "metadata": {},
   "outputs": [],
   "source": []
  },
  {
   "cell_type": "code",
   "execution_count": null,
   "id": "9b439cd2",
   "metadata": {},
   "outputs": [],
   "source": []
  },
  {
   "cell_type": "code",
   "execution_count": null,
   "id": "2df71459",
   "metadata": {},
   "outputs": [],
   "source": []
  },
  {
   "cell_type": "code",
   "execution_count": null,
   "id": "5e706b22",
   "metadata": {},
   "outputs": [],
   "source": []
  },
  {
   "cell_type": "code",
   "execution_count": null,
   "id": "3edb2627",
   "metadata": {},
   "outputs": [],
   "source": []
  },
  {
   "cell_type": "code",
   "execution_count": null,
   "id": "ffedf6bc",
   "metadata": {},
   "outputs": [],
   "source": []
  }
 ],
 "metadata": {
  "kernelspec": {
   "display_name": "pknu_base_kernel",
   "language": "python",
   "name": "pknu_base"
  },
  "language_info": {
   "codemirror_mode": {
    "name": "ipython",
    "version": 3
   },
   "file_extension": ".py",
   "mimetype": "text/x-python",
   "name": "python",
   "nbconvert_exporter": "python",
   "pygments_lexer": "ipython3",
   "version": "3.9.15"
  }
 },
 "nbformat": 4,
 "nbformat_minor": 5
}
