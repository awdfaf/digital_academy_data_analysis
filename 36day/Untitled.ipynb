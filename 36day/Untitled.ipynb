{
 "cells": [
  {
   "cell_type": "code",
   "execution_count": null,
   "id": "9f6a7ea0",
   "metadata": {},
   "outputs": [],
   "source": [
    "# 토큰화"
   ]
  },
  {
   "cell_type": "code",
   "execution_count": 20,
   "id": "9252ceb0",
   "metadata": {},
   "outputs": [],
   "source": [
    "# 1. (영어) 단어 토큰화\n",
    "\n",
    "# 패키지 불러들이기\n",
    "from nltk.tokenize import word_tokenize\n",
    "from nltk.tokenize import WordPunctTokenizer\n",
    "from tensorflow.keras.preprocessing.text import text_to_word_sequence"
   ]
  },
  {
   "cell_type": "code",
   "execution_count": 23,
   "id": "efd39981",
   "metadata": {},
   "outputs": [],
   "source": [
    "# 단어 토큰화 방법\n",
    "text = \"\"\"\n",
    "Don't be fooled by the dark sounding name.\n",
    "Mr.Jone's Orphange is as cheery as cheery goes\n",
    "for a pastry shop.\n",
    "\"\"\""
   ]
  },
  {
   "cell_type": "code",
   "execution_count": 21,
   "id": "df1dac38",
   "metadata": {},
   "outputs": [
    {
     "name": "stdout",
     "output_type": "stream",
     "text": [
      "['String', 'a', 'home-based', '.', 'Do', \"n't\", 'be', 'fooled', 'by', 'the', 'dark', 'sounding', 'name', '.', 'Mr.Jone', \"'s\", 'Orphange', 'is', 'as', 'cheery', 'as', 'cheery', 'goes', 'for', 'a', 'pastry', 'shop', '.']\n"
     ]
    }
   ],
   "source": [
    "# 작은 따옴표가 있는 하나의 단어를 따로 분리\n",
    "# Don't는 하나의 단어로 취급해야함\n",
    "word_token = word_tokenize(text)\n",
    "print(word_token)"
   ]
  },
  {
   "cell_type": "code",
   "execution_count": 24,
   "id": "54a23715",
   "metadata": {},
   "outputs": [
    {
     "name": "stdout",
     "output_type": "stream",
     "text": [
      "['Don', \"'\", 't', 'be', 'fooled', 'by', 'the', 'dark', 'sounding', 'name', '.', 'Mr', '.', 'Jone', \"'\", 's', 'Orphange', 'is', 'as', 'cheery', 'as', 'cheery', 'goes', 'for', 'a', 'pastry', 'shop', '.']\n"
     ]
    }
   ],
   "source": [
    "word_token = wordpunct_tokenize(text)\n",
    "print(word_token)"
   ]
  },
  {
   "cell_type": "code",
   "execution_count": 9,
   "id": "99d1d60c",
   "metadata": {},
   "outputs": [
    {
     "name": "stdout",
     "output_type": "stream",
     "text": [
      "[\"don't\", 'be', 'fooled', 'by', 'the', 'dark', 'sounding', 'name', 'mr', \"jone's\", 'orphange', 'is', 'as', 'cheery', 'as', 'cheery', 'goes', 'for', 'a', 'pastry', 'shop']\n"
     ]
    }
   ],
   "source": [
    "# 케라스 라이브러리 사용\n",
    "word_token = text_to_word_sequence(text)\n",
    "print(word_token)"
   ]
  },
  {
   "cell_type": "code",
   "execution_count": null,
   "id": "01d9aaea",
   "metadata": {},
   "outputs": [],
   "source": []
  },
  {
   "cell_type": "code",
   "execution_count": 15,
   "id": "6eea8c1d",
   "metadata": {},
   "outputs": [],
   "source": [
    "# 표준토큰화 방법\n",
    "from nltk.tokenize import TreebankWordTokenizer"
   ]
  },
  {
   "cell_type": "code",
   "execution_count": 25,
   "id": "b77aad54",
   "metadata": {},
   "outputs": [],
   "source": [
    "text = \"\"\"\n",
    "String a home-based. Don't be fooled by the dark sounding name.\n",
    "Mr.Jone's Orphange is as cheery as cheery goes\n",
    "for a pastry shop.\n",
    "\"\"\""
   ]
  },
  {
   "cell_type": "code",
   "execution_count": 26,
   "id": "465cbcf1",
   "metadata": {},
   "outputs": [
    {
     "name": "stdout",
     "output_type": "stream",
     "text": [
      "['String', 'a', 'home-based.', 'Do', \"n't\", 'be', 'fooled', 'by', 'the', 'dark', 'sounding', 'name.', 'Mr.Jone', \"'s\", 'Orphange', 'is', 'as', 'cheery', 'as', 'cheery', 'goes', 'for', 'a', 'pastry', 'shop', '.']\n"
     ]
    }
   ],
   "source": [
    "# <TreebankWordTokenizer>\n",
    "# 표준으로 쓰이는 토큰화 방법중 하나\n",
    "# 아래 규칙을 준수할 수 있음\n",
    "# 1. 하이푼(-)으로 구성된 단어는 하나로 유지\n",
    "# 2. Don't와 같이 작은 따옴표로 합쳐진 단어는 분리\n",
    "\n",
    "tokenizer = TreebankWordTokenizer()\n",
    "word_token = tokenizer.tokenize(text)\n",
    "print(word_token)"
   ]
  },
  {
   "cell_type": "code",
   "execution_count": 28,
   "id": "23516b3e",
   "metadata": {},
   "outputs": [
    {
     "name": "stdout",
     "output_type": "stream",
     "text": [
      "['His barber kept his word.', 'But keeping such a huge secret to himself was\\ndriving him crazy.', 'Finally, the barber went up a mountain and almost to the edge of\\na cliff.', 'He dug a hole in the midst of some reeds.', 'He looked about, to make sure\\n no one was near.']\n"
     ]
    }
   ],
   "source": [
    "# 2. (영어) 문장 토큰화\n",
    "\n",
    "from nltk.tokenize import sent_tokenize\n",
    "\n",
    "text = \"\"\"His barber kept his word. But keeping such a huge secret to himself was\n",
    "driving him crazy. Finally, the barber went up a mountain and almost to the edge of\n",
    "a cliff. He dug a hole in the midst of some reeds. He looked about, to make sure\n",
    " no one was near.\"\"\"\n",
    "\n",
    "# 마침표 기준으로 분리시킴\n",
    "sent_token = sent_tokenize(text)\n",
    "print(sent_token)"
   ]
  },
  {
   "cell_type": "code",
   "execution_count": 29,
   "id": "98459190",
   "metadata": {},
   "outputs": [
    {
     "name": "stdout",
     "output_type": "stream",
     "text": [
      "['I am actively looking for Ph.D. student.', 'His barber kept his word.', 'But keeping such a huge secret to himself was\\ndriving him crazy.', 'Finally, the barber went up a mountain and almost to the edge of\\na cliff.', 'He dug a hole in the midst of some reeds.', 'He looked about, to make sure\\n no one was near.']\n"
     ]
    }
   ],
   "source": [
    "text = \"\"\"I am actively looking for Ph.D. student.\n",
    "His barber kept his word. But keeping such a huge secret to himself was\n",
    "driving him crazy. Finally, the barber went up a mountain and almost to the edge of\n",
    "a cliff. He dug a hole in the midst of some reeds. He looked about, to make sure\n",
    " no one was near.\"\"\"\n",
    "\n",
    "# 마침표 기준으로 분리시킴\n",
    "sent_token = sent_tokenize(text)\n",
    "print(sent_token)"
   ]
  },
  {
   "cell_type": "code",
   "execution_count": 33,
   "id": "ff9d837b",
   "metadata": {},
   "outputs": [],
   "source": [
    "# kss 사용 패키지 : pip install mecab kss\n",
    "import kss\n",
    "\n",
    "# <kss(Korean Sentence Splitter)>\n",
    "# 한국어 형태소 분석기\n",
    "# kss는 C++프로그래밍으로 만들어져 있음\n",
    "# 빠른 처리 속도를 위해 mecab를 함께 설치 사용"
   ]
  },
  {
   "cell_type": "code",
   "execution_count": 40,
   "id": "eddf47b8",
   "metadata": {},
   "outputs": [],
   "source": [
    "text = \"\"\"딥 러닝 자연어 처리가 재미있기는 합니다. 정말? 그런데 문제는 \n",
    "영어보다 한국어로 할 때 너무 어렵습니다. 이제 해보죠~! 어렵네요.\"\"\""
   ]
  },
  {
   "cell_type": "code",
   "execution_count": 41,
   "id": "7f285e92",
   "metadata": {
    "scrolled": false
   },
   "outputs": [
    {
     "name": "stdout",
     "output_type": "stream",
     "text": [
      "['딥 러닝 자연어 처리가 재미있기는 합니다.', '정말? 그런데 문제는 \\n영어보다 한국어로 할 때 너무 어렵습니다.', '이제 해보죠~!', '어렵네요.']\n"
     ]
    }
   ],
   "source": [
    "# \n",
    "kss_token = kss.split_sentences(text)\n",
    "print(kss_token)"
   ]
  },
  {
   "cell_type": "code",
   "execution_count": 46,
   "id": "e4115d9f",
   "metadata": {},
   "outputs": [],
   "source": [
    "# NLTK 품사 토큰화하기\n",
    "\n",
    "from nltk.tokenize import word_tokenize\n",
    "from nltk.tag import pos_tag"
   ]
  },
  {
   "cell_type": "code",
   "execution_count": 43,
   "id": "a71e45b0",
   "metadata": {},
   "outputs": [],
   "source": [
    "text = \"\"\"I am actively looking for Ph.D.\n",
    "students. and you are a Ph.D. student.\"\"\""
   ]
  },
  {
   "cell_type": "code",
   "execution_count": 44,
   "id": "c1b9d82c",
   "metadata": {},
   "outputs": [
    {
     "name": "stdout",
     "output_type": "stream",
     "text": [
      "['I', 'am', 'actively', 'looking', 'for', 'Ph.D.', 'students', '.', 'and', 'you', 'are', 'a', 'Ph.D.', 'student', '.']\n"
     ]
    }
   ],
   "source": [
    "# 단어 토큰화 하기\n",
    "tokenized_sentence = word_tokenize(text)\n",
    "print(tokenized_sentence)"
   ]
  },
  {
   "cell_type": "code",
   "execution_count": 49,
   "id": "f518471d",
   "metadata": {},
   "outputs": [
    {
     "name": "stdout",
     "output_type": "stream",
     "text": [
      "[('I', 'PRP'), ('am', 'VBP'), ('actively', 'RB'), ('looking', 'VBG'), ('for', 'IN'), ('Ph.D.', 'NNP'), ('students', 'NNS'), ('.', '.'), ('and', 'CC'), ('you', 'PRP'), ('are', 'VBP'), ('a', 'DT'), ('Ph.D.', 'NNP'), ('student', 'NN'), ('.', '.')]\n"
     ]
    }
   ],
   "source": [
    "# 품사 토큰화\n",
    "pos_token = pos_tag(tokenized_sentence)\n",
    "print(pos_token)"
   ]
  },
  {
   "cell_type": "code",
   "execution_count": 48,
   "id": "ccf0fc24",
   "metadata": {},
   "outputs": [
    {
     "name": "stderr",
     "output_type": "stream",
     "text": [
      "[nltk_data] Downloading package averaged_perceptron_tagger to\n",
      "[nltk_data]     C:\\Users\\Administrator\\AppData\\Roaming\\nltk_data...\n",
      "[nltk_data]   Unzipping taggers\\averaged_perceptron_tagger.zip.\n"
     ]
    },
    {
     "data": {
      "text/plain": [
       "True"
      ]
     },
     "execution_count": 48,
     "metadata": {},
     "output_type": "execute_result"
    }
   ],
   "source": [
    "import nltk\n",
    "nltk.download('averaged_perceptron_tagger')"
   ]
  },
  {
   "cell_type": "code",
   "execution_count": null,
   "id": "f9e9c217",
   "metadata": {},
   "outputs": [],
   "source": [
    "# PRP : 인칭대명사\n",
    "# VBP : 동사\n",
    "# RB : 부사\n",
    "# VBG : 현재부사\n",
    "# IN : 전치사\n",
    "# NNP: 고유 명사\n",
    "# NNS : 복수형 명사\n",
    "# CC : 접속사\n",
    "# DT : 관사"
   ]
  },
  {
   "cell_type": "code",
   "execution_count": 50,
   "id": "fb6b1520",
   "metadata": {},
   "outputs": [],
   "source": [
    "from konlpy.tag import Okt"
   ]
  },
  {
   "cell_type": "code",
   "execution_count": 53,
   "id": "52b8abc3",
   "metadata": {},
   "outputs": [],
   "source": [
    "text = \"\"\"열심히 코딩한 당신, 연휴에는 여행을 가보아요.\"\"\""
   ]
  },
  {
   "cell_type": "code",
   "execution_count": 54,
   "id": "0fcfe1d1",
   "metadata": {},
   "outputs": [
    {
     "name": "stdout",
     "output_type": "stream",
     "text": [
      "['열심히', '코딩', '한', '당신', ',', '연휴', '에는', '여행', '을', '가보아요', '.']\n"
     ]
    }
   ],
   "source": [
    "okt = Okt()\n",
    "morphs_okt = okt.morphs(text)\n",
    "print(morphs_okt)"
   ]
  },
  {
   "cell_type": "code",
   "execution_count": 55,
   "id": "2f159b95",
   "metadata": {},
   "outputs": [
    {
     "name": "stdout",
     "output_type": "stream",
     "text": [
      "[('열심히', 'Adverb'), ('코딩', 'Noun'), ('한', 'Josa'), ('당신', 'Noun'), (',', 'Punctuation'), ('연휴', 'Noun'), ('에는', 'Josa'), ('여행', 'Noun'), ('을', 'Josa'), ('가보아요', 'Verb'), ('.', 'Punctuation')]\n"
     ]
    }
   ],
   "source": [
    "# 품사 태깅 : 형태소와 품사를 포함해 분류\n",
    "post_okt = okt.pos(text)\n",
    "print(post_okt)"
   ]
  },
  {
   "cell_type": "code",
   "execution_count": 56,
   "id": "831d49c7",
   "metadata": {},
   "outputs": [
    {
     "name": "stdout",
     "output_type": "stream",
     "text": [
      "['코딩', '당신', '연휴', '여행']\n"
     ]
    }
   ],
   "source": [
    "# 명사 추출\n",
    "nouns_okt = okt.nouns(text)\n",
    "print(nouns_okt)"
   ]
  },
  {
   "cell_type": "code",
   "execution_count": 57,
   "id": "42b1f699",
   "metadata": {},
   "outputs": [],
   "source": [
    "from konlpy.tag import Kkma"
   ]
  },
  {
   "cell_type": "code",
   "execution_count": 58,
   "id": "e139dde4",
   "metadata": {},
   "outputs": [
    {
     "name": "stdout",
     "output_type": "stream",
     "text": [
      "['열심히', '코딩', '하', 'ㄴ', '당신', ',', '연휴', '에', '는', '여행', '을', '가보', '아요', '.']\n"
     ]
    }
   ],
   "source": [
    "kkma = Kkma()\n",
    "\n",
    "# 형태소 분석\n",
    "morphs_kkma = kkma.morphs(text)\n",
    "print(morphs_kkma)"
   ]
  },
  {
   "cell_type": "code",
   "execution_count": 59,
   "id": "25799fbb",
   "metadata": {},
   "outputs": [
    {
     "name": "stdout",
     "output_type": "stream",
     "text": [
      "[('열심히', 'MAG'), ('코딩', 'NNG'), ('하', 'XSV'), ('ㄴ', 'ETD'), ('당신', 'NP'), (',', 'SP'), ('연휴', 'NNG'), ('에', 'JKM'), ('는', 'JX'), ('여행', 'NNG'), ('을', 'JKO'), ('가보', 'VV'), ('아요', 'EFN'), ('.', 'SF')]\n"
     ]
    }
   ],
   "source": [
    "# 품사 태깅\n",
    "pos_kkma = kkma.pos(text)\n",
    "print(pos_kkma)"
   ]
  },
  {
   "cell_type": "code",
   "execution_count": 60,
   "id": "b75319b1",
   "metadata": {},
   "outputs": [
    {
     "name": "stdout",
     "output_type": "stream",
     "text": [
      "['코딩', '당신', '연휴', '여행']\n"
     ]
    }
   ],
   "source": [
    "# 명사 추출\n",
    "nouns_kkma = kkma.nouns(text)\n",
    "print(nouns_kkma)"
   ]
  },
  {
   "cell_type": "code",
   "execution_count": null,
   "id": "c8d048f0",
   "metadata": {},
   "outputs": [],
   "source": []
  },
  {
   "cell_type": "code",
   "execution_count": null,
   "id": "447555f5",
   "metadata": {},
   "outputs": [],
   "source": []
  },
  {
   "cell_type": "code",
   "execution_count": null,
   "id": "0394a61d",
   "metadata": {},
   "outputs": [],
   "source": []
  },
  {
   "cell_type": "code",
   "execution_count": null,
   "id": "3d9ae26e",
   "metadata": {},
   "outputs": [],
   "source": []
  },
  {
   "cell_type": "code",
   "execution_count": null,
   "id": "0fc5b931",
   "metadata": {},
   "outputs": [],
   "source": []
  },
  {
   "cell_type": "code",
   "execution_count": null,
   "id": "6791797e",
   "metadata": {},
   "outputs": [],
   "source": []
  },
  {
   "cell_type": "code",
   "execution_count": null,
   "id": "f925a51e",
   "metadata": {},
   "outputs": [],
   "source": []
  },
  {
   "cell_type": "code",
   "execution_count": null,
   "id": "3379283f",
   "metadata": {},
   "outputs": [],
   "source": []
  },
  {
   "cell_type": "code",
   "execution_count": null,
   "id": "33dc0533",
   "metadata": {},
   "outputs": [],
   "source": []
  },
  {
   "cell_type": "code",
   "execution_count": null,
   "id": "0ab5d4d4",
   "metadata": {},
   "outputs": [],
   "source": []
  },
  {
   "cell_type": "code",
   "execution_count": null,
   "id": "5d440cb4",
   "metadata": {},
   "outputs": [],
   "source": []
  },
  {
   "cell_type": "code",
   "execution_count": null,
   "id": "681f807a",
   "metadata": {},
   "outputs": [],
   "source": []
  },
  {
   "cell_type": "code",
   "execution_count": null,
   "id": "aa918b08",
   "metadata": {},
   "outputs": [],
   "source": []
  },
  {
   "cell_type": "code",
   "execution_count": null,
   "id": "c3b6f03c",
   "metadata": {},
   "outputs": [],
   "source": []
  },
  {
   "cell_type": "code",
   "execution_count": null,
   "id": "a358a713",
   "metadata": {},
   "outputs": [],
   "source": []
  },
  {
   "cell_type": "code",
   "execution_count": null,
   "id": "80cce861",
   "metadata": {},
   "outputs": [],
   "source": []
  },
  {
   "cell_type": "code",
   "execution_count": null,
   "id": "a7f0e367",
   "metadata": {},
   "outputs": [],
   "source": []
  },
  {
   "cell_type": "code",
   "execution_count": null,
   "id": "fa0de20d",
   "metadata": {},
   "outputs": [],
   "source": []
  },
  {
   "cell_type": "code",
   "execution_count": null,
   "id": "09a54524",
   "metadata": {},
   "outputs": [],
   "source": []
  },
  {
   "cell_type": "code",
   "execution_count": null,
   "id": "5c02df2d",
   "metadata": {},
   "outputs": [],
   "source": []
  },
  {
   "cell_type": "code",
   "execution_count": null,
   "id": "5d074c0d",
   "metadata": {},
   "outputs": [],
   "source": []
  },
  {
   "cell_type": "code",
   "execution_count": null,
   "id": "f91b7ef5",
   "metadata": {},
   "outputs": [],
   "source": []
  },
  {
   "cell_type": "code",
   "execution_count": null,
   "id": "a5f215f6",
   "metadata": {},
   "outputs": [],
   "source": []
  },
  {
   "cell_type": "code",
   "execution_count": null,
   "id": "f374b263",
   "metadata": {},
   "outputs": [],
   "source": []
  },
  {
   "cell_type": "code",
   "execution_count": null,
   "id": "159918b1",
   "metadata": {},
   "outputs": [],
   "source": []
  },
  {
   "cell_type": "code",
   "execution_count": null,
   "id": "31a291e3",
   "metadata": {},
   "outputs": [],
   "source": []
  },
  {
   "cell_type": "code",
   "execution_count": null,
   "id": "78c1bc0b",
   "metadata": {},
   "outputs": [],
   "source": []
  },
  {
   "cell_type": "code",
   "execution_count": null,
   "id": "6c3d3d78",
   "metadata": {},
   "outputs": [],
   "source": []
  },
  {
   "cell_type": "code",
   "execution_count": null,
   "id": "60173510",
   "metadata": {},
   "outputs": [],
   "source": []
  },
  {
   "cell_type": "code",
   "execution_count": null,
   "id": "9e51ca1a",
   "metadata": {},
   "outputs": [],
   "source": []
  }
 ],
 "metadata": {
  "kernelspec": {
   "display_name": "pknu_nltk_kernel",
   "language": "python",
   "name": "pknu_nltk"
  },
  "language_info": {
   "codemirror_mode": {
    "name": "ipython",
    "version": 3
   },
   "file_extension": ".py",
   "mimetype": "text/x-python",
   "name": "python",
   "nbconvert_exporter": "python",
   "pygments_lexer": "ipython3",
   "version": "3.9.16"
  }
 },
 "nbformat": 4,
 "nbformat_minor": 5
}
