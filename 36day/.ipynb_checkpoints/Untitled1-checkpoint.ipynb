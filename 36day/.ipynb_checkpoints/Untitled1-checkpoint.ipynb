{
 "cells": [
  {
   "cell_type": "code",
   "execution_count": 17,
   "id": "9e315ef0",
   "metadata": {},
   "outputs": [],
   "source": [
    "# 정제 작업과 정규화 작업은 하나라고 봄\n",
    "# 정규화 작업 시 주로 사용되는 방법 : 정규표현식을 이용한 방법이 주로 사용\n",
    "\n",
    "# 정규표현식 라이브러리 \n",
    "import re\n",
    "\n",
    "# 텍스트 데이터 정의\n",
    "text = \"I was wondering if anyone out there could enlighten me on this car\""
   ]
  },
  {
   "cell_type": "code",
   "execution_count": 11,
   "id": "28647484",
   "metadata": {},
   "outputs": [],
   "source": [
    "# 단어의 길이가 1 또는 2인 단어를 제외\n",
    "from nltk.tokenize import word_tokenize\n",
    "text2 = word_tokenize(text)\n",
    "a = []\n",
    "for i in text2:\n",
    "    if len(i) > 2:\n",
    "        a.append(i)"
   ]
  },
  {
   "cell_type": "code",
   "execution_count": 13,
   "id": "6c5619b9",
   "metadata": {},
   "outputs": [
    {
     "data": {
      "text/plain": [
       "['was',\n",
       " 'wondering',\n",
       " 'anyone',\n",
       " 'out',\n",
       " 'there',\n",
       " 'could',\n",
       " 'enlighten',\n",
       " 'this',\n",
       " 'car']"
      ]
     },
     "execution_count": 13,
     "metadata": {},
     "output_type": "execute_result"
    }
   ],
   "source": [
    "a"
   ]
  },
  {
   "cell_type": "code",
   "execution_count": 14,
   "id": "b118a440",
   "metadata": {},
   "outputs": [
    {
     "data": {
      "text/plain": [
       "['I',\n",
       " 'was',\n",
       " 'wondering',\n",
       " 'if',\n",
       " 'anyone',\n",
       " 'out',\n",
       " 'there',\n",
       " 'could',\n",
       " 'enlighten',\n",
       " 'me',\n",
       " 'on',\n",
       " 'this',\n",
       " 'car']"
      ]
     },
     "execution_count": 14,
     "metadata": {},
     "output_type": "execute_result"
    }
   ],
   "source": [
    "text.split()"
   ]
  },
  {
   "cell_type": "code",
   "execution_count": 19,
   "id": "05044032",
   "metadata": {},
   "outputs": [
    {
     "name": "stdout",
     "output_type": "stream",
     "text": [
      " was wondering anyone out there could enlighten this car\n"
     ]
    }
   ],
   "source": [
    "### 정규표현식을 이용하여 1~2자리 단어 제외시키기\n",
    "# \\\\ : 단어(a-z, A-Z, 0-9)가 아닌 모든 문자\n",
    "# \\w : 단어 문자\n",
    "# \\b : 시작과 끝을 의미\n",
    "shortword = re.compile(r\"\\W*\\b\\w{1,2}\\b\")\n",
    "# sub() : 첫번째 인자를 text로 변환\n",
    "# 첫번째 인자에 아무것도 없기 때문에 정규표현식 규칙을 적용한 내용 그대로 출력\n",
    "text2 = shortword.sub(\"\", text)\n",
    "print(text2)"
   ]
  },
  {
   "cell_type": "code",
   "execution_count": null,
   "id": "1ea9dac3",
   "metadata": {},
   "outputs": [],
   "source": []
  },
  {
   "cell_type": "code",
   "execution_count": null,
   "id": "2218ec36",
   "metadata": {},
   "outputs": [],
   "source": []
  },
  {
   "cell_type": "code",
   "execution_count": null,
   "id": "6f41e3d8",
   "metadata": {},
   "outputs": [],
   "source": []
  },
  {
   "cell_type": "code",
   "execution_count": null,
   "id": "5521ec92",
   "metadata": {},
   "outputs": [],
   "source": []
  },
  {
   "cell_type": "code",
   "execution_count": null,
   "id": "f8c92451",
   "metadata": {},
   "outputs": [],
   "source": []
  },
  {
   "cell_type": "code",
   "execution_count": null,
   "id": "d83b5a52",
   "metadata": {},
   "outputs": [],
   "source": []
  },
  {
   "cell_type": "code",
   "execution_count": null,
   "id": "b7744bf3",
   "metadata": {},
   "outputs": [],
   "source": []
  },
  {
   "cell_type": "code",
   "execution_count": null,
   "id": "29b8e136",
   "metadata": {},
   "outputs": [],
   "source": []
  },
  {
   "cell_type": "code",
   "execution_count": null,
   "id": "470f5ffc",
   "metadata": {},
   "outputs": [],
   "source": []
  },
  {
   "cell_type": "code",
   "execution_count": null,
   "id": "14b84a73",
   "metadata": {},
   "outputs": [],
   "source": []
  },
  {
   "cell_type": "code",
   "execution_count": null,
   "id": "9de84322",
   "metadata": {},
   "outputs": [],
   "source": []
  },
  {
   "cell_type": "code",
   "execution_count": null,
   "id": "0d062806",
   "metadata": {},
   "outputs": [],
   "source": []
  },
  {
   "cell_type": "code",
   "execution_count": null,
   "id": "d2dd2a7d",
   "metadata": {},
   "outputs": [],
   "source": []
  },
  {
   "cell_type": "code",
   "execution_count": null,
   "id": "6eb09d39",
   "metadata": {},
   "outputs": [],
   "source": []
  }
 ],
 "metadata": {
  "kernelspec": {
   "display_name": "pknu_nltk_kernel",
   "language": "python",
   "name": "pknu_nltk"
  },
  "language_info": {
   "codemirror_mode": {
    "name": "ipython",
    "version": 3
   },
   "file_extension": ".py",
   "mimetype": "text/x-python",
   "name": "python",
   "nbconvert_exporter": "python",
   "pygments_lexer": "ipython3",
   "version": "3.9.16"
  }
 },
 "nbformat": 4,
 "nbformat_minor": 5
}
